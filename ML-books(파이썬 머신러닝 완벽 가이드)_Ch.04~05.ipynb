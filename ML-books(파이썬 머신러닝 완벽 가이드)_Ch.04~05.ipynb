{
 "cells": [
  {
   "cell_type": "markdown",
   "id": "e885721a",
   "metadata": {},
   "source": [
    "# Chapter 04. 분류\n",
    "지도학습 : 명시적인 정답이 있는 데이터가 주어진 상태에서 학습하는 머신러닝 방식    \n",
    "분류 : 학습 데이터로 주어진 데이터의 피처와 레이블값을 머신러닝 알고리즘으로 학습해 모델을 생성하고, 이렇게 생성된 모델에 새로운 데이터 값이 주어졌을 때 미지의 레이블 값을 예측하는 것.\n",
    "\n",
    "## 결정트리\n",
    "ML 알고리즘 중 직관적으로 이해하기 쉬운 알고리즘으로 데이터에 있는 규칙을 학습을 통해 자동으로 찾아내 트리 기반의 분류 규칙을 만드는 것.    \n",
    "새로운 규칙 조건마다 서브트리가 생성. 데이터 세트에 피처가 있고 이러한 피처가 결합해 규칙 조건을 만들 때마다 규칙 노드가 만들어짐. 깊이가 깊어질수록 결정 트리의 예측 성능은 저하될 가능성이 높음.    \n",
    "\n",
    "__정보의 균일도를 측정하는 방법__\n",
    "* __정보 이득__ : 엔트로피라는 개념을 기반. \n",
    "    - 엔트로피는 주어진 데이터 집합의 혼잡도 의미.(서로 다른 값이 섞여 있으면 엔트로피 높음/같은 값이 섞여 있으면 엔트로피 낮음)    \n",
    "    - 정보 이득 지수 : 1-엔트로피 지수. 결정 트리는 정보 이득이 높은 속성을 기준으로 분할.\n",
    "* __지니 계수__ : 불평등 지수로 지니 계수가 낮을수록 데이터 균일도가 높음. 지니 계수가 낮은 속성을 기준으로 분할.\n",
    "\n",
    "__결정 트리 모델의 특징__\n",
    "- 장점 : '균일도'를 기반으로 하고 있어 알고리즘이 쉽고 직관적임. 정보의 균일도만 신경쓰면 되므로 각 피처의 스케일링과 정규화 같은 전처리 작업이 필요 없음.\n",
    "- 단점 : 정확도가 떨어짐. 트리 깊이가 커지고 복잡할수록 예측 성능이 떨어지므로 트리의 크기를 사전에 제한하는 것이 성능 튜닝에 도움.\n",
    "\n",
    "__결정 트리 파라미터__\n",
    "* __min_samples_split__ :     \n",
    "    노드를 분할하기 위한 최소한의 샘플 데이터 수로 과적합을 제어하는 데 사용.    \n",
    "    Default = 2, 작게 설정할수록 분할되는 노드가 많아져 과적합 가능성 증가.\n",
    "* __min_samples_leaf__ :    \n",
    "    말단 노드가 되기 위한 최소한의 샘플 데이터 수    \n",
    "    과적합 제어 용도. 비대칭적 데이터의 경우 특정 클래스의 데이터가 극도로 작을 수 있어 이 경우 작게 설정 필요\n",
    "* __max_features__ :    \n",
    "    최적의 분할을 위해 고려할 최대 피처 개수. default=None : 데이터 세트의 모든 피처를 사용해 분할.\n",
    "    int형 : 대상 피처의 개수 / float형 : 전체 피처 중 대상 피처의 퍼센트\n",
    "    'sqrt' : sqrt(전체 피처 개수) / 'auto' : sqrt와 동일\n",
    "    'log : 전체 피처 중 log2(전체 피처 개수) 선정\n",
    "* __max_depth__ : \n",
    "    트리의 최대 깊이 규정\n",
    "    default=None : 완벽하게 클래스 결정 값이 될 떄까지 깊이를 계속 키우며 분할 혹은 노드가 가지는 데이터 개수가 min_samples_split보다 작아질 때까지 계속 깊이를 증가.\n",
    "    깊이가 깊어지면 min_samples_split 설정대로 최대 분할하여 과적합할 수 있으므로 적절한 값으로 제어 필요.\n",
    "* __max_leaf_nodes__ :    \n",
    "    말단 노드의 최대 개수\n",
    "\n",
    "__결정 트리 모델 시각화(Graphviz)__"
   ]
  },
  {
   "cell_type": "code",
   "execution_count": 4,
   "id": "803b4c09",
   "metadata": {},
   "outputs": [
    {
     "data": {
      "text/html": [
       "<style>#sk-container-id-1 {color: black;background-color: white;}#sk-container-id-1 pre{padding: 0;}#sk-container-id-1 div.sk-toggleable {background-color: white;}#sk-container-id-1 label.sk-toggleable__label {cursor: pointer;display: block;width: 100%;margin-bottom: 0;padding: 0.3em;box-sizing: border-box;text-align: center;}#sk-container-id-1 label.sk-toggleable__label-arrow:before {content: \"▸\";float: left;margin-right: 0.25em;color: #696969;}#sk-container-id-1 label.sk-toggleable__label-arrow:hover:before {color: black;}#sk-container-id-1 div.sk-estimator:hover label.sk-toggleable__label-arrow:before {color: black;}#sk-container-id-1 div.sk-toggleable__content {max-height: 0;max-width: 0;overflow: hidden;text-align: left;background-color: #f0f8ff;}#sk-container-id-1 div.sk-toggleable__content pre {margin: 0.2em;color: black;border-radius: 0.25em;background-color: #f0f8ff;}#sk-container-id-1 input.sk-toggleable__control:checked~div.sk-toggleable__content {max-height: 200px;max-width: 100%;overflow: auto;}#sk-container-id-1 input.sk-toggleable__control:checked~label.sk-toggleable__label-arrow:before {content: \"▾\";}#sk-container-id-1 div.sk-estimator input.sk-toggleable__control:checked~label.sk-toggleable__label {background-color: #d4ebff;}#sk-container-id-1 div.sk-label input.sk-toggleable__control:checked~label.sk-toggleable__label {background-color: #d4ebff;}#sk-container-id-1 input.sk-hidden--visually {border: 0;clip: rect(1px 1px 1px 1px);clip: rect(1px, 1px, 1px, 1px);height: 1px;margin: -1px;overflow: hidden;padding: 0;position: absolute;width: 1px;}#sk-container-id-1 div.sk-estimator {font-family: monospace;background-color: #f0f8ff;border: 1px dotted black;border-radius: 0.25em;box-sizing: border-box;margin-bottom: 0.5em;}#sk-container-id-1 div.sk-estimator:hover {background-color: #d4ebff;}#sk-container-id-1 div.sk-parallel-item::after {content: \"\";width: 100%;border-bottom: 1px solid gray;flex-grow: 1;}#sk-container-id-1 div.sk-label:hover label.sk-toggleable__label {background-color: #d4ebff;}#sk-container-id-1 div.sk-serial::before {content: \"\";position: absolute;border-left: 1px solid gray;box-sizing: border-box;top: 0;bottom: 0;left: 50%;z-index: 0;}#sk-container-id-1 div.sk-serial {display: flex;flex-direction: column;align-items: center;background-color: white;padding-right: 0.2em;padding-left: 0.2em;position: relative;}#sk-container-id-1 div.sk-item {position: relative;z-index: 1;}#sk-container-id-1 div.sk-parallel {display: flex;align-items: stretch;justify-content: center;background-color: white;position: relative;}#sk-container-id-1 div.sk-item::before, #sk-container-id-1 div.sk-parallel-item::before {content: \"\";position: absolute;border-left: 1px solid gray;box-sizing: border-box;top: 0;bottom: 0;left: 50%;z-index: -1;}#sk-container-id-1 div.sk-parallel-item {display: flex;flex-direction: column;z-index: 1;position: relative;background-color: white;}#sk-container-id-1 div.sk-parallel-item:first-child::after {align-self: flex-end;width: 50%;}#sk-container-id-1 div.sk-parallel-item:last-child::after {align-self: flex-start;width: 50%;}#sk-container-id-1 div.sk-parallel-item:only-child::after {width: 0;}#sk-container-id-1 div.sk-dashed-wrapped {border: 1px dashed gray;margin: 0 0.4em 0.5em 0.4em;box-sizing: border-box;padding-bottom: 0.4em;background-color: white;}#sk-container-id-1 div.sk-label label {font-family: monospace;font-weight: bold;display: inline-block;line-height: 1.2em;}#sk-container-id-1 div.sk-label-container {text-align: center;}#sk-container-id-1 div.sk-container {/* jupyter's `normalize.less` sets `[hidden] { display: none; }` but bootstrap.min.css set `[hidden] { display: none !important; }` so we also need the `!important` here to be able to override the default hidden behavior on the sphinx rendered scikit-learn.org. See: https://github.com/scikit-learn/scikit-learn/issues/21755 */display: inline-block !important;position: relative;}#sk-container-id-1 div.sk-text-repr-fallback {display: none;}</style><div id=\"sk-container-id-1\" class=\"sk-top-container\"><div class=\"sk-text-repr-fallback\"><pre>DecisionTreeClassifier(random_state=156)</pre><b>In a Jupyter environment, please rerun this cell to show the HTML representation or trust the notebook. <br />On GitHub, the HTML representation is unable to render, please try loading this page with nbviewer.org.</b></div><div class=\"sk-container\" hidden><div class=\"sk-item\"><div class=\"sk-estimator sk-toggleable\"><input class=\"sk-toggleable__control sk-hidden--visually\" id=\"sk-estimator-id-1\" type=\"checkbox\" checked><label for=\"sk-estimator-id-1\" class=\"sk-toggleable__label sk-toggleable__label-arrow\">DecisionTreeClassifier</label><div class=\"sk-toggleable__content\"><pre>DecisionTreeClassifier(random_state=156)</pre></div></div></div></div></div>"
      ],
      "text/plain": [
       "DecisionTreeClassifier(random_state=156)"
      ]
     },
     "execution_count": 4,
     "metadata": {},
     "output_type": "execute_result"
    }
   ],
   "source": [
    "from sklearn.tree import DecisionTreeClassifier\n",
    "from sklearn.datasets import load_iris\n",
    "from sklearn.model_selection import train_test_split\n",
    "import warnings\n",
    "warnings.filterwarnings('ignore')\n",
    "\n",
    "# DecisionTree Classifier 생성\n",
    "dt_clf = DecisionTreeClassifier(random_state=156)\n",
    "\n",
    "# 붓꽃 데이터를 로딩하고, 학습과 테스트 데이터 셋으로 분리\n",
    "iris_data = load_iris()\n",
    "X_train, X_test, y_train, y_test = train_test_split(iris_data.data, iris_data.target, test_size=0.2, random_state=11)\n",
    "\n",
    "# DecisionTree Classifier 학습\n",
    "dt_clf.fit(X_train,y_train)"
   ]
  },
  {
   "cell_type": "code",
   "execution_count": 6,
   "id": "a60a0c22",
   "metadata": {},
   "outputs": [],
   "source": [
    "from sklearn.tree import export_graphviz\n",
    "\n",
    "# export_graphviz()의 호출 결과로 out_file로 지정된 tree.dot 파일 생성\n",
    "export_graphviz(dt_clf, out_file='tree_dot', class_names=iris_data.target_names, feature_names=iris_data.feature_names, \n",
    "                impurity=True, filled=True)"
   ]
  },
  {
   "cell_type": "code",
   "execution_count": 8,
   "id": "8d942de9",
   "metadata": {},
   "outputs": [
    {
     "data": {
      "image/svg+xml": [
       "<?xml version=\"1.0\" encoding=\"UTF-8\" standalone=\"no\"?>\n",
       "<!DOCTYPE svg PUBLIC \"-//W3C//DTD SVG 1.1//EN\"\n",
       " \"http://www.w3.org/Graphics/SVG/1.1/DTD/svg11.dtd\">\n",
       "<!-- Generated by graphviz version 3.0.0 (20220226.1711)\n",
       " -->\n",
       "<!-- Title: Tree Pages: 1 -->\n",
       "<svg width=\"811pt\" height=\"671pt\"\n",
       " viewBox=\"0.00 0.00 811.00 671.00\" xmlns=\"http://www.w3.org/2000/svg\" xmlns:xlink=\"http://www.w3.org/1999/xlink\">\n",
       "<g id=\"graph0\" class=\"graph\" transform=\"scale(1 1) rotate(0) translate(4 667)\">\n",
       "<title>Tree</title>\n",
       "<polygon fill=\"white\" stroke=\"transparent\" points=\"-4,4 -4,-667 807,-667 807,4 -4,4\"/>\n",
       "<!-- 0 -->\n",
       "<g id=\"node1\" class=\"node\">\n",
       "<title>0</title>\n",
       "<polygon fill=\"#fffdfd\" stroke=\"black\" points=\"296.5,-663 122.5,-663 122.5,-580 296.5,-580 296.5,-663\"/>\n",
       "<text text-anchor=\"middle\" x=\"209.5\" y=\"-647.8\" font-family=\"Helvetica,sans-Serif\" font-size=\"14.00\">petal length (cm) &lt;= 2.45</text>\n",
       "<text text-anchor=\"middle\" x=\"209.5\" y=\"-632.8\" font-family=\"Helvetica,sans-Serif\" font-size=\"14.00\">gini = 0.667</text>\n",
       "<text text-anchor=\"middle\" x=\"209.5\" y=\"-617.8\" font-family=\"Helvetica,sans-Serif\" font-size=\"14.00\">samples = 120</text>\n",
       "<text text-anchor=\"middle\" x=\"209.5\" y=\"-602.8\" font-family=\"Helvetica,sans-Serif\" font-size=\"14.00\">value = [41, 40, 39]</text>\n",
       "<text text-anchor=\"middle\" x=\"209.5\" y=\"-587.8\" font-family=\"Helvetica,sans-Serif\" font-size=\"14.00\">class = setosa</text>\n",
       "</g>\n",
       "<!-- 1 -->\n",
       "<g id=\"node2\" class=\"node\">\n",
       "<title>1</title>\n",
       "<polygon fill=\"#e58139\" stroke=\"black\" points=\"189,-536.5 68,-536.5 68,-468.5 189,-468.5 189,-536.5\"/>\n",
       "<text text-anchor=\"middle\" x=\"128.5\" y=\"-521.3\" font-family=\"Helvetica,sans-Serif\" font-size=\"14.00\">gini = 0.0</text>\n",
       "<text text-anchor=\"middle\" x=\"128.5\" y=\"-506.3\" font-family=\"Helvetica,sans-Serif\" font-size=\"14.00\">samples = 41</text>\n",
       "<text text-anchor=\"middle\" x=\"128.5\" y=\"-491.3\" font-family=\"Helvetica,sans-Serif\" font-size=\"14.00\">value = [41, 0, 0]</text>\n",
       "<text text-anchor=\"middle\" x=\"128.5\" y=\"-476.3\" font-family=\"Helvetica,sans-Serif\" font-size=\"14.00\">class = setosa</text>\n",
       "</g>\n",
       "<!-- 0&#45;&gt;1 -->\n",
       "<g id=\"edge1\" class=\"edge\">\n",
       "<title>0&#45;&gt;1</title>\n",
       "<path fill=\"none\" stroke=\"black\" d=\"M181.4,-579.91C173.61,-568.65 165.14,-556.42 157.3,-545.11\"/>\n",
       "<polygon fill=\"black\" stroke=\"black\" points=\"160.03,-542.9 151.46,-536.67 154.28,-546.88 160.03,-542.9\"/>\n",
       "<text text-anchor=\"middle\" x=\"146.99\" y=\"-557.56\" font-family=\"Helvetica,sans-Serif\" font-size=\"14.00\">True</text>\n",
       "</g>\n",
       "<!-- 2 -->\n",
       "<g id=\"node3\" class=\"node\">\n",
       "<title>2</title>\n",
       "<polygon fill=\"#fafefc\" stroke=\"black\" points=\"375.5,-544 207.5,-544 207.5,-461 375.5,-461 375.5,-544\"/>\n",
       "<text text-anchor=\"middle\" x=\"291.5\" y=\"-528.8\" font-family=\"Helvetica,sans-Serif\" font-size=\"14.00\">petal width (cm) &lt;= 1.55</text>\n",
       "<text text-anchor=\"middle\" x=\"291.5\" y=\"-513.8\" font-family=\"Helvetica,sans-Serif\" font-size=\"14.00\">gini = 0.5</text>\n",
       "<text text-anchor=\"middle\" x=\"291.5\" y=\"-498.8\" font-family=\"Helvetica,sans-Serif\" font-size=\"14.00\">samples = 79</text>\n",
       "<text text-anchor=\"middle\" x=\"291.5\" y=\"-483.8\" font-family=\"Helvetica,sans-Serif\" font-size=\"14.00\">value = [0, 40, 39]</text>\n",
       "<text text-anchor=\"middle\" x=\"291.5\" y=\"-468.8\" font-family=\"Helvetica,sans-Serif\" font-size=\"14.00\">class = versicolor</text>\n",
       "</g>\n",
       "<!-- 0&#45;&gt;2 -->\n",
       "<g id=\"edge2\" class=\"edge\">\n",
       "<title>0&#45;&gt;2</title>\n",
       "<path fill=\"none\" stroke=\"black\" d=\"M237.95,-579.91C244.18,-571.01 250.84,-561.51 257.28,-552.33\"/>\n",
       "<polygon fill=\"black\" stroke=\"black\" points=\"260.23,-554.22 263.1,-544.02 254.5,-550.2 260.23,-554.22\"/>\n",
       "<text text-anchor=\"middle\" x=\"267.43\" y=\"-564.94\" font-family=\"Helvetica,sans-Serif\" font-size=\"14.00\">False</text>\n",
       "</g>\n",
       "<!-- 3 -->\n",
       "<g id=\"node4\" class=\"node\">\n",
       "<title>3</title>\n",
       "<polygon fill=\"#3ee684\" stroke=\"black\" points=\"284.5,-425 110.5,-425 110.5,-342 284.5,-342 284.5,-425\"/>\n",
       "<text text-anchor=\"middle\" x=\"197.5\" y=\"-409.8\" font-family=\"Helvetica,sans-Serif\" font-size=\"14.00\">petal length (cm) &lt;= 5.25</text>\n",
       "<text text-anchor=\"middle\" x=\"197.5\" y=\"-394.8\" font-family=\"Helvetica,sans-Serif\" font-size=\"14.00\">gini = 0.051</text>\n",
       "<text text-anchor=\"middle\" x=\"197.5\" y=\"-379.8\" font-family=\"Helvetica,sans-Serif\" font-size=\"14.00\">samples = 38</text>\n",
       "<text text-anchor=\"middle\" x=\"197.5\" y=\"-364.8\" font-family=\"Helvetica,sans-Serif\" font-size=\"14.00\">value = [0, 37, 1]</text>\n",
       "<text text-anchor=\"middle\" x=\"197.5\" y=\"-349.8\" font-family=\"Helvetica,sans-Serif\" font-size=\"14.00\">class = versicolor</text>\n",
       "</g>\n",
       "<!-- 2&#45;&gt;3 -->\n",
       "<g id=\"edge3\" class=\"edge\">\n",
       "<title>2&#45;&gt;3</title>\n",
       "<path fill=\"none\" stroke=\"black\" d=\"M258.89,-460.91C251.67,-451.92 243.95,-442.32 236.51,-433.05\"/>\n",
       "<polygon fill=\"black\" stroke=\"black\" points=\"239.05,-430.62 230.06,-425.02 233.59,-435.01 239.05,-430.62\"/>\n",
       "</g>\n",
       "<!-- 6 -->\n",
       "<g id=\"node7\" class=\"node\">\n",
       "<title>6</title>\n",
       "<polygon fill=\"#8b49e7\" stroke=\"black\" points=\"470.5,-425 302.5,-425 302.5,-342 470.5,-342 470.5,-425\"/>\n",
       "<text text-anchor=\"middle\" x=\"386.5\" y=\"-409.8\" font-family=\"Helvetica,sans-Serif\" font-size=\"14.00\">petal width (cm) &lt;= 1.75</text>\n",
       "<text text-anchor=\"middle\" x=\"386.5\" y=\"-394.8\" font-family=\"Helvetica,sans-Serif\" font-size=\"14.00\">gini = 0.136</text>\n",
       "<text text-anchor=\"middle\" x=\"386.5\" y=\"-379.8\" font-family=\"Helvetica,sans-Serif\" font-size=\"14.00\">samples = 41</text>\n",
       "<text text-anchor=\"middle\" x=\"386.5\" y=\"-364.8\" font-family=\"Helvetica,sans-Serif\" font-size=\"14.00\">value = [0, 3, 38]</text>\n",
       "<text text-anchor=\"middle\" x=\"386.5\" y=\"-349.8\" font-family=\"Helvetica,sans-Serif\" font-size=\"14.00\">class = virginica</text>\n",
       "</g>\n",
       "<!-- 2&#45;&gt;6 -->\n",
       "<g id=\"edge6\" class=\"edge\">\n",
       "<title>2&#45;&gt;6</title>\n",
       "<path fill=\"none\" stroke=\"black\" d=\"M324.46,-460.91C331.75,-451.92 339.56,-442.32 347.08,-433.05\"/>\n",
       "<polygon fill=\"black\" stroke=\"black\" points=\"350.01,-434.99 353.6,-425.02 344.58,-430.58 350.01,-434.99\"/>\n",
       "</g>\n",
       "<!-- 4 -->\n",
       "<g id=\"node5\" class=\"node\">\n",
       "<title>4</title>\n",
       "<polygon fill=\"#39e581\" stroke=\"black\" points=\"127,-298.5 0,-298.5 0,-230.5 127,-230.5 127,-298.5\"/>\n",
       "<text text-anchor=\"middle\" x=\"63.5\" y=\"-283.3\" font-family=\"Helvetica,sans-Serif\" font-size=\"14.00\">gini = 0.0</text>\n",
       "<text text-anchor=\"middle\" x=\"63.5\" y=\"-268.3\" font-family=\"Helvetica,sans-Serif\" font-size=\"14.00\">samples = 37</text>\n",
       "<text text-anchor=\"middle\" x=\"63.5\" y=\"-253.3\" font-family=\"Helvetica,sans-Serif\" font-size=\"14.00\">value = [0, 37, 0]</text>\n",
       "<text text-anchor=\"middle\" x=\"63.5\" y=\"-238.3\" font-family=\"Helvetica,sans-Serif\" font-size=\"14.00\">class = versicolor</text>\n",
       "</g>\n",
       "<!-- 3&#45;&gt;4 -->\n",
       "<g id=\"edge4\" class=\"edge\">\n",
       "<title>3&#45;&gt;4</title>\n",
       "<path fill=\"none\" stroke=\"black\" d=\"M151.01,-341.91C137.49,-330.1 122.73,-317.22 109.25,-305.45\"/>\n",
       "<polygon fill=\"black\" stroke=\"black\" points=\"111.32,-302.61 101.49,-298.67 106.72,-307.88 111.32,-302.61\"/>\n",
       "</g>\n",
       "<!-- 5 -->\n",
       "<g id=\"node6\" class=\"node\">\n",
       "<title>5</title>\n",
       "<polygon fill=\"#8139e5\" stroke=\"black\" points=\"261.5,-298.5 145.5,-298.5 145.5,-230.5 261.5,-230.5 261.5,-298.5\"/>\n",
       "<text text-anchor=\"middle\" x=\"203.5\" y=\"-283.3\" font-family=\"Helvetica,sans-Serif\" font-size=\"14.00\">gini = 0.0</text>\n",
       "<text text-anchor=\"middle\" x=\"203.5\" y=\"-268.3\" font-family=\"Helvetica,sans-Serif\" font-size=\"14.00\">samples = 1</text>\n",
       "<text text-anchor=\"middle\" x=\"203.5\" y=\"-253.3\" font-family=\"Helvetica,sans-Serif\" font-size=\"14.00\">value = [0, 0, 1]</text>\n",
       "<text text-anchor=\"middle\" x=\"203.5\" y=\"-238.3\" font-family=\"Helvetica,sans-Serif\" font-size=\"14.00\">class = virginica</text>\n",
       "</g>\n",
       "<!-- 3&#45;&gt;5 -->\n",
       "<g id=\"edge5\" class=\"edge\">\n",
       "<title>3&#45;&gt;5</title>\n",
       "<path fill=\"none\" stroke=\"black\" d=\"M199.58,-341.91C200.13,-331.2 200.72,-319.62 201.28,-308.78\"/>\n",
       "<polygon fill=\"black\" stroke=\"black\" points=\"204.78,-308.83 201.8,-298.67 197.79,-308.47 204.78,-308.83\"/>\n",
       "</g>\n",
       "<!-- 7 -->\n",
       "<g id=\"node8\" class=\"node\">\n",
       "<title>7</title>\n",
       "<polygon fill=\"#ffffff\" stroke=\"black\" points=\"469.5,-306 291.5,-306 291.5,-223 469.5,-223 469.5,-306\"/>\n",
       "<text text-anchor=\"middle\" x=\"380.5\" y=\"-290.8\" font-family=\"Helvetica,sans-Serif\" font-size=\"14.00\">sepal length (cm) &lt;= 5.45</text>\n",
       "<text text-anchor=\"middle\" x=\"380.5\" y=\"-275.8\" font-family=\"Helvetica,sans-Serif\" font-size=\"14.00\">gini = 0.5</text>\n",
       "<text text-anchor=\"middle\" x=\"380.5\" y=\"-260.8\" font-family=\"Helvetica,sans-Serif\" font-size=\"14.00\">samples = 4</text>\n",
       "<text text-anchor=\"middle\" x=\"380.5\" y=\"-245.8\" font-family=\"Helvetica,sans-Serif\" font-size=\"14.00\">value = [0, 2, 2]</text>\n",
       "<text text-anchor=\"middle\" x=\"380.5\" y=\"-230.8\" font-family=\"Helvetica,sans-Serif\" font-size=\"14.00\">class = versicolor</text>\n",
       "</g>\n",
       "<!-- 6&#45;&gt;7 -->\n",
       "<g id=\"edge7\" class=\"edge\">\n",
       "<title>6&#45;&gt;7</title>\n",
       "<path fill=\"none\" stroke=\"black\" d=\"M384.42,-341.91C383.99,-333.56 383.53,-324.67 383.09,-316.02\"/>\n",
       "<polygon fill=\"black\" stroke=\"black\" points=\"386.59,-315.83 382.58,-306.02 379.59,-316.19 386.59,-315.83\"/>\n",
       "</g>\n",
       "<!-- 12 -->\n",
       "<g id=\"node13\" class=\"node\">\n",
       "<title>12</title>\n",
       "<polygon fill=\"#843ee6\" stroke=\"black\" points=\"661.5,-306 487.5,-306 487.5,-223 661.5,-223 661.5,-306\"/>\n",
       "<text text-anchor=\"middle\" x=\"574.5\" y=\"-290.8\" font-family=\"Helvetica,sans-Serif\" font-size=\"14.00\">petal length (cm) &lt;= 4.85</text>\n",
       "<text text-anchor=\"middle\" x=\"574.5\" y=\"-275.8\" font-family=\"Helvetica,sans-Serif\" font-size=\"14.00\">gini = 0.053</text>\n",
       "<text text-anchor=\"middle\" x=\"574.5\" y=\"-260.8\" font-family=\"Helvetica,sans-Serif\" font-size=\"14.00\">samples = 37</text>\n",
       "<text text-anchor=\"middle\" x=\"574.5\" y=\"-245.8\" font-family=\"Helvetica,sans-Serif\" font-size=\"14.00\">value = [0, 1, 36]</text>\n",
       "<text text-anchor=\"middle\" x=\"574.5\" y=\"-230.8\" font-family=\"Helvetica,sans-Serif\" font-size=\"14.00\">class = virginica</text>\n",
       "</g>\n",
       "<!-- 6&#45;&gt;12 -->\n",
       "<g id=\"edge12\" class=\"edge\">\n",
       "<title>6&#45;&gt;12</title>\n",
       "<path fill=\"none\" stroke=\"black\" d=\"M451.73,-341.91C467.47,-332.11 484.42,-321.56 500.53,-311.53\"/>\n",
       "<polygon fill=\"black\" stroke=\"black\" points=\"502.75,-314.28 509.39,-306.02 499.05,-308.33 502.75,-314.28\"/>\n",
       "</g>\n",
       "<!-- 8 -->\n",
       "<g id=\"node9\" class=\"node\">\n",
       "<title>8</title>\n",
       "<polygon fill=\"#8139e5\" stroke=\"black\" points=\"275.5,-179.5 159.5,-179.5 159.5,-111.5 275.5,-111.5 275.5,-179.5\"/>\n",
       "<text text-anchor=\"middle\" x=\"217.5\" y=\"-164.3\" font-family=\"Helvetica,sans-Serif\" font-size=\"14.00\">gini = 0.0</text>\n",
       "<text text-anchor=\"middle\" x=\"217.5\" y=\"-149.3\" font-family=\"Helvetica,sans-Serif\" font-size=\"14.00\">samples = 1</text>\n",
       "<text text-anchor=\"middle\" x=\"217.5\" y=\"-134.3\" font-family=\"Helvetica,sans-Serif\" font-size=\"14.00\">value = [0, 0, 1]</text>\n",
       "<text text-anchor=\"middle\" x=\"217.5\" y=\"-119.3\" font-family=\"Helvetica,sans-Serif\" font-size=\"14.00\">class = virginica</text>\n",
       "</g>\n",
       "<!-- 7&#45;&gt;8 -->\n",
       "<g id=\"edge8\" class=\"edge\">\n",
       "<title>7&#45;&gt;8</title>\n",
       "<path fill=\"none\" stroke=\"black\" d=\"M323.95,-222.91C307.19,-210.88 288.88,-197.73 272.24,-185.79\"/>\n",
       "<polygon fill=\"black\" stroke=\"black\" points=\"273.87,-182.65 263.71,-179.67 269.79,-188.34 273.87,-182.65\"/>\n",
       "</g>\n",
       "<!-- 9 -->\n",
       "<g id=\"node10\" class=\"node\">\n",
       "<title>9</title>\n",
       "<polygon fill=\"#9cf2c0\" stroke=\"black\" points=\"467.5,-187 293.5,-187 293.5,-104 467.5,-104 467.5,-187\"/>\n",
       "<text text-anchor=\"middle\" x=\"380.5\" y=\"-171.8\" font-family=\"Helvetica,sans-Serif\" font-size=\"14.00\">petal length (cm) &lt;= 5.45</text>\n",
       "<text text-anchor=\"middle\" x=\"380.5\" y=\"-156.8\" font-family=\"Helvetica,sans-Serif\" font-size=\"14.00\">gini = 0.444</text>\n",
       "<text text-anchor=\"middle\" x=\"380.5\" y=\"-141.8\" font-family=\"Helvetica,sans-Serif\" font-size=\"14.00\">samples = 3</text>\n",
       "<text text-anchor=\"middle\" x=\"380.5\" y=\"-126.8\" font-family=\"Helvetica,sans-Serif\" font-size=\"14.00\">value = [0, 2, 1]</text>\n",
       "<text text-anchor=\"middle\" x=\"380.5\" y=\"-111.8\" font-family=\"Helvetica,sans-Serif\" font-size=\"14.00\">class = versicolor</text>\n",
       "</g>\n",
       "<!-- 7&#45;&gt;9 -->\n",
       "<g id=\"edge9\" class=\"edge\">\n",
       "<title>7&#45;&gt;9</title>\n",
       "<path fill=\"none\" stroke=\"black\" d=\"M380.5,-222.91C380.5,-214.65 380.5,-205.86 380.5,-197.3\"/>\n",
       "<polygon fill=\"black\" stroke=\"black\" points=\"384,-197.02 380.5,-187.02 377,-197.02 384,-197.02\"/>\n",
       "</g>\n",
       "<!-- 10 -->\n",
       "<g id=\"node11\" class=\"node\">\n",
       "<title>10</title>\n",
       "<polygon fill=\"#39e581\" stroke=\"black\" points=\"317,-68 190,-68 190,0 317,0 317,-68\"/>\n",
       "<text text-anchor=\"middle\" x=\"253.5\" y=\"-52.8\" font-family=\"Helvetica,sans-Serif\" font-size=\"14.00\">gini = 0.0</text>\n",
       "<text text-anchor=\"middle\" x=\"253.5\" y=\"-37.8\" font-family=\"Helvetica,sans-Serif\" font-size=\"14.00\">samples = 2</text>\n",
       "<text text-anchor=\"middle\" x=\"253.5\" y=\"-22.8\" font-family=\"Helvetica,sans-Serif\" font-size=\"14.00\">value = [0, 2, 0]</text>\n",
       "<text text-anchor=\"middle\" x=\"253.5\" y=\"-7.8\" font-family=\"Helvetica,sans-Serif\" font-size=\"14.00\">class = versicolor</text>\n",
       "</g>\n",
       "<!-- 9&#45;&gt;10 -->\n",
       "<g id=\"edge10\" class=\"edge\">\n",
       "<title>9&#45;&gt;10</title>\n",
       "<path fill=\"none\" stroke=\"black\" d=\"M333.21,-103.73C322.31,-94.33 310.74,-84.35 299.88,-74.99\"/>\n",
       "<polygon fill=\"black\" stroke=\"black\" points=\"301.98,-72.18 292.12,-68.3 297.41,-77.48 301.98,-72.18\"/>\n",
       "</g>\n",
       "<!-- 11 -->\n",
       "<g id=\"node12\" class=\"node\">\n",
       "<title>11</title>\n",
       "<polygon fill=\"#8139e5\" stroke=\"black\" points=\"451.5,-68 335.5,-68 335.5,0 451.5,0 451.5,-68\"/>\n",
       "<text text-anchor=\"middle\" x=\"393.5\" y=\"-52.8\" font-family=\"Helvetica,sans-Serif\" font-size=\"14.00\">gini = 0.0</text>\n",
       "<text text-anchor=\"middle\" x=\"393.5\" y=\"-37.8\" font-family=\"Helvetica,sans-Serif\" font-size=\"14.00\">samples = 1</text>\n",
       "<text text-anchor=\"middle\" x=\"393.5\" y=\"-22.8\" font-family=\"Helvetica,sans-Serif\" font-size=\"14.00\">value = [0, 0, 1]</text>\n",
       "<text text-anchor=\"middle\" x=\"393.5\" y=\"-7.8\" font-family=\"Helvetica,sans-Serif\" font-size=\"14.00\">class = virginica</text>\n",
       "</g>\n",
       "<!-- 9&#45;&gt;11 -->\n",
       "<g id=\"edge11\" class=\"edge\">\n",
       "<title>9&#45;&gt;11</title>\n",
       "<path fill=\"none\" stroke=\"black\" d=\"M385.34,-103.73C386.33,-95.43 387.37,-86.67 388.36,-78.28\"/>\n",
       "<polygon fill=\"black\" stroke=\"black\" points=\"391.84,-78.64 389.55,-68.3 384.89,-77.82 391.84,-78.64\"/>\n",
       "</g>\n",
       "<!-- 13 -->\n",
       "<g id=\"node14\" class=\"node\">\n",
       "<title>13</title>\n",
       "<polygon fill=\"#c09cf2\" stroke=\"black\" points=\"663.5,-187 485.5,-187 485.5,-104 663.5,-104 663.5,-187\"/>\n",
       "<text text-anchor=\"middle\" x=\"574.5\" y=\"-171.8\" font-family=\"Helvetica,sans-Serif\" font-size=\"14.00\">sepal length (cm) &lt;= 5.95</text>\n",
       "<text text-anchor=\"middle\" x=\"574.5\" y=\"-156.8\" font-family=\"Helvetica,sans-Serif\" font-size=\"14.00\">gini = 0.444</text>\n",
       "<text text-anchor=\"middle\" x=\"574.5\" y=\"-141.8\" font-family=\"Helvetica,sans-Serif\" font-size=\"14.00\">samples = 3</text>\n",
       "<text text-anchor=\"middle\" x=\"574.5\" y=\"-126.8\" font-family=\"Helvetica,sans-Serif\" font-size=\"14.00\">value = [0, 1, 2]</text>\n",
       "<text text-anchor=\"middle\" x=\"574.5\" y=\"-111.8\" font-family=\"Helvetica,sans-Serif\" font-size=\"14.00\">class = virginica</text>\n",
       "</g>\n",
       "<!-- 12&#45;&gt;13 -->\n",
       "<g id=\"edge13\" class=\"edge\">\n",
       "<title>12&#45;&gt;13</title>\n",
       "<path fill=\"none\" stroke=\"black\" d=\"M574.5,-222.91C574.5,-214.65 574.5,-205.86 574.5,-197.3\"/>\n",
       "<polygon fill=\"black\" stroke=\"black\" points=\"578,-197.02 574.5,-187.02 571,-197.02 578,-197.02\"/>\n",
       "</g>\n",
       "<!-- 16 -->\n",
       "<g id=\"node17\" class=\"node\">\n",
       "<title>16</title>\n",
       "<polygon fill=\"#8139e5\" stroke=\"black\" points=\"803,-179.5 682,-179.5 682,-111.5 803,-111.5 803,-179.5\"/>\n",
       "<text text-anchor=\"middle\" x=\"742.5\" y=\"-164.3\" font-family=\"Helvetica,sans-Serif\" font-size=\"14.00\">gini = 0.0</text>\n",
       "<text text-anchor=\"middle\" x=\"742.5\" y=\"-149.3\" font-family=\"Helvetica,sans-Serif\" font-size=\"14.00\">samples = 34</text>\n",
       "<text text-anchor=\"middle\" x=\"742.5\" y=\"-134.3\" font-family=\"Helvetica,sans-Serif\" font-size=\"14.00\">value = [0, 0, 34]</text>\n",
       "<text text-anchor=\"middle\" x=\"742.5\" y=\"-119.3\" font-family=\"Helvetica,sans-Serif\" font-size=\"14.00\">class = virginica</text>\n",
       "</g>\n",
       "<!-- 12&#45;&gt;16 -->\n",
       "<g id=\"edge16\" class=\"edge\">\n",
       "<title>12&#45;&gt;16</title>\n",
       "<path fill=\"none\" stroke=\"black\" d=\"M632.79,-222.91C650.22,-210.77 669.28,-197.49 686.55,-185.46\"/>\n",
       "<polygon fill=\"black\" stroke=\"black\" points=\"688.67,-188.25 694.88,-179.67 684.67,-182.51 688.67,-188.25\"/>\n",
       "</g>\n",
       "<!-- 14 -->\n",
       "<g id=\"node15\" class=\"node\">\n",
       "<title>14</title>\n",
       "<polygon fill=\"#39e581\" stroke=\"black\" points=\"624,-68 497,-68 497,0 624,0 624,-68\"/>\n",
       "<text text-anchor=\"middle\" x=\"560.5\" y=\"-52.8\" font-family=\"Helvetica,sans-Serif\" font-size=\"14.00\">gini = 0.0</text>\n",
       "<text text-anchor=\"middle\" x=\"560.5\" y=\"-37.8\" font-family=\"Helvetica,sans-Serif\" font-size=\"14.00\">samples = 1</text>\n",
       "<text text-anchor=\"middle\" x=\"560.5\" y=\"-22.8\" font-family=\"Helvetica,sans-Serif\" font-size=\"14.00\">value = [0, 1, 0]</text>\n",
       "<text text-anchor=\"middle\" x=\"560.5\" y=\"-7.8\" font-family=\"Helvetica,sans-Serif\" font-size=\"14.00\">class = versicolor</text>\n",
       "</g>\n",
       "<!-- 13&#45;&gt;14 -->\n",
       "<g id=\"edge14\" class=\"edge\">\n",
       "<title>13&#45;&gt;14</title>\n",
       "<path fill=\"none\" stroke=\"black\" d=\"M569.29,-103.73C568.23,-95.43 567.11,-86.67 566.03,-78.28\"/>\n",
       "<polygon fill=\"black\" stroke=\"black\" points=\"569.5,-77.77 564.76,-68.3 562.55,-78.66 569.5,-77.77\"/>\n",
       "</g>\n",
       "<!-- 15 -->\n",
       "<g id=\"node16\" class=\"node\">\n",
       "<title>15</title>\n",
       "<polygon fill=\"#8139e5\" stroke=\"black\" points=\"758.5,-68 642.5,-68 642.5,0 758.5,0 758.5,-68\"/>\n",
       "<text text-anchor=\"middle\" x=\"700.5\" y=\"-52.8\" font-family=\"Helvetica,sans-Serif\" font-size=\"14.00\">gini = 0.0</text>\n",
       "<text text-anchor=\"middle\" x=\"700.5\" y=\"-37.8\" font-family=\"Helvetica,sans-Serif\" font-size=\"14.00\">samples = 2</text>\n",
       "<text text-anchor=\"middle\" x=\"700.5\" y=\"-22.8\" font-family=\"Helvetica,sans-Serif\" font-size=\"14.00\">value = [0, 0, 2]</text>\n",
       "<text text-anchor=\"middle\" x=\"700.5\" y=\"-7.8\" font-family=\"Helvetica,sans-Serif\" font-size=\"14.00\">class = virginica</text>\n",
       "</g>\n",
       "<!-- 13&#45;&gt;15 -->\n",
       "<g id=\"edge15\" class=\"edge\">\n",
       "<title>13&#45;&gt;15</title>\n",
       "<path fill=\"none\" stroke=\"black\" d=\"M621.42,-103.73C632.23,-94.33 643.71,-84.35 654.49,-74.99\"/>\n",
       "<polygon fill=\"black\" stroke=\"black\" points=\"656.93,-77.5 662.18,-68.3 652.34,-72.22 656.93,-77.5\"/>\n",
       "</g>\n",
       "</g>\n",
       "</svg>\n"
      ],
      "text/plain": [
       "<graphviz.sources.Source at 0x1a0d4fb1190>"
      ]
     },
     "execution_count": 8,
     "metadata": {},
     "output_type": "execute_result"
    }
   ],
   "source": [
    "import graphviz\n",
    "# 위에서 생성된 tree.dot 파일을 Graphviz가 읽어서 주피터 노트북상에서 시각화\n",
    "with open('tree_dot') as f:\n",
    "    dot_graph = f.read()\n",
    "graphviz.Source(dot_graph)"
   ]
  },
  {
   "cell_type": "code",
   "execution_count": 9,
   "id": "a60e538b",
   "metadata": {},
   "outputs": [
    {
     "name": "stdout",
     "output_type": "stream",
     "text": [
      "Feature importances:\n",
      "[0.025 0.    0.555 0.42 ]\n",
      "sepal length (cm) : 0.025\n",
      "sepal width (cm) : 0.000\n",
      "petal length (cm) : 0.555\n",
      "petal width (cm) : 0.420\n"
     ]
    },
    {
     "data": {
      "text/plain": [
       "<AxesSubplot:>"
      ]
     },
     "execution_count": 9,
     "metadata": {},
     "output_type": "execute_result"
    },
    {
     "data": {
      "image/png": "[encoded data removed]",
      "text/plain": [
       "<Figure size 432x288 with 1 Axes>"
      ]
     },
     "metadata": {
      "needs_background": "light"
     },
     "output_type": "display_data"
    }
   ],
   "source": [
    "# 결정트리 알고리즘에서 중요도 추출\n",
    "import seaborn as sns\n",
    "import numpy as np\n",
    "%matplotlib inline\n",
    "\n",
    "# feature importance 추출\n",
    "print('Feature importances:\\n{0}'.format(np.round(dt_clf.feature_importances_,3)))\n",
    "\n",
    "# feature별 importance 매핑\n",
    "for name, value in zip(iris_data.feature_names, dt_clf.feature_importances_):\n",
    "    print('{0} : {1:.3f}'.format(name,value))\n",
    "    \n",
    "# feature importance를 column별로 시각화\n",
    "sns.barplot(x=dt_clf.feature_importances_, y=iris_data.feature_names)"
   ]
  },
  {
   "cell_type": "markdown",
   "id": "e55d2a3d",
   "metadata": {},
   "source": [
    "__결정 트리 과적합(Overfitting)__"
   ]
  },
  {
   "cell_type": "code",
   "execution_count": 12,
   "id": "2ae0bbae",
   "metadata": {},
   "outputs": [
    {
     "data": {
      "image/png": "[encoded data removed]",
      "text/plain": [
       "<Figure size 432x288 with 1 Axes>"
      ]
     },
     "metadata": {
      "needs_background": "light"
     },
     "output_type": "display_data"
    }
   ],
   "source": [
    "# 분류를 위한 테스트용 데이터를 쉽게 만들 수 있도록 make_classification() 함수 제공\n",
    "from sklearn.datasets import make_classification\n",
    "import matplotlib.pyplot as plt\n",
    "%matplotlib inline\n",
    "\n",
    "plt.title('3 Class values with 2 Features Sample data creation')\n",
    "\n",
    "# 2차원 시각화를 위해서 피처는 2개, 클래스는 3가지 유형의 분류 샘플 데이터 생성.\n",
    "X_features, y_labels = make_classification(n_features=2, n_redundant=0, n_informative=2, \n",
    "                                           n_classes=3, n_clusters_per_class=1, random_state=0)\n",
    "\n",
    "# 그래프 형태로 2개의 피처로 2차원 좌표 시각화, 각 클래스 값은 다른 색깔로 표시됨.\n",
    "plt.scatter(X_features[:,0], X_features[:,1], marker='o', c=y_labels, s=25, edgecolor='k');"
   ]
  },
  {
   "cell_type": "code",
   "execution_count": 16,
   "id": "56892afa",
   "metadata": {},
   "outputs": [],
   "source": [
    "def visualize_boundary(model, X, y):\n",
    "    fig, ax = plt.subplots()\n",
    "\n",
    "    # 학습 데이타 scatter plot으로 나타내기\n",
    "    ax.scatter(X[:, 0], X[:, 1], c=y, s=25, cmap='rainbow', edgecolor='k',\n",
    "               clim=(y.min(), y.max()), zorder=3)\n",
    "    ax.axis('tight')\n",
    "    ax.axis('off')\n",
    "    xlim_start, xlim_end = ax.get_xlim()\n",
    "    ylim_start, ylim_end = ax.get_ylim()\n",
    "\n",
    "    # 호출 파라미터로 들어온 training 데이터로 model 학습 . test\n",
    "    model.fit(X, y)\n",
    "    # meshgrid 형태인 모든 좌표값으로 예측 수행.\n",
    "    # np.linspace : 1차원의 배열 만들기, 그래프 그리기에서 수평축의 간격 만들기\n",
    "    xx, yy = np.meshgrid(np.linspace(xlim_start, xlim_end, num=200), np.linspace(ylim_start, ylim_end, num=200))\n",
    "    # ravel() : 다차원 배열을 1차원 배열로 바꾸는 함수. 복사본을 생성하지 않음.\n",
    "    # np.c_[] : 두 배열을 가로 방향(왼쪽에서 오른쪽으로 합치기)\n",
    "    Z = model.predict(np.c_[xx.ravel(), yy.ravel()]).reshape(xx.shape)\n",
    "\n",
    "    # contourf() 를 이용하여 class boundary 를 visualization 수행. (등고선 그리기)\n",
    "    n_classes = len(np.unique(y))\n",
    "    contours = ax.contourf(xx, yy, Z, alpha=0.3,levels=np.arange(n_classes + 1) - 0.5,cmap='rainbow' ,zorder=1)"
   ]
  },
  {
   "cell_type": "code",
   "execution_count": 17,
   "id": "a9ce109a",
   "metadata": {},
   "outputs": [
    {
     "data": {
      "image/png": "[encoded data removed]",
      "text/plain": [
       "<Figure size 432x288 with 1 Axes>"
      ]
     },
     "metadata": {
      "needs_background": "light"
     },
     "output_type": "display_data"
    }
   ],
   "source": [
    "# 결정 기준 경계를 시각화\n",
    "from sklearn.tree import DecisionTreeClassifier\n",
    "\n",
    "# 특정한 트리 생성 제약 없는 결정 트리의 학습과 결정 경계 시각화\n",
    "dt_clf = DecisionTreeClassifier(random_state=156).fit(X_features, y_labels)\n",
    "visualize_boundary(dt_clf, X_features, y_labels)"
   ]
  },
  {
   "cell_type": "code",
   "execution_count": 38,
   "id": "3131e25e",
   "metadata": {},
   "outputs": [
    {
     "data": {
      "image/png": "[encoded data removed]",
      "text/plain": [
       "<Figure size 432x288 with 1 Axes>"
      ]
     },
     "metadata": {
      "needs_background": "light"
     },
     "output_type": "display_data"
    }
   ],
   "source": [
    "# min_samples_leaf = 6으로 트리 생성 조건을 제약한 결정 경계 시각화\n",
    "dt_clf = DecisionTreeClassifier(min_samples_leaf=6, random_state=156).fit(X_features, y_labels)\n",
    "visualize_boundary(dt_clf, X_features, y_labels)\n",
    "\n",
    "# 이상치에 크게 반응하지 않으면서 일반화된 분류 규칙에 따랍 분류됨."
   ]
  },
  {
   "cell_type": "markdown",
   "id": "b6b10b85",
   "metadata": {},
   "source": [
    "__결정 트리 실습 - 사용자 행동 인식 데이터 셋__"
   ]
  },
  {
   "cell_type": "code",
   "execution_count": 39,
   "id": "fcebc456",
   "metadata": {},
   "outputs": [
    {
     "name": "stdout",
     "output_type": "stream",
     "text": [
      "전체 피처명에서 10개만 추출: ['tBodyAcc-mean()-X', 'tBodyAcc-mean()-Y', 'tBodyAcc-mean()-Z', 'tBodyAcc-std()-X', 'tBodyAcc-std()-Y', 'tBodyAcc-std()-Z', 'tBodyAcc-mad()-X', 'tBodyAcc-mad()-Y', 'tBodyAcc-mad()-Z', 'tBodyAcc-max()-X']\n"
     ]
    }
   ],
   "source": [
    "import pandas as pd\n",
    "import matplotlib.pyplot as plt\n",
    "%matplotlib inline\n",
    "\n",
    "# features.txt 파일에는 피처 이름 index와 피처명이 공백으로 분리되어 있음. 이를 DF로 로드\n",
    "feature_name_df = pd.read_csv('c:/data/human_activity/features.txt', sep='\\s+',\n",
    "                             header=None, names=['column_index','column_name'])\n",
    "\n",
    "# 피처명 index를 제거하고, 피처명만 리스트 객체로 생성한 뒤 샘플로 10개만 추출\n",
    "feature_name = feature_name_df.iloc[:,1].values.tolist()\n",
    "print('전체 피처명에서 10개만 추출:', feature_name[:10])"
   ]
  },
  {
   "cell_type": "code",
   "execution_count": 45,
   "id": "46ee5efb",
   "metadata": {},
   "outputs": [
    {
     "name": "stdout",
     "output_type": "stream",
     "text": [
      "column_index    42\n",
      "dtype: int64\n"
     ]
    },
    {
     "data": {
      "text/html": [
       "<div>\n",
       "<style scoped>\n",
       "    .dataframe tbody tr th:only-of-type {\n",
       "        vertical-align: middle;\n",
       "    }\n",
       "\n",
       "    .dataframe tbody tr th {\n",
       "        vertical-align: top;\n",
       "    }\n",
       "\n",
       "    .dataframe thead th {\n",
       "        text-align: right;\n",
       "    }\n",
       "</style>\n",
       "<table border=\"1\" class=\"dataframe\">\n",
       "  <thead>\n",
       "    <tr style=\"text-align: right;\">\n",
       "      <th></th>\n",
       "      <th>column_index</th>\n",
       "    </tr>\n",
       "    <tr>\n",
       "      <th>column_name</th>\n",
       "      <th></th>\n",
       "    </tr>\n",
       "  </thead>\n",
       "  <tbody>\n",
       "    <tr>\n",
       "      <th>fBodyAcc-bandsEnergy()-1,16</th>\n",
       "      <td>3</td>\n",
       "    </tr>\n",
       "    <tr>\n",
       "      <th>fBodyAcc-bandsEnergy()-1,24</th>\n",
       "      <td>3</td>\n",
       "    </tr>\n",
       "    <tr>\n",
       "      <th>fBodyAcc-bandsEnergy()-1,8</th>\n",
       "      <td>3</td>\n",
       "    </tr>\n",
       "    <tr>\n",
       "      <th>fBodyAcc-bandsEnergy()-17,24</th>\n",
       "      <td>3</td>\n",
       "    </tr>\n",
       "    <tr>\n",
       "      <th>fBodyAcc-bandsEnergy()-17,32</th>\n",
       "      <td>3</td>\n",
       "    </tr>\n",
       "  </tbody>\n",
       "</table>\n",
       "</div>"
      ],
      "text/plain": [
       "                              column_index\n",
       "column_name                               \n",
       "fBodyAcc-bandsEnergy()-1,16              3\n",
       "fBodyAcc-bandsEnergy()-1,24              3\n",
       "fBodyAcc-bandsEnergy()-1,8               3\n",
       "fBodyAcc-bandsEnergy()-17,24             3\n",
       "fBodyAcc-bandsEnergy()-17,32             3"
      ]
     },
     "execution_count": 45,
     "metadata": {},
     "output_type": "execute_result"
    }
   ],
   "source": [
    "# 피처명을 가지고 있는 features.txt 파일은 중복된 피처명을 가지고 있어, 이를 DF로 로드하면 오류 발생. \n",
    "# 중복된 피처명 확인\n",
    "feature_dup_df = feature_name_df.groupby('column_name').count()\n",
    "print(feature_dup_df[feature_dup_df['column_index'] > 1].count())\n",
    "feature_dup_df[feature_dup_df['column_index']>1].head()"
   ]
  },
  {
   "cell_type": "code",
   "execution_count": 10,
   "id": "5d5b7b53",
   "metadata": {},
   "outputs": [],
   "source": [
    "def get_new_feature_name_df(old_feature_name_df):\n",
    "    feature_dup_df = pd.DataFrame(data=old_feature_name_df.groupby('column_name').cumcount(), columns=['dup_cnt'])\n",
    "    feature_dup_df = feature_dup_df.reset_index()\n",
    "    new_feature_name_df = pd.merge(old_feature_name_df.reset_index(), feature_dup_df, how='outer') # 인덱스로 조인\n",
    "    # 두번째 이상인 경우 _숫자로 추가되게 함\n",
    "    new_feature_name_df['column_name'] = new_feature_name_df[['column_name','dup_cnt']].apply(lambda x:x[0]+'_'+str(x[1])\n",
    "                                                                                             if x[1]>0 else x[0], axis=1) \n",
    "    new_feature_name_df = new_feature_name_df.drop(['index'], axis=1)\n",
    "    return new_feature_name_df"
   ]
  },
  {
   "cell_type": "code",
   "execution_count": 11,
   "id": "984059af",
   "metadata": {},
   "outputs": [],
   "source": [
    "import pandas as pd\n",
    "\n",
    "def get_human_dataset():\n",
    "    \n",
    "    # 각 데이터 파일은 공백으로 분리되어 있으므로 read_csv에서 공백문자를 sep로 할당\n",
    "    feature_name_df = pd.read_csv('c:/data/human_activity/features.txt', sep='\\s+',\n",
    "                             header=None, names=['column_index','column_name'])\n",
    "    \n",
    "    \n",
    "    # 중복된 피처명을 수정하는 get_new_feature_name_df()를 이용, 신규 피처명 DataFrame 생성.\n",
    "    new_feature_name_df = get_new_feature_name_df(feature_name_df)\n",
    "    \n",
    "    # DataFrame에 피처명을 칼럼으로 부여하기 위해 리스트 객체로 다시 변환\n",
    "    feature_name = new_feature_name_df.iloc[:,1].values.tolist()\n",
    "    \n",
    "    # 학습 피처 데이터셋과 테스트 피처 데이터를 DataFrame으로 로딩. 칼럼명은 feature_name 적용\n",
    "    X_train = pd.read_csv('c:/data/human_activity/train/X_train.txt', sep='\\s+', names=feature_name)\n",
    "    X_test = pd.read_csv('c:/data/human_activity/test/X_test.txt', sep='\\s+', names=feature_name)\n",
    "    \n",
    "    # 학습 레이블과 테스트 레이블 데이터를 DataFrame으로 로딩. 칼럼명은 action 적용\n",
    "    y_train = pd.read_csv('c:/data/human_activity/train/y_train.txt', sep='\\s+', header=None ,names=['action'])\n",
    "    y_test = pd.read_csv('c:/data/human_activity/test/y_test.txt', sep='\\s+', header=None ,names=['action'])\n",
    "    \n",
    "    # 로드된 학습/데이터용 DataFrame을 모두 반환\n",
    "    return X_train,X_test,y_train,y_test\n",
    "\n",
    "X_train, X_test, y_train, y_test = get_human_dataset()"
   ]
  },
  {
   "cell_type": "code",
   "execution_count": 80,
   "id": "13ea642c",
   "metadata": {},
   "outputs": [
    {
     "name": "stdout",
     "output_type": "stream",
     "text": [
      "## 학습 피처 데이터셋 info()\n",
      "<class 'pandas.core.frame.DataFrame'>\n",
      "RangeIndex: 7352 entries, 0 to 7351\n",
      "Columns: 561 entries, tBodyAcc-mean()-X to angle(Z,gravityMean)\n",
      "dtypes: float64(561)\n",
      "memory usage: 31.5 MB\n",
      "None\n"
     ]
    }
   ],
   "source": [
    "print('## 학습 피처 데이터셋 info()')\n",
    "print(X_train.info())"
   ]
  },
  {
   "cell_type": "code",
   "execution_count": 81,
   "id": "ac840e70",
   "metadata": {},
   "outputs": [
    {
     "name": "stdout",
     "output_type": "stream",
     "text": [
      "6    1407\n",
      "5    1374\n",
      "4    1286\n",
      "1    1226\n",
      "2    1073\n",
      "3     986\n",
      "Name: action, dtype: int64\n"
     ]
    }
   ],
   "source": [
    "print(y_train['action'].value_counts())"
   ]
  },
  {
   "cell_type": "code",
   "execution_count": 82,
   "id": "e97de815",
   "metadata": {},
   "outputs": [
    {
     "name": "stdout",
     "output_type": "stream",
     "text": [
      "결정 트리 예측 정확도 : 0.8548\n",
      "DecisionTreeClassifier 기본 하이퍼 파라미터:\n",
      " {'ccp_alpha': 0.0, 'class_weight': None, 'criterion': 'gini', 'max_depth': None, 'max_features': None, 'max_leaf_nodes': None, 'min_impurity_decrease': 0.0, 'min_samples_leaf': 1, 'min_samples_split': 2, 'min_weight_fraction_leaf': 0.0, 'random_state': 156, 'splitter': 'best'}\n"
     ]
    }
   ],
   "source": [
    "from sklearn.tree import DecisionTreeClassifier\n",
    "from sklearn.metrics import accuracy_score\n",
    "\n",
    "# 예제 반복 시마다 동일한 예측 결과 도출을 위해 random_state 설정\n",
    "dt_clf = DecisionTreeClassifier(random_state=156)\n",
    "dt_clf.fit(X_train, y_train)\n",
    "pred = dt_clf.predict(X_test)\n",
    "accuracy = accuracy_score(y_test,pred)\n",
    "print('결정 트리 예측 정확도 : {0:.4f}'.format(accuracy))\n",
    "\n",
    "# DecisionTreeClassifier의 하이퍼 파라미터 추출\n",
    "print('DecisionTreeClassifier 기본 하이퍼 파라미터:\\n',dt_clf.get_params())"
   ]
  },
  {
   "cell_type": "code",
   "execution_count": 84,
   "id": "0681270d",
   "metadata": {},
   "outputs": [
    {
     "name": "stdout",
     "output_type": "stream",
     "text": [
      "Fitting 5 folds for each of 7 candidates, totalling 35 fits\n",
      "GridSearchCV 최고 평균 정확도 수치: 0.8549\n",
      "GridSearchCV 최적 하이퍼 파라미터:  {'max_depth': 8, 'min_samples_split': 16}\n"
     ]
    }
   ],
   "source": [
    "from sklearn.model_selection import GridSearchCV\n",
    "\n",
    "params = {\n",
    "    'max_depth': [6,8,10,12,16,20,24],\n",
    "    'min_samples_split':[16]\n",
    "}\n",
    "\n",
    "grid_cv = GridSearchCV(dt_clf, param_grid=params, scoring='accuracy',cv=5, verbose=1)\n",
    "grid_cv.fit(X_train, y_train)\n",
    "print('GridSearchCV 최고 평균 정확도 수치: {0:.4f}'.format(grid_cv.best_score_))\n",
    "print('GridSearchCV 최적 하이퍼 파라미터: ',grid_cv.best_params_)"
   ]
  },
  {
   "cell_type": "code",
   "execution_count": 86,
   "id": "5078b20c",
   "metadata": {},
   "outputs": [
    {
     "data": {
      "text/html": [
       "<div>\n",
       "<style scoped>\n",
       "    .dataframe tbody tr th:only-of-type {\n",
       "        vertical-align: middle;\n",
       "    }\n",
       "\n",
       "    .dataframe tbody tr th {\n",
       "        vertical-align: top;\n",
       "    }\n",
       "\n",
       "    .dataframe thead th {\n",
       "        text-align: right;\n",
       "    }\n",
       "</style>\n",
       "<table border=\"1\" class=\"dataframe\">\n",
       "  <thead>\n",
       "    <tr style=\"text-align: right;\">\n",
       "      <th></th>\n",
       "      <th>param_max_depth</th>\n",
       "      <th>mean_test_score</th>\n",
       "    </tr>\n",
       "  </thead>\n",
       "  <tbody>\n",
       "    <tr>\n",
       "      <th>0</th>\n",
       "      <td>6</td>\n",
       "      <td>0.847662</td>\n",
       "    </tr>\n",
       "    <tr>\n",
       "      <th>1</th>\n",
       "      <td>8</td>\n",
       "      <td>0.854879</td>\n",
       "    </tr>\n",
       "    <tr>\n",
       "      <th>2</th>\n",
       "      <td>10</td>\n",
       "      <td>0.852705</td>\n",
       "    </tr>\n",
       "    <tr>\n",
       "      <th>3</th>\n",
       "      <td>12</td>\n",
       "      <td>0.845768</td>\n",
       "    </tr>\n",
       "    <tr>\n",
       "      <th>4</th>\n",
       "      <td>16</td>\n",
       "      <td>0.847127</td>\n",
       "    </tr>\n",
       "    <tr>\n",
       "      <th>5</th>\n",
       "      <td>20</td>\n",
       "      <td>0.848624</td>\n",
       "    </tr>\n",
       "    <tr>\n",
       "      <th>6</th>\n",
       "      <td>24</td>\n",
       "      <td>0.848624</td>\n",
       "    </tr>\n",
       "  </tbody>\n",
       "</table>\n",
       "</div>"
      ],
      "text/plain": [
       "  param_max_depth  mean_test_score\n",
       "0               6         0.847662\n",
       "1               8         0.854879\n",
       "2              10         0.852705\n",
       "3              12         0.845768\n",
       "4              16         0.847127\n",
       "5              20         0.848624\n",
       "6              24         0.848624"
      ]
     },
     "execution_count": 86,
     "metadata": {},
     "output_type": "execute_result"
    }
   ],
   "source": [
    "# max_depth값에 따라어떻게 예측 성능이 변했는지 확인\n",
    "# GridSearchCV 객체의 cv_results_ 속성을 DataFrame으로 생성\n",
    "cv_results_df = pd.DataFrame(grid_cv.cv_results_)\n",
    "\n",
    "# max_depth 파라미터 값과 그때의 테스트 셋, 학습 데이터 셋의 정확도 수치 추출\n",
    "cv_results_df[['param_max_depth','mean_test_score']]\n",
    "\n",
    "# mean_test_score : 5개의 CV세트에서 검증용 데이터 셋의 정확도 평균 수치"
   ]
  },
  {
   "cell_type": "code",
   "execution_count": 88,
   "id": "7928700e",
   "metadata": {},
   "outputs": [
    {
     "name": "stdout",
     "output_type": "stream",
     "text": [
      "max_depth = 6 정확도: 0.8551\n",
      "max_depth = 8 정확도: 0.8717\n",
      "max_depth = 10 정확도: 0.8599\n",
      "max_depth = 12 정확도: 0.8571\n",
      "max_depth = 16 정확도: 0.8599\n",
      "max_depth = 20 정확도: 0.8565\n",
      "max_depth = 24 정확도: 0.8565\n"
     ]
    }
   ],
   "source": [
    "# 별도의 테스트 데이터 셋에서 결정트리의 정확도 측정\n",
    "max_depths = [6,8,10,12,16,20,24]\n",
    "\n",
    "# max_depth 값을 변화시키면서 그떄마다 학습과 테스트 셋에서의 예측 성능 측정\n",
    "for depth in max_depths:\n",
    "    dt_clf = DecisionTreeClassifier(max_depth=depth, min_samples_split=16, random_state=156)\n",
    "    dt_clf.fit(X_train,y_train)\n",
    "    pred = dt_clf.predict(X_test)\n",
    "    accuracy = accuracy_score(y_test, pred)\n",
    "    print('max_depth = {0} 정확도: {1:.4f}'.format(depth, accuracy))"
   ]
  },
  {
   "cell_type": "code",
   "execution_count": 89,
   "id": "8637d9c6",
   "metadata": {},
   "outputs": [
    {
     "name": "stdout",
     "output_type": "stream",
     "text": [
      "Fitting 5 folds for each of 8 candidates, totalling 40 fits\n",
      "GridSearchCV 최고 평균 정확도 수치: 0.8549\n",
      "GridSearchCV 최적 하이퍼 파라미터:  {'max_depth': 8, 'min_samples_split': 16}\n"
     ]
    }
   ],
   "source": [
    "# max_depth와 min_samples_split을 같이 변경하면서 정확도 성능 튜닝\n",
    "params = {'max_depth' : [8,12,16,20],\n",
    "         'min_samples_split' : [16,24]}\n",
    "\n",
    "grid_cv = GridSearchCV(dt_clf, param_grid=params, scoring='accuracy',cv=5, verbose=1)\n",
    "grid_cv.fit(X_train, y_train)\n",
    "print('GridSearchCV 최고 평균 정확도 수치: {0:.4f}'.format(grid_cv.best_score_))\n",
    "print('GridSearchCV 최적 하이퍼 파라미터: ',grid_cv.best_params_)"
   ]
  },
  {
   "cell_type": "code",
   "execution_count": 90,
   "id": "89aabe74",
   "metadata": {},
   "outputs": [
    {
     "name": "stdout",
     "output_type": "stream",
     "text": [
      "결정 트리 예측 정확도:0.8717\n"
     ]
    }
   ],
   "source": [
    "# 최적 하이퍼 파라미터로 학습이 완료된 estimator 객체로 예측 수행\n",
    "best_df_clf = grid_cv.best_estimator_\n",
    "pred1 = best_df_clf.predict(X_test)\n",
    "accuracy = accuracy_score(y_test, pred1)\n",
    "print('결정 트리 예측 정확도:{0:.4f}'.format(accuracy))"
   ]
  },
  {
   "cell_type": "code",
   "execution_count": 91,
   "id": "d5e18a49",
   "metadata": {},
   "outputs": [
    {
     "data": {
      "image/png": "[encoded data removed]",
      "text/plain": [
       "<Figure size 576x432 with 1 Axes>"
      ]
     },
     "metadata": {
      "needs_background": "light"
     },
     "output_type": "display_data"
    }
   ],
   "source": [
    "# 각 피처의 중요도 시각화\n",
    "import seaborn as sns\n",
    "\n",
    "ftr_importances_values = best_df_clf.feature_importances_\n",
    "# Top 중요도로 정렬을 쉽게 하고, 시본의 막대그래프로 쉽게 표현하기 위해 series로 변환\n",
    "ftr_importances = pd.Series(ftr_importances_values, index=X_train.columns)\n",
    "# 중요도값 순으로 Series 정렬\n",
    "ftr_top20 = ftr_importances.sort_values(ascending=False)[:20]\n",
    "plt.figure(figsize=(8,6))\n",
    "plt.title('Feature importances Top 20')\n",
    "sns.barplot(x=ftr_top20, y=ftr_top20.index)\n",
    "plt.show()"
   ]
  },
  {
   "cell_type": "markdown",
   "id": "b3a0761e",
   "metadata": {},
   "source": [
    "## 앙상블 학습\n",
    "여러 개의 분류기를 생성하고 그 예측을 결합함으로써 보다 정확한 최종 예측을 도출하는 기법\n",
    "* __보팅(Voting)__ : 서로 다른 알고리즘을 가진 분류기를 결합\n",
    "    - __하드 보팅__ : 다수결 원칙. 예측한 결괏값들 중 다수의 분류기가 결정한 예측값을 최종 보팅 결괏값으로 선정\n",
    "    - __소프트 보팅__ : 분류기들의 레이블 값 결정 확률을 모두 더하고 이를 평균해서 이들 중 확률이 가장 높은 레이블 값을 최종 보팅 결괏값으로 선정.\n",
    "* __배깅(Bagging)__ : 각각의 분류기가 모두 같은 유형의 알고리즘 기반. 데이터 샘플링을 서로 다르게 가져가면서 학습을 수행해 보팅을 수행\n",
    "* __부스팅(Boosting)__ : 여러 개의 분류기가 순차적으로 학습을 수행하되, 앞에서 학습한 분류기가 예측이 틀린 데이터에 대해서는 올바르게 예측할 수 있도록 다음 분류기에게 가중치 부여.\n",
    "* __스태킹(Stacking)__ : 여러 가지 다른 모델의 예측 결괏값을 다시 학습 데이터로 만들어서 다른 모델(메타 모델)로 재학습시켜 결과를 예측\n",
    "\n",
    "__보팅 분류기(Voting Classifier)__    \n",
    "보팅 방식의 앙상블을 이용해 위스콘신 유방암 데이터 셋 예측 분석"
   ]
  },
  {
   "cell_type": "code",
   "execution_count": 1,
   "id": "b9a5675a",
   "metadata": {},
   "outputs": [
    {
     "data": {
      "text/html": [
       "<div>\n",
       "<style scoped>\n",
       "    .dataframe tbody tr th:only-of-type {\n",
       "        vertical-align: middle;\n",
       "    }\n",
       "\n",
       "    .dataframe tbody tr th {\n",
       "        vertical-align: top;\n",
       "    }\n",
       "\n",
       "    .dataframe thead th {\n",
       "        text-align: right;\n",
       "    }\n",
       "</style>\n",
       "<table border=\"1\" class=\"dataframe\">\n",
       "  <thead>\n",
       "    <tr style=\"text-align: right;\">\n",
       "      <th></th>\n",
       "      <th>mean radius</th>\n",
       "      <th>mean texture</th>\n",
       "      <th>mean perimeter</th>\n",
       "      <th>mean area</th>\n",
       "      <th>mean smoothness</th>\n",
       "      <th>mean compactness</th>\n",
       "      <th>mean concavity</th>\n",
       "      <th>mean concave points</th>\n",
       "      <th>mean symmetry</th>\n",
       "      <th>mean fractal dimension</th>\n",
       "      <th>...</th>\n",
       "      <th>worst radius</th>\n",
       "      <th>worst texture</th>\n",
       "      <th>worst perimeter</th>\n",
       "      <th>worst area</th>\n",
       "      <th>worst smoothness</th>\n",
       "      <th>worst compactness</th>\n",
       "      <th>worst concavity</th>\n",
       "      <th>worst concave points</th>\n",
       "      <th>worst symmetry</th>\n",
       "      <th>worst fractal dimension</th>\n",
       "    </tr>\n",
       "  </thead>\n",
       "  <tbody>\n",
       "    <tr>\n",
       "      <th>0</th>\n",
       "      <td>17.99</td>\n",
       "      <td>10.38</td>\n",
       "      <td>122.8</td>\n",
       "      <td>1001.0</td>\n",
       "      <td>0.11840</td>\n",
       "      <td>0.27760</td>\n",
       "      <td>0.3001</td>\n",
       "      <td>0.14710</td>\n",
       "      <td>0.2419</td>\n",
       "      <td>0.07871</td>\n",
       "      <td>...</td>\n",
       "      <td>25.38</td>\n",
       "      <td>17.33</td>\n",
       "      <td>184.6</td>\n",
       "      <td>2019.0</td>\n",
       "      <td>0.1622</td>\n",
       "      <td>0.6656</td>\n",
       "      <td>0.7119</td>\n",
       "      <td>0.2654</td>\n",
       "      <td>0.4601</td>\n",
       "      <td>0.11890</td>\n",
       "    </tr>\n",
       "    <tr>\n",
       "      <th>1</th>\n",
       "      <td>20.57</td>\n",
       "      <td>17.77</td>\n",
       "      <td>132.9</td>\n",
       "      <td>1326.0</td>\n",
       "      <td>0.08474</td>\n",
       "      <td>0.07864</td>\n",
       "      <td>0.0869</td>\n",
       "      <td>0.07017</td>\n",
       "      <td>0.1812</td>\n",
       "      <td>0.05667</td>\n",
       "      <td>...</td>\n",
       "      <td>24.99</td>\n",
       "      <td>23.41</td>\n",
       "      <td>158.8</td>\n",
       "      <td>1956.0</td>\n",
       "      <td>0.1238</td>\n",
       "      <td>0.1866</td>\n",
       "      <td>0.2416</td>\n",
       "      <td>0.1860</td>\n",
       "      <td>0.2750</td>\n",
       "      <td>0.08902</td>\n",
       "    </tr>\n",
       "    <tr>\n",
       "      <th>2</th>\n",
       "      <td>19.69</td>\n",
       "      <td>21.25</td>\n",
       "      <td>130.0</td>\n",
       "      <td>1203.0</td>\n",
       "      <td>0.10960</td>\n",
       "      <td>0.15990</td>\n",
       "      <td>0.1974</td>\n",
       "      <td>0.12790</td>\n",
       "      <td>0.2069</td>\n",
       "      <td>0.05999</td>\n",
       "      <td>...</td>\n",
       "      <td>23.57</td>\n",
       "      <td>25.53</td>\n",
       "      <td>152.5</td>\n",
       "      <td>1709.0</td>\n",
       "      <td>0.1444</td>\n",
       "      <td>0.4245</td>\n",
       "      <td>0.4504</td>\n",
       "      <td>0.2430</td>\n",
       "      <td>0.3613</td>\n",
       "      <td>0.08758</td>\n",
       "    </tr>\n",
       "  </tbody>\n",
       "</table>\n",
       "<p>3 rows × 30 columns</p>\n",
       "</div>"
      ],
      "text/plain": [
       "   mean radius  mean texture  mean perimeter  mean area  mean smoothness  \\\n",
       "0        17.99         10.38           122.8     1001.0          0.11840   \n",
       "1        20.57         17.77           132.9     1326.0          0.08474   \n",
       "2        19.69         21.25           130.0     1203.0          0.10960   \n",
       "\n",
       "   mean compactness  mean concavity  mean concave points  mean symmetry  \\\n",
       "0           0.27760          0.3001              0.14710         0.2419   \n",
       "1           0.07864          0.0869              0.07017         0.1812   \n",
       "2           0.15990          0.1974              0.12790         0.2069   \n",
       "\n",
       "   mean fractal dimension  ...  worst radius  worst texture  worst perimeter  \\\n",
       "0                 0.07871  ...         25.38          17.33            184.6   \n",
       "1                 0.05667  ...         24.99          23.41            158.8   \n",
       "2                 0.05999  ...         23.57          25.53            152.5   \n",
       "\n",
       "   worst area  worst smoothness  worst compactness  worst concavity  \\\n",
       "0      2019.0            0.1622             0.6656           0.7119   \n",
       "1      1956.0            0.1238             0.1866           0.2416   \n",
       "2      1709.0            0.1444             0.4245           0.4504   \n",
       "\n",
       "   worst concave points  worst symmetry  worst fractal dimension  \n",
       "0                0.2654          0.4601                  0.11890  \n",
       "1                0.1860          0.2750                  0.08902  \n",
       "2                0.2430          0.3613                  0.08758  \n",
       "\n",
       "[3 rows x 30 columns]"
      ]
     },
     "execution_count": 1,
     "metadata": {},
     "output_type": "execute_result"
    }
   ],
   "source": [
    "import pandas as pd\n",
    "\n",
    "from sklearn.ensemble import VotingClassifier\n",
    "from sklearn.linear_model import LogisticRegression\n",
    "from sklearn.neighbors import KNeighborsClassifier\n",
    "from sklearn.datasets import load_breast_cancer\n",
    "from sklearn.model_selection import train_test_split\n",
    "from sklearn.metrics import accuracy_score\n",
    "\n",
    "cancer = load_breast_cancer()\n",
    "\n",
    "data_df = pd.DataFrame(cancer.data, columns=cancer.feature_names)\n",
    "data_df.head(3)"
   ]
  },
  {
   "cell_type": "code",
   "execution_count": 3,
   "id": "c97b78cc",
   "metadata": {},
   "outputs": [
    {
     "name": "stdout",
     "output_type": "stream",
     "text": [
      "Voting 분류기 정확도 : 0.9561\n",
      "LogisticRegression 정확도 : 0.9474\n",
      "KNeighborsClassifier 정확도 : 0.9386\n"
     ]
    }
   ],
   "source": [
    "# 개별 모델은 로지스틱 회귀와 KNN\n",
    "lr_clf = LogisticRegression(solver='liblinear')\n",
    "knn_clf = KNeighborsClassifier(n_neighbors=8)\n",
    "\n",
    "# 개별 모델을 소프트 보팅 기반의 앙상블 모델로 구현한 분류기\n",
    "vo_clf = VotingClassifier(estimators=[('LR',lr_clf),('KNN',knn_clf)], voting='soft')\n",
    "\n",
    "X_train, X_test, y_train, y_test = train_test_split(cancer.data, cancer.target, test_size=0.2, random_state=156)\n",
    "\n",
    "# VotingClassifier 학습/예측/평가\n",
    "vo_clf.fit(X_train, y_train)\n",
    "pred = vo_clf.predict(X_test)\n",
    "print('Voting 분류기 정확도 : {0:.4f}'.format(accuracy_score(y_test,pred)))\n",
    "\n",
    "# 개별 모델의 학습/예측/평가\n",
    "classifiers = [lr_clf, knn_clf]\n",
    "for classifier in classifiers:\n",
    "    classifier.fit(X_train, y_train)\n",
    "    pred = classifier.predict(X_test)\n",
    "    class_name = classifier.__class__.__name__\n",
    "    print('{0} 정확도 : {1:.4f}'.format(class_name, accuracy_score(y_test,pred)))"
   ]
  },
  {
   "cell_type": "markdown",
   "id": "840ea143",
   "metadata": {},
   "source": [
    "## 랜덤 포레스트\n",
    "여러 개의 결정 트리 분류기가 전체 데이터에서 배깅 방식으로 각자의 데이터를 샘플링해 개별적으로 학습을 수행한 뒤 최종적으로 모든 분류기가 보팅을 통해 예측 결정을 함.    \n",
    "랜덤 포레스트의 서브셋 데이터는 부트스트래핑(여러 개의 작은 데이터 셋을 임의로 만들어 개별 평균의 분포도를 측정. 중첩되게 분리함.)으로 데이터가 임의로 만들어짐. 그렇게 데이터가 중첩된 개별 데이터 셋에 결정 트리 분류기를 각각 적용."
   ]
  },
  {
   "cell_type": "code",
   "execution_count": 12,
   "id": "0fece468",
   "metadata": {},
   "outputs": [
    {
     "name": "stdout",
     "output_type": "stream",
     "text": [
      "랜덤 포레스트 정확도 : 0.9196\n"
     ]
    }
   ],
   "source": [
    "from sklearn.ensemble import RandomForestClassifier\n",
    "from sklearn.metrics import accuracy_score\n",
    "import pandas as pd\n",
    "import warnings\n",
    "warnings.filterwarnings('ignore')\n",
    "\n",
    "# 결정 트리에서 사용한 get_human_dataset()을 이용해 학습/테스트용 DF 반환\n",
    "X_train,X_Test,y_train,y_test = get_human_dataset()\n",
    "\n",
    "# 랜덤 포레스트 학습 및 별도의 테스트 셋으로 예측 성능 평가\n",
    "rf_clf = RandomForestClassifier(random_state=0, max_depth=8)\n",
    "rf_clf.fit(X_train, y_train)\n",
    "pred = rf_clf.predict(X_test)\n",
    "accuracy = accuracy_score(y_test,pred)\n",
    "print('랜덤 포레스트 정확도 : {0:.4f}'.format(accuracy))"
   ]
  },
  {
   "cell_type": "markdown",
   "id": "61175f6d",
   "metadata": {},
   "source": [
    "__랜덤 포레스트 하이퍼 파라미터 및 튜닝__    \n",
    "* __n_estimators__ : 랜덤 포레스트에서 결정 트리의 개수를 지정. 디폴트는 10개. 늘릴수록 좋은 성능을 기대할 수 있지만, 성능이 무조건 향상되는 건 아님. 또한 학습 수행 시간이 오래 걸리는 것도 감안해야 함.\n",
    "* __max_features__ : 결정 트리의 max_features와 동일. default는 'auto' : sqrt(전체 피처 개수)\n",
    "* __max_depth, min_samples_leaf, min_samples_split__ 결정트리의 파라미터가 동일하게 적용"
   ]
  },
  {
   "cell_type": "code",
   "execution_count": 14,
   "id": "5ca596be",
   "metadata": {},
   "outputs": [
    {
     "name": "stdout",
     "output_type": "stream",
     "text": [
      "최적 하이퍼 파라미터:\n",
      " {'max_depth': 16, 'min_samples_leaf': 6, 'min_samples_split': 2}\n",
      "최고 예측 정확도:0.9165\n"
     ]
    }
   ],
   "source": [
    "# GridSearchCV를 이용해 하이퍼 파라미터 튜닝\n",
    "from sklearn.model_selection import GridSearchCV\n",
    "\n",
    "params = {'max_depth':[8,16,24],\n",
    "         'min_samples_leaf':[1,6,12],\n",
    "         'min_samples_split':[2,8,16]}\n",
    "# RandomForestClassifier 객체 생성 후 GridSearchCV 수행\n",
    "rf_clf = RandomForestClassifier(n_estimators=100, random_state=0, n_jobs=-1) #n_jobs=-1 : 모든 cpu코어를 이용해 학습 가능\n",
    "grid_cv = GridSearchCV(rf_clf, param_grid=params, cv=2, n_jobs=-1)\n",
    "grid_cv.fit(X_train, y_train)\n",
    "\n",
    "print('최적 하이퍼 파라미터:\\n',grid_cv.best_params_)\n",
    "print('최고 예측 정확도:{:.4f}'.format(grid_cv.best_score_))"
   ]
  },
  {
   "cell_type": "code",
   "execution_count": 16,
   "id": "251cce0c",
   "metadata": {},
   "outputs": [
    {
     "name": "stdout",
     "output_type": "stream",
     "text": [
      "예측 정확도: 0.9260\n"
     ]
    }
   ],
   "source": [
    "# 최적 하이퍼 파라미터로 rancdomforest classifier 학습시킨 뒤 별도의 테스트 데이터셋에서 예측 성능 측정\n",
    "rf_clf1 = RandomForestClassifier(n_estimators=100, min_samples_leaf=6, max_depth=16,\n",
    "                                min_samples_split=2, random_state=0)\n",
    "rf_clf1.fit(X_train,y_train)\n",
    "pred = rf_clf1.predict(X_test)\n",
    "print('예측 정확도: {:.4f}'.format(accuracy_score(y_test,pred)))"
   ]
  },
  {
   "cell_type": "code",
   "execution_count": 17,
   "id": "c63ea3fa",
   "metadata": {},
   "outputs": [
    {
     "data": {
      "image/png": "[encoded data removed]",
      "text/plain": [
       "<Figure size 576x432 with 1 Axes>"
      ]
     },
     "metadata": {
      "needs_background": "light"
     },
     "output_type": "display_data"
    }
   ],
   "source": [
    "# 피처 중요도 시각화\n",
    "import matplotlib.pyplot as plt\n",
    "import seaborn as sns\n",
    "%matplotlib inline\n",
    "\n",
    "ftr_importances_values = rf_clf1.feature_importances_\n",
    "ftr_importances = pd.Series(ftr_importances_values, index=X_train.columns)\n",
    "ftr_top20 = ftr_importances.sort_values(ascending=False)[:20]\n",
    "\n",
    "plt.figure(figsize=(8,6))\n",
    "plt.title('Feature importances Top 20')\n",
    "sns.barplot(x=ftr_top20, y=ftr_top20.index)\n",
    "plt.show()"
   ]
  },
  {
   "cell_type": "markdown",
   "id": "d35f4499",
   "metadata": {},
   "source": [
    "## GBM(Gradient Boosting Machine)"
   ]
  },
  {
   "cell_type": "code",
   "execution_count": 24,
   "id": "8ecd2f3c",
   "metadata": {},
   "outputs": [
    {
     "name": "stdout",
     "output_type": "stream",
     "text": [
      "GBM 정확도: 0.9389\n",
      "GBM 수행 시간: 1081.6 초\n"
     ]
    }
   ],
   "source": [
    "from sklearn.ensemble import GradientBoostingClassifier\n",
    "import time\n",
    "import warnings\n",
    "warnings.filterwarnings('ignore')\n",
    "\n",
    "X_train,X_Test,y_train,y_test = get_human_dataset()\n",
    "\n",
    "# GBM 수행 시간 측정을 위함. 시작 시간 설정\n",
    "start_time = time.time()\n",
    "\n",
    "gb_clf = GradientBoostingClassifier(random_state=0)\n",
    "gb_clf.fit(X_train, y_train)\n",
    "gb_pred = gb_clf.predict(X_test)\n",
    "gb_accuracy = accuracy_score(y_test, gb_pred)\n",
    "\n",
    "print('GBM 정확도: {0:.4f}'.format(gb_accuracy))\n",
    "print('GBM 수행 시간: {:.1f} 초'.format(time.time() - start_time))"
   ]
  },
  {
   "cell_type": "markdown",
   "id": "f0e40fa7",
   "metadata": {},
   "source": [
    "GBM은 랜덤 포레스트보다 예측 성능이 조금 뛰어난 경우가 많음. 그러나 수행 시간이 오래 걸리고, 하이퍼 파라미터 튜닝 노력도 더 필요함. \n",
    "\n",
    "__GBM 하이퍼 파라미터__    \n",
    "* __loss__ : 경사 하강법에서 사용할 비용 함수 지정. 특별한 이유가 없으면 기본값인 'deviance'를 그대로 적용.\n",
    "* __learning_rate__ : 학습을 진행할 때마다 적용하는 학습률로 순차적으로 오류 값을 보정해 나가는 데 적용하는 계수. 0~1 사이의 값을 지정하며 기본값 = 0.1임. 너무 작은 값을 적용하면 최소 오류 값을 찾아 예측 성능이 높아질 가능성이 높지만, 수행 시간이 오래걸림. 반대로 큰 값을 적용하면 최소 오류값을 찾지 못하고 그냥 지나칠 수 있지만, 시간은 빠름.\n",
    "* __n_estimators__ : weak learner의 개수. 순차적으로 오류를 보정하므로 개수가 많을 수록 예측 성능이 일정 수준까지 좋아질 수 있음. 개수가 많을수록 수행시간이 오래 걸림. learning_rate와 상호 보완적으로 사용함. learning_rate를 작게 하고 n_estimators를 크게 하면 더 이상 성능이 좋아지지 않는 한계점까지는 예측 성능이 조금씩 좋아질 수 있음.\n",
    "* __subsample__ : weak learner가 학습에 사용하는 데이터의 샘플링 비율. 기본값 = 1이고, 이는 전체 학습 데이터를 기반으로 학습한다는 의미. 과적합이 염려되는 경우 subsample을 1보다 작은 값으로 설정\n",
    "\n",
    "## XGBoost(eXtra Gradient Boost)\n",
    "* 뛰어난 예측 성능 : 분류와 회귀 영역에서 뛰어난 예측 성능\n",
    "* GBM 대비 빠른 수행 시간 : 병렬 수행 및 다양한 기능으로 GBM에 비해 빠른 수행 성능 보장.\n",
    "* 과적합 규제 : 표준 GBM의 경우 과적합 규제 기능이 없으나 XGBoost는 자체에 과적합 규제 기능으로 과적합에 좀 더 강한 내구성 가짐.\n",
    "* 나무 가지치기 : max_depth로 분할 깊이를 조정하기도 하지만, tree pruning으로 더 이상 긍정 이득 없는 분할을 가지치기 해서 분할 수를 줄이는 장점이 있음.\n",
    "* 자체 내장된 교차 검증 : 반복 수행 시마다 내부적으로 교차 검증을 수행해 최적화된 반복 수행 횟수를 가짐. 지정된 반복 횟수가 아니라 교차 검증을 통해 평가 데이터 세트의 평가 값이 최적화 되면 반복을 중간에 멈출 수 있는 조기 중단 기능 있음.\n",
    "* 결손값 자체 처리 : XGBoost는 결손값을 자체 처리할 수 있는 기능이 있음.\n",
    "__하이퍼 파라미터__    \n",
    "* 일반 파라미터 : 디폴트 파라미터 값을 바꾸는 경우는 거의 없음.\n",
    "    - __booster__ : gbtree(tree base model) 또는 gblinear(linear model) 선택, 디폴트는 gbtree\n",
    "    - __silent__ : 디폴트는 0. 출력 메시지를 나타내고 싶지 않을 때 1\n",
    "    - __nthread__ : CPU의 실행 스레드 개수 조정. 디폴트는 CPU 전체 스레드를 다 사용하는 것.\n",
    "* 부스터 파라미터\n",
    "    - __eta[default=0.3,alias:learning_rate]__ : GBM의 learning_rate와 같은 파라미터. 보통은 0.01~0.2의 값 선호. 싸이킷런 래퍼 클래스의 경우 디폴트는 0.1\n",
    "    - __num_boost_rounds__ : GBM의 n_estimators와 같은 파라미터\n",
    "    - __min_child_weight[default=1]__ : 트리에서 추가적으로 가지를 나눌지를 결정하기 위해 필요한 데이터들의 가중치 총합. 클수록 분할을 자제함. 과적합을 조절하기 위해 사용.\n",
    "    - __gamma[default=0, alias: min_split_loss]__ : 트리의 리프노드를 추가적으로 나눌지를 결정할 최소 손실 감소 값. 해당 값보다 큰 손실이 감소된 경우에 리프 노드 분리. 값이 클수록 과적합 감소 효과가 있음.\n",
    "    - __max_depth[default=6]__ : 트리 기반 알고리즘의 max_depth와 같음. 0을 지정하면 깊이에 제한이 없음. 높을수록 특정 피처 조건에 특화되어 룰 조건이 만들어지므로 과적합 가능성이 높아지며 보통은 3~10 사이의 값을 적용.\n",
    "    - __sub_sample[default=1]__ : GBM의 subsample과 동일. 일반적으로 0.5~1사이의 값 사용.\n",
    "    - __colsample_bytree[default=1]__ : GBM의 max_feature와 유사함. 트리 생성에 필요한 피처를 임의로 샘플링 하는데 사용하여 과적합을 조정하는데 적용.\n",
    "    - __lambda[default=1, alias:reg_lambda]__ : L2 Regularization 적용 값. 피처 개수가 많을 경우 적용을 검토하며 값이 클수록 과적합 감소 효과가 있음.\n",
    "    - __alpha[default=0, alias:reg_alpha]__ : L1 Regularization 적용 값. 피처 개수가 많을 경우 적용을 검토하며 값이 클수록 과적합 감소 효과가 있음.\n",
    "    - __scale_pos_weight[default=1]__ : 특정 값으로 치우친 비대칭한 클래스로 구성된 데이터 셋의 균현을 유지하기 위한 파라미터\n",
    "* 학습 태스크 파라미터\n",
    "    - __objective__ : 최솟값을 가져야 할 손실 함수 정의. \n",
    "    - __binary:logistic__ : 이진 분류일 때 적용.\n",
    "    - __multi:softmax__ : 다중 분류일 때 적용. 해당 손실함수를 적용할 경우 레이블 클래스 개수인 num_class 파라미터 지정해야 함.\n",
    "    - __multi:softporb__ : 개별 레이블 클래스의 해당되는 예측 확률 반환\n",
    "    - __eval_metric__ : 검증에 사용되는 함수 적용. 기본값은 회귀의 경우 rmse, 분류일 경우 error\n",
    "    (rmse, mae, logloss, error, merror, mlogloss, auc)\n",
    "\n",
    "__과적합 문제가 심각할 때__\n",
    "- eta 값을 낮춤(0.01~0.1). num_round(n_estimators)는 반대로 높여줘야 함.\n",
    "- max_depth 값을 낮춤.\n",
    "- min_child_weight 값을 높임.\n",
    "- gamma 값을 높임\n",
    "- subsample과 colsample_bytree를 조정하는 것도 트리가 복잡하게 생성되는 것을 막아 과적합 문제에 도움."
   ]
  },
  {
   "cell_type": "code",
   "execution_count": 1,
   "id": "64ab76c7",
   "metadata": {},
   "outputs": [
    {
     "name": "stdout",
     "output_type": "stream",
     "text": [
      "1.6.0\n"
     ]
    }
   ],
   "source": [
    "import xgboost as xgb\n",
    "print(xgb.__version__)"
   ]
  },
  {
   "cell_type": "markdown",
   "id": "9d1271ab",
   "metadata": {},
   "source": [
    "__파이썬 래퍼 XGBoost 적용 - 위스콘신 유방암 예측__"
   ]
  },
  {
   "cell_type": "code",
   "execution_count": 2,
   "id": "d9e05d32",
   "metadata": {},
   "outputs": [
    {
     "data": {
      "text/html": [
       "<div>\n",
       "<style scoped>\n",
       "    .dataframe tbody tr th:only-of-type {\n",
       "        vertical-align: middle;\n",
       "    }\n",
       "\n",
       "    .dataframe tbody tr th {\n",
       "        vertical-align: top;\n",
       "    }\n",
       "\n",
       "    .dataframe thead th {\n",
       "        text-align: right;\n",
       "    }\n",
       "</style>\n",
       "<table border=\"1\" class=\"dataframe\">\n",
       "  <thead>\n",
       "    <tr style=\"text-align: right;\">\n",
       "      <th></th>\n",
       "      <th>mean radius</th>\n",
       "      <th>mean texture</th>\n",
       "      <th>mean perimeter</th>\n",
       "      <th>mean area</th>\n",
       "      <th>mean smoothness</th>\n",
       "      <th>mean compactness</th>\n",
       "      <th>mean concavity</th>\n",
       "      <th>mean concave points</th>\n",
       "      <th>mean symmetry</th>\n",
       "      <th>mean fractal dimension</th>\n",
       "      <th>...</th>\n",
       "      <th>worst texture</th>\n",
       "      <th>worst perimeter</th>\n",
       "      <th>worst area</th>\n",
       "      <th>worst smoothness</th>\n",
       "      <th>worst compactness</th>\n",
       "      <th>worst concavity</th>\n",
       "      <th>worst concave points</th>\n",
       "      <th>worst symmetry</th>\n",
       "      <th>worst fractal dimension</th>\n",
       "      <th>target</th>\n",
       "    </tr>\n",
       "  </thead>\n",
       "  <tbody>\n",
       "    <tr>\n",
       "      <th>0</th>\n",
       "      <td>17.99</td>\n",
       "      <td>10.38</td>\n",
       "      <td>122.8</td>\n",
       "      <td>1001.0</td>\n",
       "      <td>0.11840</td>\n",
       "      <td>0.27760</td>\n",
       "      <td>0.3001</td>\n",
       "      <td>0.14710</td>\n",
       "      <td>0.2419</td>\n",
       "      <td>0.07871</td>\n",
       "      <td>...</td>\n",
       "      <td>17.33</td>\n",
       "      <td>184.6</td>\n",
       "      <td>2019.0</td>\n",
       "      <td>0.1622</td>\n",
       "      <td>0.6656</td>\n",
       "      <td>0.7119</td>\n",
       "      <td>0.2654</td>\n",
       "      <td>0.4601</td>\n",
       "      <td>0.11890</td>\n",
       "      <td>0</td>\n",
       "    </tr>\n",
       "    <tr>\n",
       "      <th>1</th>\n",
       "      <td>20.57</td>\n",
       "      <td>17.77</td>\n",
       "      <td>132.9</td>\n",
       "      <td>1326.0</td>\n",
       "      <td>0.08474</td>\n",
       "      <td>0.07864</td>\n",
       "      <td>0.0869</td>\n",
       "      <td>0.07017</td>\n",
       "      <td>0.1812</td>\n",
       "      <td>0.05667</td>\n",
       "      <td>...</td>\n",
       "      <td>23.41</td>\n",
       "      <td>158.8</td>\n",
       "      <td>1956.0</td>\n",
       "      <td>0.1238</td>\n",
       "      <td>0.1866</td>\n",
       "      <td>0.2416</td>\n",
       "      <td>0.1860</td>\n",
       "      <td>0.2750</td>\n",
       "      <td>0.08902</td>\n",
       "      <td>0</td>\n",
       "    </tr>\n",
       "    <tr>\n",
       "      <th>2</th>\n",
       "      <td>19.69</td>\n",
       "      <td>21.25</td>\n",
       "      <td>130.0</td>\n",
       "      <td>1203.0</td>\n",
       "      <td>0.10960</td>\n",
       "      <td>0.15990</td>\n",
       "      <td>0.1974</td>\n",
       "      <td>0.12790</td>\n",
       "      <td>0.2069</td>\n",
       "      <td>0.05999</td>\n",
       "      <td>...</td>\n",
       "      <td>25.53</td>\n",
       "      <td>152.5</td>\n",
       "      <td>1709.0</td>\n",
       "      <td>0.1444</td>\n",
       "      <td>0.4245</td>\n",
       "      <td>0.4504</td>\n",
       "      <td>0.2430</td>\n",
       "      <td>0.3613</td>\n",
       "      <td>0.08758</td>\n",
       "      <td>0</td>\n",
       "    </tr>\n",
       "  </tbody>\n",
       "</table>\n",
       "<p>3 rows × 31 columns</p>\n",
       "</div>"
      ],
      "text/plain": [
       "   mean radius  mean texture  mean perimeter  mean area  mean smoothness  \\\n",
       "0        17.99         10.38           122.8     1001.0          0.11840   \n",
       "1        20.57         17.77           132.9     1326.0          0.08474   \n",
       "2        19.69         21.25           130.0     1203.0          0.10960   \n",
       "\n",
       "   mean compactness  mean concavity  mean concave points  mean symmetry  \\\n",
       "0           0.27760          0.3001              0.14710         0.2419   \n",
       "1           0.07864          0.0869              0.07017         0.1812   \n",
       "2           0.15990          0.1974              0.12790         0.2069   \n",
       "\n",
       "   mean fractal dimension  ...  worst texture  worst perimeter  worst area  \\\n",
       "0                 0.07871  ...          17.33            184.6      2019.0   \n",
       "1                 0.05667  ...          23.41            158.8      1956.0   \n",
       "2                 0.05999  ...          25.53            152.5      1709.0   \n",
       "\n",
       "   worst smoothness  worst compactness  worst concavity  worst concave points  \\\n",
       "0            0.1622             0.6656           0.7119                0.2654   \n",
       "1            0.1238             0.1866           0.2416                0.1860   \n",
       "2            0.1444             0.4245           0.4504                0.2430   \n",
       "\n",
       "   worst symmetry  worst fractal dimension  target  \n",
       "0          0.4601                  0.11890       0  \n",
       "1          0.2750                  0.08902       0  \n",
       "2          0.3613                  0.08758       0  \n",
       "\n",
       "[3 rows x 31 columns]"
      ]
     },
     "execution_count": 2,
     "metadata": {},
     "output_type": "execute_result"
    }
   ],
   "source": [
    "import xgboost as xgb\n",
    "from xgboost import plot_importance\n",
    "import pandas as pd\n",
    "import numpy as np\n",
    "from sklearn.datasets import load_breast_cancer\n",
    "from sklearn.model_selection import train_test_split\n",
    "import warnings\n",
    "warnings.filterwarnings('ignore')\n",
    "\n",
    "dataset = load_breast_cancer()\n",
    "features = dataset.data\n",
    "labels = dataset.target\n",
    "\n",
    "cancer_df = pd.DataFrame(data=features, columns=dataset.feature_names)\n",
    "cancer_df['target'] = labels\n",
    "cancer_df.head(3)"
   ]
  },
  {
   "cell_type": "code",
   "execution_count": 3,
   "id": "c78b2390",
   "metadata": {},
   "outputs": [
    {
     "name": "stdout",
     "output_type": "stream",
     "text": [
      "['malignant' 'benign']\n",
      "1    357\n",
      "0    212\n",
      "Name: target, dtype: int64\n"
     ]
    }
   ],
   "source": [
    "# 레이블 값의 분포 확인\n",
    "print(dataset.target_names)\n",
    "print(cancer_df['target'].value_counts())"
   ]
  },
  {
   "cell_type": "code",
   "execution_count": 4,
   "id": "6129843d",
   "metadata": {},
   "outputs": [
    {
     "name": "stdout",
     "output_type": "stream",
     "text": [
      "(455, 30) (114, 30)\n",
      "(364, 30) (91, 30)\n"
     ]
    }
   ],
   "source": [
    "# cancer_df에서 feature용 DataFrame과 Label용 Series 객체 추출\n",
    "# 맨 마지막 컬럼이 Lable임. Feature용 DataFrame은 cancer_df의 첫번째 컬럼에서 맨 마지막 두번째 컬럼까지를 :-1 슬라이싱으로 추출\n",
    "X_features = cancer_df.iloc[:,:-1]\n",
    "y_label = cancer_df.iloc[:,-1]\n",
    "\n",
    "# 전체 데이터 중 80%는 학습용 데이터, 20%는 테스트용 데이터 추출\n",
    "X_train, X_test, y_train, y_test = train_test_split(X_features, y_label, test_size=0.2, random_state=156)\n",
    "\n",
    "# 위에서 만든 X_train, y_train을 다시 쪼개서 90%는 학습과 10%는 검증용 데이터로 분리\n",
    "X_tr, X_val, y_tr, y_val = train_test_split(X_train, y_train, test_size=0.2, random_state=156)\n",
    "\n",
    "print(X_train.shape, X_test.shape)\n",
    "print(X_tr.shape, X_val.shape)"
   ]
  },
  {
   "cell_type": "code",
   "execution_count": 5,
   "id": "fa99a960",
   "metadata": {},
   "outputs": [],
   "source": [
    "# XGBoost는 Dmatrix를 사용\n",
    "# 만약 구버전 XGBoost에서 DataFrame으로 DMatrix 생성이 안 될 경우 X_train.values로 넘파이 변환\n",
    "# 학습, 검증, 테스트용 DMatrix를 생성\n",
    "dtr = xgb.DMatrix(data=X_tr, label=y_tr)\n",
    "dval = xgb.DMatrix(data=X_val, label=y_val)\n",
    "dtest = xgb.DMatrix(data=X_test, label=y_test)"
   ]
  },
  {
   "cell_type": "code",
   "execution_count": 6,
   "id": "30ecdd52",
   "metadata": {},
   "outputs": [],
   "source": [
    "params = {'max_depth':3, # 트리 최대 깊이\n",
    "         'eta':0.05, # 학습률\n",
    "         'objective':'binary:logistic', # 이진 분류이므로 이진 로지스특\n",
    "         'eval_metric':'logloss'\n",
    "         }\n",
    "num_rounds = 400 # 부스팅 반복 횟수"
   ]
  },
  {
   "cell_type": "code",
   "execution_count": 9,
   "id": "12ad3530",
   "metadata": {},
   "outputs": [
    {
     "name": "stdout",
     "output_type": "stream",
     "text": [
      "[0]\ttrain-logloss:0.64965\teval-logloss:0.65721\n",
      "[1]\ttrain-logloss:0.61035\teval-logloss:0.62496\n",
      "[2]\ttrain-logloss:0.57484\teval-logloss:0.59755\n",
      "[3]\ttrain-logloss:0.54165\teval-logloss:0.57116\n",
      "[4]\ttrain-logloss:0.51171\teval-logloss:0.54850\n",
      "[5]\ttrain-logloss:0.48304\teval-logloss:0.52579\n",
      "[6]\ttrain-logloss:0.45752\teval-logloss:0.50718\n",
      "[7]\ttrain-logloss:0.43269\teval-logloss:0.48616\n",
      "[8]\ttrain-logloss:0.40968\teval-logloss:0.46626\n",
      "[9]\ttrain-logloss:0.38902\teval-logloss:0.44961\n",
      "[10]\ttrain-logloss:0.36904\teval-logloss:0.43292\n",
      "[11]\ttrain-logloss:0.35044\teval-logloss:0.41685\n",
      "[12]\ttrain-logloss:0.33364\teval-logloss:0.40267\n",
      "[13]\ttrain-logloss:0.31734\teval-logloss:0.38927\n",
      "[14]\ttrain-logloss:0.30210\teval-logloss:0.37622\n",
      "[15]\ttrain-logloss:0.28746\teval-logloss:0.36444\n",
      "[16]\ttrain-logloss:0.27375\teval-logloss:0.35352\n",
      "[17]\ttrain-logloss:0.26117\teval-logloss:0.34391\n",
      "[18]\ttrain-logloss:0.24901\teval-logloss:0.33391\n",
      "[19]\ttrain-logloss:0.23785\teval-logloss:0.32509\n",
      "[20]\ttrain-logloss:0.22698\teval-logloss:0.31733\n",
      "[21]\ttrain-logloss:0.21676\teval-logloss:0.31015\n",
      "[22]\ttrain-logloss:0.20714\teval-logloss:0.30244\n",
      "[23]\ttrain-logloss:0.19803\teval-logloss:0.29622\n",
      "[24]\ttrain-logloss:0.18932\teval-logloss:0.28900\n",
      "[25]\ttrain-logloss:0.18109\teval-logloss:0.28300\n",
      "[26]\ttrain-logloss:0.17339\teval-logloss:0.27727\n",
      "[27]\ttrain-logloss:0.16619\teval-logloss:0.27207\n",
      "[28]\ttrain-logloss:0.15928\teval-logloss:0.26710\n",
      "[29]\ttrain-logloss:0.15290\teval-logloss:0.26345\n",
      "[30]\ttrain-logloss:0.14664\teval-logloss:0.25953\n",
      "[31]\ttrain-logloss:0.14086\teval-logloss:0.25600\n",
      "[32]\ttrain-logloss:0.13541\teval-logloss:0.25193\n",
      "[33]\ttrain-logloss:0.13024\teval-logloss:0.24878\n",
      "[34]\ttrain-logloss:0.12534\teval-logloss:0.24617\n",
      "[35]\ttrain-logloss:0.12052\teval-logloss:0.24311\n",
      "[36]\ttrain-logloss:0.11609\teval-logloss:0.24066\n",
      "[37]\ttrain-logloss:0.11172\teval-logloss:0.23780\n",
      "[38]\ttrain-logloss:0.10763\teval-logloss:0.23469\n",
      "[39]\ttrain-logloss:0.10367\teval-logloss:0.23249\n",
      "[40]\ttrain-logloss:0.10005\teval-logloss:0.23079\n",
      "[41]\ttrain-logloss:0.09654\teval-logloss:0.22909\n",
      "[42]\ttrain-logloss:0.09313\teval-logloss:0.22723\n",
      "[43]\ttrain-logloss:0.08987\teval-logloss:0.22578\n",
      "[44]\ttrain-logloss:0.08688\teval-logloss:0.22419\n",
      "[45]\ttrain-logloss:0.08394\teval-logloss:0.22263\n",
      "[46]\ttrain-logloss:0.08118\teval-logloss:0.22171\n",
      "[47]\ttrain-logloss:0.07851\teval-logloss:0.22089\n",
      "[48]\ttrain-logloss:0.07608\teval-logloss:0.22029\n",
      "[49]\ttrain-logloss:0.07359\teval-logloss:0.21954\n",
      "[50]\ttrain-logloss:0.07139\teval-logloss:0.21889\n",
      "[51]\ttrain-logloss:0.06913\teval-logloss:0.21836\n",
      "[52]\ttrain-logloss:0.06713\teval-logloss:0.21811\n",
      "[53]\ttrain-logloss:0.06506\teval-logloss:0.21784\n",
      "[54]\ttrain-logloss:0.06306\teval-logloss:0.21744\n",
      "[55]\ttrain-logloss:0.06130\teval-logloss:0.21693\n",
      "[56]\ttrain-logloss:0.05950\teval-logloss:0.21674\n",
      "[57]\ttrain-logloss:0.05779\teval-logloss:0.21631\n",
      "[58]\ttrain-logloss:0.05618\teval-logloss:0.21567\n",
      "[59]\ttrain-logloss:0.05454\teval-logloss:0.21558\n",
      "[60]\ttrain-logloss:0.05304\teval-logloss:0.21534\n",
      "[61]\ttrain-logloss:0.05153\teval-logloss:0.21538\n",
      "[62]\ttrain-logloss:0.05020\teval-logloss:0.21497\n",
      "[63]\ttrain-logloss:0.04886\teval-logloss:0.21529\n",
      "[64]\ttrain-logloss:0.04753\teval-logloss:0.21500\n",
      "[65]\ttrain-logloss:0.04625\teval-logloss:0.21470\n",
      "[66]\ttrain-logloss:0.04510\teval-logloss:0.21541\n",
      "[67]\ttrain-logloss:0.04389\teval-logloss:0.21568\n",
      "[68]\ttrain-logloss:0.04288\teval-logloss:0.21528\n",
      "[69]\ttrain-logloss:0.04178\teval-logloss:0.21523\n",
      "[70]\ttrain-logloss:0.04077\teval-logloss:0.21598\n",
      "[71]\ttrain-logloss:0.03980\teval-logloss:0.21563\n",
      "[72]\ttrain-logloss:0.03883\teval-logloss:0.21572\n",
      "[73]\ttrain-logloss:0.03791\teval-logloss:0.21506\n",
      "[74]\ttrain-logloss:0.03714\teval-logloss:0.21496\n",
      "[75]\ttrain-logloss:0.03627\teval-logloss:0.21515\n",
      "[76]\ttrain-logloss:0.03548\teval-logloss:0.21498\n",
      "[77]\ttrain-logloss:0.03472\teval-logloss:0.21551\n",
      "[78]\ttrain-logloss:0.03402\teval-logloss:0.21604\n",
      "[79]\ttrain-logloss:0.03329\teval-logloss:0.21631\n",
      "[80]\ttrain-logloss:0.03264\teval-logloss:0.21704\n",
      "[81]\ttrain-logloss:0.03195\teval-logloss:0.21683\n",
      "[82]\ttrain-logloss:0.03133\teval-logloss:0.21732\n",
      "[83]\ttrain-logloss:0.03070\teval-logloss:0.21763\n",
      "[84]\ttrain-logloss:0.03017\teval-logloss:0.21772\n",
      "[85]\ttrain-logloss:0.02953\teval-logloss:0.21808\n",
      "[86]\ttrain-logloss:0.02899\teval-logloss:0.21860\n",
      "[87]\ttrain-logloss:0.02844\teval-logloss:0.21886\n",
      "[88]\ttrain-logloss:0.02790\teval-logloss:0.21883\n",
      "[89]\ttrain-logloss:0.02739\teval-logloss:0.21889\n",
      "[90]\ttrain-logloss:0.02694\teval-logloss:0.21937\n",
      "[91]\ttrain-logloss:0.02647\teval-logloss:0.21953\n",
      "[92]\ttrain-logloss:0.02595\teval-logloss:0.21996\n",
      "[93]\ttrain-logloss:0.02552\teval-logloss:0.22017\n",
      "[94]\ttrain-logloss:0.02504\teval-logloss:0.21991\n",
      "[95]\ttrain-logloss:0.02460\teval-logloss:0.21994\n",
      "[96]\ttrain-logloss:0.02416\teval-logloss:0.21971\n",
      "[97]\ttrain-logloss:0.02380\teval-logloss:0.21924\n",
      "[98]\ttrain-logloss:0.02344\teval-logloss:0.22016\n",
      "[99]\ttrain-logloss:0.02307\teval-logloss:0.22042\n",
      "[100]\ttrain-logloss:0.02269\teval-logloss:0.22047\n",
      "[101]\ttrain-logloss:0.02234\teval-logloss:0.22075\n",
      "[102]\ttrain-logloss:0.02201\teval-logloss:0.22044\n",
      "[103]\ttrain-logloss:0.02170\teval-logloss:0.22006\n",
      "[104]\ttrain-logloss:0.02141\teval-logloss:0.22060\n",
      "[105]\ttrain-logloss:0.02111\teval-logloss:0.22154\n",
      "[106]\ttrain-logloss:0.02081\teval-logloss:0.22185\n",
      "[107]\ttrain-logloss:0.02054\teval-logloss:0.22266\n",
      "[108]\ttrain-logloss:0.02025\teval-logloss:0.22240\n",
      "[109]\ttrain-logloss:0.02000\teval-logloss:0.22294\n",
      "[110]\ttrain-logloss:0.01974\teval-logloss:0.22386\n",
      "[111]\ttrain-logloss:0.01947\teval-logloss:0.22346\n",
      "[112]\ttrain-logloss:0.01925\teval-logloss:0.22400\n",
      "[113]\ttrain-logloss:0.01896\teval-logloss:0.22233\n",
      "[114]\ttrain-logloss:0.01873\teval-logloss:0.22311\n",
      "[115]\ttrain-logloss:0.01852\teval-logloss:0.22300\n"
     ]
    }
   ],
   "source": [
    "# 조기 중단의 성능 평가는 별도의 검증 데이터 셋을 이용함. 이때 평가용 데이터 셋 지정과 eval_metric을 함꼐 설정\n",
    "# 학습 데이터 셋은 'train' 또는 평가 데이터 셋은 'eval'로 명기함.\n",
    "eval_list = [(dtr,'train'),(dval,'eval')] # 또는 eval_list = [(dval,'eval')]만 명기해도 무방함.\n",
    "\n",
    "# 하이퍼 파라미터와 early stopping 파라미터를 train() 함수의 파라미터로 전달\n",
    "xgb_model = xgb.train(params=params, dtrain=dtr, num_boost_round=num_rounds, early_stopping_rounds=50, evals=eval_list)"
   ]
  },
  {
   "cell_type": "markdown",
   "id": "1a4a14d0",
   "metadata": {},
   "source": [
    "65회의 logloss가 0.21470으로 가장 낮고, early_stopping_rounds를 50으로 설정해 50회 동안 logloss값이 향상되지 않았기 때문에 115회에서 멈춤."
   ]
  },
  {
   "cell_type": "code",
   "execution_count": 10,
   "id": "fe9b447b",
   "metadata": {},
   "outputs": [
    {
     "name": "stdout",
     "output_type": "stream",
     "text": [
      "predict() 수행 결괏값을 10개만 표시, 예측 확률값으로 표시됨.\n",
      "[0.979 0.023 0.686 0.141 0.985 0.996 0.996 0.995 0.994 0.005]\n",
      "예측값 10개만 표시: [1, 0, 1, 0, 1, 1, 1, 1, 1, 0]\n"
     ]
    }
   ],
   "source": [
    "pred_probs = xgb_model.predict(dtest)\n",
    "print('predict() 수행 결괏값을 10개만 표시, 예측 확률값으로 표시됨.')\n",
    "print(np.round(pred_probs[:10],3))\n",
    "\n",
    "# 예측 확률이 0.5보다 크면 1, 그렇지 않으면 0으로 예측값을 결정하여 list 객체인 preds에 저장\n",
    "preds = [1 if x>0.5 else 0 for x in pred_probs]\n",
    "print('예측값 10개만 표시:',preds[:10])"
   ]
  },
  {
   "cell_type": "code",
   "execution_count": 15,
   "id": "071c241c",
   "metadata": {},
   "outputs": [],
   "source": [
    "from sklearn.metrics import roc_auc_score, f1_score, confusion_matrix, accuracy_score, precision_score, recall_score\n",
    "\n",
    "def get_clf_eval(y_test,pred=None, pred_proba=None):\n",
    "    confusion = confusion_matrix(y_test,pred)\n",
    "    accuracy = accuracy_score(y_test,pred)\n",
    "    precision = precision_score(y_test,pred)\n",
    "    recall = recall_score(y_test,pred)\n",
    "    f1 = f1_score(y_test,pred)\n",
    "    roc_auc = roc_auc_score(y_test, pred_proba)\n",
    "    print('오차 행렬')\n",
    "    print(confusion)\n",
    "    print('정확도:{0:.4f}, 정밀도:{1:.4f}, 재현율:{2:.4f}, F1:{3:.4f}, AUC:{4:.4f}'.format(accuracy,precision,recall,f1, roc_auc))"
   ]
  },
  {
   "cell_type": "code",
   "execution_count": 22,
   "id": "852d6c94",
   "metadata": {},
   "outputs": [
    {
     "name": "stdout",
     "output_type": "stream",
     "text": [
      "오차 행렬\n",
      "[[34  3]\n",
      " [ 3 74]]\n",
      "정확도:0.9474, 정밀도:0.9610, 재현율:0.9610, F1:0.9610, AUC:0.9912\n"
     ]
    }
   ],
   "source": [
    "get_clf_eval(y_test,preds,pred_probs)"
   ]
  },
  {
   "cell_type": "code",
   "execution_count": 23,
   "id": "4e8fbee1",
   "metadata": {},
   "outputs": [],
   "source": [
    "# 싸이킷런 래퍼 XGBoost 클래스인 XGBClassifier 임포트\n",
    "from xgboost import XGBClassifier\n",
    "\n",
    "# Warning 메시지를 없애기 위해 eval_metric 값을 XGBClassifier 생성 인자로 입력.\n",
    "xgb_wrapper = XGBClassifier(n_estimators=400, learning_rate=0.05, max_depth=3,\n",
    "                           eval_metric='logloss')\n",
    "xgb_wrapper.fit(X_train, y_train, verbose=True)\n",
    "w_preds = xgb_wrapper.predict(X_test)\n",
    "w_pred_proba = xgb_wrapper.predict_proba(X_test)[:,1]"
   ]
  },
  {
   "cell_type": "code",
   "execution_count": 24,
   "id": "6f382e55",
   "metadata": {},
   "outputs": [
    {
     "name": "stdout",
     "output_type": "stream",
     "text": [
      "오차 행렬\n",
      "[[34  3]\n",
      " [ 1 76]]\n",
      "정확도:0.9649, 정밀도:0.9620, 재현율:0.9870, F1:0.9744, AUC:0.9954\n"
     ]
    }
   ],
   "source": [
    "get_clf_eval(y_test, w_preds, w_pred_proba)"
   ]
  },
  {
   "cell_type": "code",
   "execution_count": 39,
   "id": "ae83069d",
   "metadata": {},
   "outputs": [
    {
     "name": "stdout",
     "output_type": "stream",
     "text": [
      "[0]\tvalidation_0-logloss:0.64965\tvalidation_1-logloss:0.65721\n",
      "[1]\tvalidation_0-logloss:0.61035\tvalidation_1-logloss:0.62496\n",
      "[2]\tvalidation_0-logloss:0.57484\tvalidation_1-logloss:0.59755\n",
      "[3]\tvalidation_0-logloss:0.54165\tvalidation_1-logloss:0.57116\n",
      "[4]\tvalidation_0-logloss:0.51171\tvalidation_1-logloss:0.54850\n",
      "[5]\tvalidation_0-logloss:0.48304\tvalidation_1-logloss:0.52579\n",
      "[6]\tvalidation_0-logloss:0.45752\tvalidation_1-logloss:0.50718\n",
      "[7]\tvalidation_0-logloss:0.43269\tvalidation_1-logloss:0.48616\n",
      "[8]\tvalidation_0-logloss:0.40968\tvalidation_1-logloss:0.46626\n",
      "[9]\tvalidation_0-logloss:0.38902\tvalidation_1-logloss:0.44961\n",
      "[10]\tvalidation_0-logloss:0.36904\tvalidation_1-logloss:0.43292\n",
      "[11]\tvalidation_0-logloss:0.35044\tvalidation_1-logloss:0.41685\n",
      "[12]\tvalidation_0-logloss:0.33364\tvalidation_1-logloss:0.40267\n",
      "[13]\tvalidation_0-logloss:0.31734\tvalidation_1-logloss:0.38927\n",
      "[14]\tvalidation_0-logloss:0.30210\tvalidation_1-logloss:0.37622\n",
      "[15]\tvalidation_0-logloss:0.28746\tvalidation_1-logloss:0.36444\n",
      "[16]\tvalidation_0-logloss:0.27375\tvalidation_1-logloss:0.35352\n",
      "[17]\tvalidation_0-logloss:0.26117\tvalidation_1-logloss:0.34391\n",
      "[18]\tvalidation_0-logloss:0.24901\tvalidation_1-logloss:0.33391\n",
      "[19]\tvalidation_0-logloss:0.23785\tvalidation_1-logloss:0.32509\n",
      "[20]\tvalidation_0-logloss:0.22698\tvalidation_1-logloss:0.31733\n",
      "[21]\tvalidation_0-logloss:0.21676\tvalidation_1-logloss:0.31015\n",
      "[22]\tvalidation_0-logloss:0.20714\tvalidation_1-logloss:0.30244\n",
      "[23]\tvalidation_0-logloss:0.19803\tvalidation_1-logloss:0.29622\n",
      "[24]\tvalidation_0-logloss:0.18932\tvalidation_1-logloss:0.28900\n",
      "[25]\tvalidation_0-logloss:0.18109\tvalidation_1-logloss:0.28300\n",
      "[26]\tvalidation_0-logloss:0.17339\tvalidation_1-logloss:0.27727\n",
      "[27]\tvalidation_0-logloss:0.16619\tvalidation_1-logloss:0.27207\n",
      "[28]\tvalidation_0-logloss:0.15928\tvalidation_1-logloss:0.26710\n",
      "[29]\tvalidation_0-logloss:0.15290\tvalidation_1-logloss:0.26345\n",
      "[30]\tvalidation_0-logloss:0.14664\tvalidation_1-logloss:0.25953\n",
      "[31]\tvalidation_0-logloss:0.14086\tvalidation_1-logloss:0.25600\n",
      "[32]\tvalidation_0-logloss:0.13541\tvalidation_1-logloss:0.25193\n",
      "[33]\tvalidation_0-logloss:0.13024\tvalidation_1-logloss:0.24878\n",
      "[34]\tvalidation_0-logloss:0.12534\tvalidation_1-logloss:0.24617\n",
      "[35]\tvalidation_0-logloss:0.12052\tvalidation_1-logloss:0.24311\n",
      "[36]\tvalidation_0-logloss:0.11609\tvalidation_1-logloss:0.24066\n",
      "[37]\tvalidation_0-logloss:0.11172\tvalidation_1-logloss:0.23780\n",
      "[38]\tvalidation_0-logloss:0.10763\tvalidation_1-logloss:0.23469\n",
      "[39]\tvalidation_0-logloss:0.10367\tvalidation_1-logloss:0.23249\n",
      "[40]\tvalidation_0-logloss:0.10005\tvalidation_1-logloss:0.23079\n",
      "[41]\tvalidation_0-logloss:0.09654\tvalidation_1-logloss:0.22909\n",
      "[42]\tvalidation_0-logloss:0.09313\tvalidation_1-logloss:0.22723\n",
      "[43]\tvalidation_0-logloss:0.08987\tvalidation_1-logloss:0.22578\n",
      "[44]\tvalidation_0-logloss:0.08688\tvalidation_1-logloss:0.22419\n",
      "[45]\tvalidation_0-logloss:0.08394\tvalidation_1-logloss:0.22263\n",
      "[46]\tvalidation_0-logloss:0.08118\tvalidation_1-logloss:0.22171\n",
      "[47]\tvalidation_0-logloss:0.07851\tvalidation_1-logloss:0.22089\n",
      "[48]\tvalidation_0-logloss:0.07608\tvalidation_1-logloss:0.22029\n",
      "[49]\tvalidation_0-logloss:0.07359\tvalidation_1-logloss:0.21954\n",
      "[50]\tvalidation_0-logloss:0.07139\tvalidation_1-logloss:0.21889\n",
      "[51]\tvalidation_0-logloss:0.06913\tvalidation_1-logloss:0.21836\n",
      "[52]\tvalidation_0-logloss:0.06713\tvalidation_1-logloss:0.21811\n",
      "[53]\tvalidation_0-logloss:0.06506\tvalidation_1-logloss:0.21784\n",
      "[54]\tvalidation_0-logloss:0.06306\tvalidation_1-logloss:0.21744\n",
      "[55]\tvalidation_0-logloss:0.06130\tvalidation_1-logloss:0.21693\n",
      "[56]\tvalidation_0-logloss:0.05950\tvalidation_1-logloss:0.21674\n",
      "[57]\tvalidation_0-logloss:0.05779\tvalidation_1-logloss:0.21631\n",
      "[58]\tvalidation_0-logloss:0.05618\tvalidation_1-logloss:0.21567\n",
      "[59]\tvalidation_0-logloss:0.05454\tvalidation_1-logloss:0.21558\n",
      "[60]\tvalidation_0-logloss:0.05304\tvalidation_1-logloss:0.21534\n",
      "[61]\tvalidation_0-logloss:0.05153\tvalidation_1-logloss:0.21538\n",
      "[62]\tvalidation_0-logloss:0.05020\tvalidation_1-logloss:0.21497\n",
      "[63]\tvalidation_0-logloss:0.04886\tvalidation_1-logloss:0.21529\n",
      "[64]\tvalidation_0-logloss:0.04753\tvalidation_1-logloss:0.21500\n",
      "[65]\tvalidation_0-logloss:0.04625\tvalidation_1-logloss:0.21470\n",
      "[66]\tvalidation_0-logloss:0.04510\tvalidation_1-logloss:0.21541\n",
      "[67]\tvalidation_0-logloss:0.04389\tvalidation_1-logloss:0.21568\n",
      "[68]\tvalidation_0-logloss:0.04288\tvalidation_1-logloss:0.21528\n",
      "[69]\tvalidation_0-logloss:0.04178\tvalidation_1-logloss:0.21523\n",
      "[70]\tvalidation_0-logloss:0.04077\tvalidation_1-logloss:0.21598\n",
      "[71]\tvalidation_0-logloss:0.03980\tvalidation_1-logloss:0.21563\n",
      "[72]\tvalidation_0-logloss:0.03883\tvalidation_1-logloss:0.21572\n",
      "[73]\tvalidation_0-logloss:0.03791\tvalidation_1-logloss:0.21506\n",
      "[74]\tvalidation_0-logloss:0.03714\tvalidation_1-logloss:0.21496\n",
      "[75]\tvalidation_0-logloss:0.03627\tvalidation_1-logloss:0.21515\n",
      "[76]\tvalidation_0-logloss:0.03548\tvalidation_1-logloss:0.21498\n",
      "[77]\tvalidation_0-logloss:0.03472\tvalidation_1-logloss:0.21551\n",
      "[78]\tvalidation_0-logloss:0.03402\tvalidation_1-logloss:0.21604\n",
      "[79]\tvalidation_0-logloss:0.03329\tvalidation_1-logloss:0.21631\n",
      "[80]\tvalidation_0-logloss:0.03264\tvalidation_1-logloss:0.21704\n",
      "[81]\tvalidation_0-logloss:0.03195\tvalidation_1-logloss:0.21683\n",
      "[82]\tvalidation_0-logloss:0.03133\tvalidation_1-logloss:0.21732\n",
      "[83]\tvalidation_0-logloss:0.03070\tvalidation_1-logloss:0.21763\n",
      "[84]\tvalidation_0-logloss:0.03017\tvalidation_1-logloss:0.21772\n",
      "[85]\tvalidation_0-logloss:0.02953\tvalidation_1-logloss:0.21808\n",
      "[86]\tvalidation_0-logloss:0.02899\tvalidation_1-logloss:0.21860\n",
      "[87]\tvalidation_0-logloss:0.02844\tvalidation_1-logloss:0.21886\n",
      "[88]\tvalidation_0-logloss:0.02790\tvalidation_1-logloss:0.21883\n",
      "[89]\tvalidation_0-logloss:0.02739\tvalidation_1-logloss:0.21889\n",
      "[90]\tvalidation_0-logloss:0.02694\tvalidation_1-logloss:0.21937\n",
      "[91]\tvalidation_0-logloss:0.02647\tvalidation_1-logloss:0.21953\n",
      "[92]\tvalidation_0-logloss:0.02595\tvalidation_1-logloss:0.21996\n",
      "[93]\tvalidation_0-logloss:0.02552\tvalidation_1-logloss:0.22017\n",
      "[94]\tvalidation_0-logloss:0.02504\tvalidation_1-logloss:0.21991\n",
      "[95]\tvalidation_0-logloss:0.02460\tvalidation_1-logloss:0.21994\n",
      "[96]\tvalidation_0-logloss:0.02416\tvalidation_1-logloss:0.21971\n",
      "[97]\tvalidation_0-logloss:0.02380\tvalidation_1-logloss:0.21924\n",
      "[98]\tvalidation_0-logloss:0.02344\tvalidation_1-logloss:0.22016\n",
      "[99]\tvalidation_0-logloss:0.02307\tvalidation_1-logloss:0.22042\n",
      "[100]\tvalidation_0-logloss:0.02269\tvalidation_1-logloss:0.22047\n",
      "[101]\tvalidation_0-logloss:0.02234\tvalidation_1-logloss:0.22075\n",
      "[102]\tvalidation_0-logloss:0.02201\tvalidation_1-logloss:0.22044\n",
      "[103]\tvalidation_0-logloss:0.02170\tvalidation_1-logloss:0.22006\n",
      "[104]\tvalidation_0-logloss:0.02141\tvalidation_1-logloss:0.22060\n",
      "[105]\tvalidation_0-logloss:0.02111\tvalidation_1-logloss:0.22154\n",
      "[106]\tvalidation_0-logloss:0.02081\tvalidation_1-logloss:0.22185\n",
      "[107]\tvalidation_0-logloss:0.02054\tvalidation_1-logloss:0.22266\n",
      "[108]\tvalidation_0-logloss:0.02025\tvalidation_1-logloss:0.22240\n",
      "[109]\tvalidation_0-logloss:0.02000\tvalidation_1-logloss:0.22294\n",
      "[110]\tvalidation_0-logloss:0.01974\tvalidation_1-logloss:0.22386\n",
      "[111]\tvalidation_0-logloss:0.01947\tvalidation_1-logloss:0.22346\n",
      "[112]\tvalidation_0-logloss:0.01925\tvalidation_1-logloss:0.22400\n",
      "[113]\tvalidation_0-logloss:0.01896\tvalidation_1-logloss:0.22233\n",
      "[114]\tvalidation_0-logloss:0.01873\tvalidation_1-logloss:0.22311\n"
     ]
    }
   ],
   "source": [
    "from xgboost import XGBClassifier\n",
    "\n",
    "xgb_wrapper = XGBClassifier(n_estimators=400, learning_rate=0.05, max_depth=3)\n",
    "evals = [(X_tr,y_tr),(X_val,y_val)] # 아의 튜플이 학습용 데이터, 뒤의 튜플이 검증용 데이터로 자동 인식\n",
    "xgb_wrapper.fit(X_tr,y_tr,early_stopping_rounds=50, eval_metric='logloss',eval_set=evals, verbose=True) \n",
    "#verbose=False or 0은 출력하지 않음\n",
    "\n",
    "ws50_preds = xgb_wrapper.predict(X_test)\n",
    "ws50_pred_proba = xgb_wrapper.predict_proba(X_test)[:,1]"
   ]
  },
  {
   "cell_type": "code",
   "execution_count": 37,
   "id": "0136453a",
   "metadata": {},
   "outputs": [
    {
     "name": "stdout",
     "output_type": "stream",
     "text": [
      "오차 행렬\n",
      "[[35  2]\n",
      " [ 3 74]]\n",
      "정확도:0.9561, 정밀도:0.9737, 재현율:0.9610, F1:0.9673, AUC:0.9923\n"
     ]
    }
   ],
   "source": [
    "get_clf_eval(y_test, ws50_preds, ws50_pred_proba)"
   ]
  },
  {
   "cell_type": "code",
   "execution_count": 40,
   "id": "5870278b",
   "metadata": {},
   "outputs": [
    {
     "name": "stdout",
     "output_type": "stream",
     "text": [
      "오차 행렬\n",
      "[[35  2]\n",
      " [ 4 73]]\n",
      "정확도:0.9474, 정밀도:0.9733, 재현율:0.9481, F1:0.9605, AUC:0.9919\n"
     ]
    }
   ],
   "source": [
    "# early_stopping_rounds를 10으로 설정하고 재학습\n",
    "xgb_wrapper.fit(X_tr,y_tr,early_stopping_rounds=10,eval_metric='logloss',eval_set=evals,verbose=0)\n",
    "\n",
    "ws10_preds = xgb_wrapper.predict(X_test)\n",
    "ws10_pred_proba = xgb_wrapper.predict_proba(X_test)[:,1]\n",
    "get_clf_eval(y_test, ws10_preds, ws10_pred_proba)\n",
    "# early stopping을 50으로 설정할때보다 정확도가 더 낮음"
   ]
  },
  {
   "cell_type": "markdown",
   "id": "3fd99e5e",
   "metadata": {},
   "source": [
    "## LightGBM\n",
    "XGBoost보다 학습에 걸리는 시간이 적고, 메모리 사용량도 상대적으로 적음. 단점은 적은 데이터 셋(일반적으로 10,000건 이하)에 적용할 경우 과적합이 발생하기 쉬움.    \n",
    "리프 중심 트리 분할 방식으로 트리의 균형을 맞추지 않고, 최대 손실 값(max delta loss)을 가지는 리프 노드를 지속적으로 분할하면서 트리의 깊이가 깊어지고 비대칭적인 규칙 트리가 생성.\n",
    "\n",
    "__LightGBM 하이퍼 파라미터__    \n",
    "* 주요 파라미터 \n",
    "    - __num_iterations[default=100,alias:n_estimators]__ : 반복 수행하려는 트리의 개수 지정. 크게 지정할수록 예측 성능이 높아질 수 있으나, 너무 크게 지정하면 오히려 과적합으로 성능이 저하될 수 있음.\n",
    "    - __learning_rate[default=0.1]__ : 0에서 1사이의 값을 지정하며 부스팅 스텝을 반복적으로 수행할 때 업데이트되는 학습률 값.\n",
    "    - __max_depth[default=-1]__ : 0보다 작은 값을 지정하면 깊이에 제한이 없음. Leaf wise 기반으로 깊이가 상대적으로 더 깊음.\n",
    "    - __min_data_in_leaf[default=20,alias:min_child_samples]__ : 결정 트리의 min_samples_leaf와 같음. 최종 결정 클래스인 리프 노드가 되기 위해서 최소한으로 필요한 레코드 수, 과적합을 제어하기 위한 파라미터\n",
    "    - __num_leaves[default=31]__ : 하나의 트리가 가질 수 있는 최대 리프 개수\n",
    "    - __boosting[default=gbdt]__ : 부스팅의 트리를 생성하는 알고리즘. (gbdt:일반적인 그래디언트 부스팅 결정 트리/rf:랜덤포레스트)\n",
    "    - __bagging_fraction[default=1.0, alias:subsample]__ : 트리가 커져서 과적합되는 것을 제어하기 위해서 데이터를 샘플링하는 비율을 지정.\n",
    "    - __feature_fraction[default=1.0,alias:colsample_bytree]__ : 개별 트리를 학습할 때마다 무작위로 선택하는 피처의 비율. 과적합을 막기 위해 사용됨.\n",
    "    - __lambda_l2[default=0.0,alias:reg_lambda]__ : L2 Regularization 적용 값. 피처 개수가 많을 경우 적용을 검토하며 값이 클수록 과적합 감소 효과가 있음.\n",
    "    - __lambda_l1[default=0.0,alias:reg_alpha]__ : L1 Regularization 적용 값. L2와 마찬가지로 과적합 제어를 위한 것.\n",
    "* 학습 태스크 파라미터\n",
    "    - __objective__ : 최솟값을 가져야 할 손실 함수 정의. \n",
    "    \n",
    "__하이퍼 파라미터 튜닝 방안__    \n",
    "- num_leaves의 개수를 높이면 정확도가 높아지지만, 반대로 트리의 깊이가 깊어지고 모델의 복잡도가 커져 과적합 영향도가 커짐.\n",
    "- min_data_in_leaf(min_child_samples)는 보통 큰 값으로 설정하면 트리가 깊어지는 것을 방지함.\n",
    "- max_depth는 명시적으로 깊이의 크기를 제한함. num_leaves, min_data_in_leaf와 결합해 과적합을 개선하는 데 사용.\n",
    "- learning_rate를 작게 하면서 n_estimators를 크게 함. 이 때, n_estimators를 너무 크게 하면 과적합으로 성능 저하될 수 있음.\n",
    "\n",
    "__LightGBM 적용-위스콘신 유방암 예측__"
   ]
  },
  {
   "cell_type": "code",
   "execution_count": 41,
   "id": "d9f10774",
   "metadata": {},
   "outputs": [
    {
     "name": "stdout",
     "output_type": "stream",
     "text": [
      "[1]\ttraining's binary_logloss: 0.618281\tvalid_1's binary_logloss: 0.657219\n",
      "[2]\ttraining's binary_logloss: 0.581501\tvalid_1's binary_logloss: 0.623193\n",
      "[3]\ttraining's binary_logloss: 0.547162\tvalid_1's binary_logloss: 0.591294\n",
      "[4]\ttraining's binary_logloss: 0.517044\tvalid_1's binary_logloss: 0.564012\n",
      "[5]\ttraining's binary_logloss: 0.488875\tvalid_1's binary_logloss: 0.540575\n",
      "[6]\ttraining's binary_logloss: 0.462743\tvalid_1's binary_logloss: 0.515623\n",
      "[7]\ttraining's binary_logloss: 0.438946\tvalid_1's binary_logloss: 0.496285\n",
      "[8]\ttraining's binary_logloss: 0.416626\tvalid_1's binary_logloss: 0.476931\n",
      "[9]\ttraining's binary_logloss: 0.396256\tvalid_1's binary_logloss: 0.460624\n",
      "[10]\ttraining's binary_logloss: 0.377452\tvalid_1's binary_logloss: 0.445433\n",
      "[11]\ttraining's binary_logloss: 0.359003\tvalid_1's binary_logloss: 0.428638\n",
      "[12]\ttraining's binary_logloss: 0.342203\tvalid_1's binary_logloss: 0.41445\n",
      "[13]\ttraining's binary_logloss: 0.327155\tvalid_1's binary_logloss: 0.4017\n",
      "[14]\ttraining's binary_logloss: 0.313099\tvalid_1's binary_logloss: 0.389622\n",
      "[15]\ttraining's binary_logloss: 0.299603\tvalid_1's binary_logloss: 0.379614\n",
      "[16]\ttraining's binary_logloss: 0.286556\tvalid_1's binary_logloss: 0.368788\n",
      "[17]\ttraining's binary_logloss: 0.27462\tvalid_1's binary_logloss: 0.360218\n",
      "[18]\ttraining's binary_logloss: 0.262939\tvalid_1's binary_logloss: 0.350848\n",
      "[19]\ttraining's binary_logloss: 0.252229\tvalid_1's binary_logloss: 0.34183\n",
      "[20]\ttraining's binary_logloss: 0.241714\tvalid_1's binary_logloss: 0.333158\n",
      "[21]\ttraining's binary_logloss: 0.232211\tvalid_1's binary_logloss: 0.326816\n",
      "[22]\ttraining's binary_logloss: 0.223027\tvalid_1's binary_logloss: 0.319598\n",
      "[23]\ttraining's binary_logloss: 0.214129\tvalid_1's binary_logloss: 0.313006\n",
      "[24]\ttraining's binary_logloss: 0.205652\tvalid_1's binary_logloss: 0.306415\n",
      "[25]\ttraining's binary_logloss: 0.197966\tvalid_1's binary_logloss: 0.299808\n",
      "[26]\ttraining's binary_logloss: 0.189684\tvalid_1's binary_logloss: 0.294352\n",
      "[27]\ttraining's binary_logloss: 0.181798\tvalid_1's binary_logloss: 0.290158\n",
      "[28]\ttraining's binary_logloss: 0.175327\tvalid_1's binary_logloss: 0.286447\n",
      "[29]\ttraining's binary_logloss: 0.168464\tvalid_1's binary_logloss: 0.28013\n",
      "[30]\ttraining's binary_logloss: 0.161988\tvalid_1's binary_logloss: 0.276742\n",
      "[31]\ttraining's binary_logloss: 0.155837\tvalid_1's binary_logloss: 0.271142\n",
      "[32]\ttraining's binary_logloss: 0.149925\tvalid_1's binary_logloss: 0.266902\n",
      "[33]\ttraining's binary_logloss: 0.14427\tvalid_1's binary_logloss: 0.263427\n",
      "[34]\ttraining's binary_logloss: 0.138966\tvalid_1's binary_logloss: 0.26005\n",
      "[35]\ttraining's binary_logloss: 0.133489\tvalid_1's binary_logloss: 0.256786\n",
      "[36]\ttraining's binary_logloss: 0.128918\tvalid_1's binary_logloss: 0.254444\n",
      "[37]\ttraining's binary_logloss: 0.12422\tvalid_1's binary_logloss: 0.25203\n",
      "[38]\ttraining's binary_logloss: 0.119523\tvalid_1's binary_logloss: 0.249385\n",
      "[39]\ttraining's binary_logloss: 0.115291\tvalid_1's binary_logloss: 0.247077\n",
      "[40]\ttraining's binary_logloss: 0.111055\tvalid_1's binary_logloss: 0.244979\n",
      "[41]\ttraining's binary_logloss: 0.107106\tvalid_1's binary_logloss: 0.242092\n",
      "[42]\ttraining's binary_logloss: 0.103444\tvalid_1's binary_logloss: 0.240239\n",
      "[43]\ttraining's binary_logloss: 0.099777\tvalid_1's binary_logloss: 0.238629\n",
      "[44]\ttraining's binary_logloss: 0.0961658\tvalid_1's binary_logloss: 0.237271\n",
      "[45]\ttraining's binary_logloss: 0.0927661\tvalid_1's binary_logloss: 0.236195\n",
      "[46]\ttraining's binary_logloss: 0.0895088\tvalid_1's binary_logloss: 0.233949\n",
      "[47]\ttraining's binary_logloss: 0.086515\tvalid_1's binary_logloss: 0.23278\n",
      "[48]\ttraining's binary_logloss: 0.0837716\tvalid_1's binary_logloss: 0.230719\n",
      "[49]\ttraining's binary_logloss: 0.0809411\tvalid_1's binary_logloss: 0.230082\n",
      "[50]\ttraining's binary_logloss: 0.0782059\tvalid_1's binary_logloss: 0.229678\n",
      "[51]\ttraining's binary_logloss: 0.0756241\tvalid_1's binary_logloss: 0.227787\n",
      "[52]\ttraining's binary_logloss: 0.0730748\tvalid_1's binary_logloss: 0.226145\n",
      "[53]\ttraining's binary_logloss: 0.0702533\tvalid_1's binary_logloss: 0.225677\n",
      "[54]\ttraining's binary_logloss: 0.0676272\tvalid_1's binary_logloss: 0.224954\n",
      "[55]\ttraining's binary_logloss: 0.0648029\tvalid_1's binary_logloss: 0.224567\n",
      "[56]\ttraining's binary_logloss: 0.062664\tvalid_1's binary_logloss: 0.222702\n",
      "[57]\ttraining's binary_logloss: 0.0606511\tvalid_1's binary_logloss: 0.22133\n",
      "[58]\ttraining's binary_logloss: 0.0581544\tvalid_1's binary_logloss: 0.219294\n",
      "[59]\ttraining's binary_logloss: 0.055956\tvalid_1's binary_logloss: 0.21984\n",
      "[60]\ttraining's binary_logloss: 0.0536786\tvalid_1's binary_logloss: 0.219787\n",
      "[61]\ttraining's binary_logloss: 0.0520471\tvalid_1's binary_logloss: 0.220662\n",
      "[62]\ttraining's binary_logloss: 0.0500784\tvalid_1's binary_logloss: 0.219111\n",
      "[63]\ttraining's binary_logloss: 0.048485\tvalid_1's binary_logloss: 0.218902\n",
      "[64]\ttraining's binary_logloss: 0.0469118\tvalid_1's binary_logloss: 0.218346\n",
      "[65]\ttraining's binary_logloss: 0.0452562\tvalid_1's binary_logloss: 0.217602\n",
      "[66]\ttraining's binary_logloss: 0.0436605\tvalid_1's binary_logloss: 0.215618\n",
      "[67]\ttraining's binary_logloss: 0.0419834\tvalid_1's binary_logloss: 0.213657\n",
      "[68]\ttraining's binary_logloss: 0.0403442\tvalid_1's binary_logloss: 0.211853\n",
      "[69]\ttraining's binary_logloss: 0.0386991\tvalid_1's binary_logloss: 0.209474\n",
      "[70]\ttraining's binary_logloss: 0.0373842\tvalid_1's binary_logloss: 0.209897\n",
      "[71]\ttraining's binary_logloss: 0.0358821\tvalid_1's binary_logloss: 0.207843\n",
      "[72]\ttraining's binary_logloss: 0.0347115\tvalid_1's binary_logloss: 0.207951\n",
      "[73]\ttraining's binary_logloss: 0.033596\tvalid_1's binary_logloss: 0.206819\n",
      "[74]\ttraining's binary_logloss: 0.032317\tvalid_1's binary_logloss: 0.2055\n",
      "[75]\ttraining's binary_logloss: 0.0312787\tvalid_1's binary_logloss: 0.204758\n",
      "[76]\ttraining's binary_logloss: 0.0302435\tvalid_1's binary_logloss: 0.204949\n",
      "[77]\ttraining's binary_logloss: 0.0291292\tvalid_1's binary_logloss: 0.20361\n",
      "[78]\ttraining's binary_logloss: 0.028002\tvalid_1's binary_logloss: 0.202278\n",
      "[79]\ttraining's binary_logloss: 0.0269745\tvalid_1's binary_logloss: 0.201493\n",
      "[80]\ttraining's binary_logloss: 0.026015\tvalid_1's binary_logloss: 0.201058\n",
      "[81]\ttraining's binary_logloss: 0.0251721\tvalid_1's binary_logloss: 0.200674\n",
      "[82]\ttraining's binary_logloss: 0.0242782\tvalid_1's binary_logloss: 0.200122\n",
      "[83]\ttraining's binary_logloss: 0.0235872\tvalid_1's binary_logloss: 0.200544\n",
      "[84]\ttraining's binary_logloss: 0.0228475\tvalid_1's binary_logloss: 0.200972\n",
      "[85]\ttraining's binary_logloss: 0.0220504\tvalid_1's binary_logloss: 0.200969\n",
      "[86]\ttraining's binary_logloss: 0.0212531\tvalid_1's binary_logloss: 0.200763\n",
      "[87]\ttraining's binary_logloss: 0.0205966\tvalid_1's binary_logloss: 0.200732\n",
      "[88]\ttraining's binary_logloss: 0.0199809\tvalid_1's binary_logloss: 0.200623\n",
      "[89]\ttraining's binary_logloss: 0.0193335\tvalid_1's binary_logloss: 0.20074\n",
      "[90]\ttraining's binary_logloss: 0.0187537\tvalid_1's binary_logloss: 0.201211\n",
      "[91]\ttraining's binary_logloss: 0.0182436\tvalid_1's binary_logloss: 0.201364\n",
      "[92]\ttraining's binary_logloss: 0.0176959\tvalid_1's binary_logloss: 0.202756\n",
      "[93]\ttraining's binary_logloss: 0.0170647\tvalid_1's binary_logloss: 0.203874\n",
      "[94]\ttraining's binary_logloss: 0.0163606\tvalid_1's binary_logloss: 0.204041\n",
      "[95]\ttraining's binary_logloss: 0.0156992\tvalid_1's binary_logloss: 0.204442\n",
      "[96]\ttraining's binary_logloss: 0.0151314\tvalid_1's binary_logloss: 0.206343\n",
      "[97]\ttraining's binary_logloss: 0.0145172\tvalid_1's binary_logloss: 0.205732\n",
      "[98]\ttraining's binary_logloss: 0.0139916\tvalid_1's binary_logloss: 0.207055\n",
      "[99]\ttraining's binary_logloss: 0.013438\tvalid_1's binary_logloss: 0.207586\n",
      "[100]\ttraining's binary_logloss: 0.0129548\tvalid_1's binary_logloss: 0.208961\n",
      "[101]\ttraining's binary_logloss: 0.01253\tvalid_1's binary_logloss: 0.209354\n",
      "[102]\ttraining's binary_logloss: 0.012103\tvalid_1's binary_logloss: 0.210301\n",
      "[103]\ttraining's binary_logloss: 0.0117511\tvalid_1's binary_logloss: 0.210547\n",
      "[104]\ttraining's binary_logloss: 0.0113373\tvalid_1's binary_logloss: 0.212001\n",
      "[105]\ttraining's binary_logloss: 0.0108984\tvalid_1's binary_logloss: 0.212636\n",
      "[106]\ttraining's binary_logloss: 0.0105166\tvalid_1's binary_logloss: 0.214025\n",
      "[107]\ttraining's binary_logloss: 0.0101023\tvalid_1's binary_logloss: 0.214627\n",
      "[108]\ttraining's binary_logloss: 0.00979256\tvalid_1's binary_logloss: 0.215502\n",
      "[109]\ttraining's binary_logloss: 0.00940125\tvalid_1's binary_logloss: 0.215179\n",
      "[110]\ttraining's binary_logloss: 0.00907616\tvalid_1's binary_logloss: 0.217226\n",
      "[111]\ttraining's binary_logloss: 0.00871826\tvalid_1's binary_logloss: 0.217055\n",
      "[112]\ttraining's binary_logloss: 0.00841453\tvalid_1's binary_logloss: 0.21684\n",
      "[113]\ttraining's binary_logloss: 0.00814658\tvalid_1's binary_logloss: 0.217397\n",
      "[114]\ttraining's binary_logloss: 0.00784042\tvalid_1's binary_logloss: 0.218299\n",
      "[115]\ttraining's binary_logloss: 0.00748419\tvalid_1's binary_logloss: 0.218467\n",
      "[116]\ttraining's binary_logloss: 0.00719339\tvalid_1's binary_logloss: 0.219341\n",
      "[117]\ttraining's binary_logloss: 0.0069243\tvalid_1's binary_logloss: 0.217704\n",
      "[118]\ttraining's binary_logloss: 0.00667309\tvalid_1's binary_logloss: 0.219012\n",
      "[119]\ttraining's binary_logloss: 0.00645286\tvalid_1's binary_logloss: 0.220581\n",
      "[120]\ttraining's binary_logloss: 0.00619837\tvalid_1's binary_logloss: 0.221396\n",
      "[121]\ttraining's binary_logloss: 0.00596999\tvalid_1's binary_logloss: 0.222313\n",
      "[122]\ttraining's binary_logloss: 0.00575037\tvalid_1's binary_logloss: 0.220774\n",
      "[123]\ttraining's binary_logloss: 0.00554692\tvalid_1's binary_logloss: 0.2221\n",
      "[124]\ttraining's binary_logloss: 0.00536801\tvalid_1's binary_logloss: 0.223711\n",
      "[125]\ttraining's binary_logloss: 0.00515766\tvalid_1's binary_logloss: 0.224703\n",
      "[126]\ttraining's binary_logloss: 0.00497008\tvalid_1's binary_logloss: 0.225689\n",
      "[127]\ttraining's binary_logloss: 0.0047725\tvalid_1's binary_logloss: 0.225477\n",
      "[128]\ttraining's binary_logloss: 0.00459376\tvalid_1's binary_logloss: 0.226355\n",
      "[129]\ttraining's binary_logloss: 0.00442772\tvalid_1's binary_logloss: 0.224964\n",
      "[130]\ttraining's binary_logloss: 0.00427364\tvalid_1's binary_logloss: 0.226263\n",
      "[131]\ttraining's binary_logloss: 0.00413501\tvalid_1's binary_logloss: 0.227745\n",
      "[132]\ttraining's binary_logloss: 0.00399505\tvalid_1's binary_logloss: 0.228456\n"
     ]
    }
   ],
   "source": [
    "# LightGBM의 파이썬 패키지인 lightgbm에서 LGBMClassifier 임포트\n",
    "from lightgbm import LGBMClassifier\n",
    "\n",
    "import pandas as pd\n",
    "import numpy as np\n",
    "from sklearn.datasets import load_breast_cancer\n",
    "from sklearn.model_selection import train_test_split\n",
    "\n",
    "dataset = load_breast_cancer()\n",
    "\n",
    "cancer_df = pd.DataFrame(data=dataset.data, columns=dataset.feature_names)\n",
    "cancer_df['target']=dataset.target\n",
    "X_features = cancer_df.iloc[:,:-1]\n",
    "y_label = cancer_df.iloc[:,-1]\n",
    "\n",
    "# 전체 데이터 중 80%는 학습용 데이터, 20%는 테스트용 데이터 추출\n",
    "X_train, X_test, y_train, y_test = train_test_split(X_features, y_label, test_size=0.2, random_state=156)\n",
    "\n",
    "# 위에서 만든 X_train, y_train을 다시 쪼개서 90%는 학습과 10%는 검증용 데이터로 분리\n",
    "X_tr, X_val, y_tr, y_val = train_test_split(X_train, y_train, test_size=0.2, random_state=156)\n",
    "\n",
    "# 앞서 XGBoost와 동일하게 n_estimators는 400 설정\n",
    "lgbm_wrapper = LGBMClassifier(n_estimators=400, learning_rate=0.05)\n",
    "\n",
    "# LightGBM도 XGBoost와 동일하게 조기 중단 수행 가능.\n",
    "evals = [(X_tr, y_tr),(X_val,y_val)]\n",
    "lgbm_wrapper.fit(X_tr,y_tr,early_stopping_rounds=50,eval_metric='logloss',eval_set=evals, verbose=True)\n",
    "preds = lgbm_wrapper.predict(X_test)\n",
    "pred_proba = lgbm_wrapper.predict_proba(X_test)[:,1]"
   ]
  },
  {
   "cell_type": "code",
   "execution_count": 46,
   "id": "40cfc199",
   "metadata": {},
   "outputs": [
    {
     "name": "stdout",
     "output_type": "stream",
     "text": [
      "오차 행렬\n",
      "[[33  4]\n",
      " [ 3 74]]\n",
      "정확도:0.9386, 정밀도:0.9487, 재현율:0.9610, F1:0.9548, AUC:0.9898\n"
     ]
    }
   ],
   "source": [
    "get_clf_eval(y_test,preds,pred_proba)"
   ]
  },
  {
   "cell_type": "code",
   "execution_count": 50,
   "id": "701df1b2",
   "metadata": {},
   "outputs": [
    {
     "data": {
      "text/plain": [
       "<AxesSubplot:title={'center':'Feature importance'}, xlabel='Feature importance', ylabel='Features'>"
      ]
     },
     "execution_count": 50,
     "metadata": {},
     "output_type": "execute_result"
    },
    {
     "data": {
      "image/png": "[encoded data removed]",
      "text/plain": [
       "<Figure size 720x864 with 1 Axes>"
      ]
     },
     "metadata": {
      "needs_background": "light"
     },
     "output_type": "display_data"
    }
   ],
   "source": [
    "# plot_importance()를 이용하여 feature 중요도 시각화\n",
    "from lightgbm import plot_importance\n",
    "import matplotlib.pyplot as plt\n",
    "%matplotlib inline\n",
    "\n",
    "fig, ax = plt.subplots(figsize=(10,12))\n",
    "plot_importance(lgbm_wrapper, ax=ax)"
   ]
  },
  {
   "cell_type": "markdown",
   "id": "3f212da8",
   "metadata": {},
   "source": [
    "## 베이지안 최적화 기반의 HyperOpt를 이용한 하이퍼 파라미터 튜닝\n",
    "GridSearch 방식을 이용할 때에는 하이퍼 파라미터 최적화 시간 때문에 많은 시간이 소모됨. 그에 대한 대체 방안이 베이지안 최적화 기법.\n",
    "1. 최초에는 랜덤하게 하이퍼 파라미터들을 샘플링하고 성능 결과를 관측함.\n",
    "2. 관측된 값을 기반으로 대체 모델은 최적 함수를 추정함. 최적 관측값은 y축 value에서 가장 높은 값을 가질 때의 하이퍼 파라미터\n",
    "3. 획득함수는 다음으로 관측할 하이퍼 파라미터 값을 계산함. 이전의 최적 관측값보다 더 큰 최댓값을 가질 가능성이 높은 지점을 찾아서 다음에 관측할 하이퍼 파라미터를 대체 모델에 전달함.\n",
    "4. 획득함수로부터 전달된 하이퍼 파라미터를 수행하여 관측된 값을 기반으로 대체 모델은 갱신되어 다시 최적 함수를 예측 추정\n",
    "\n",
    "__HyperOpt 사용하기__"
   ]
  },
  {
   "cell_type": "code",
   "execution_count": 52,
   "id": "6df0563a",
   "metadata": {},
   "outputs": [],
   "source": [
    "# 입력 변수명과 입력값의 검색 공간 설정\n",
    "from hyperopt import hp\n",
    "\n",
    "# -10 ~ 10까지 1간격을 가지는 입력변수 x와 -15 ~ 15까지 1간격으로 입력 변수 y 설정\n",
    "search_space = {'x':hp.quniform('x',-10,10,1), 'y':hp.quniform('y',-15,15,1)}"
   ]
  },
  {
   "cell_type": "markdown",
   "id": "549cb03a",
   "metadata": {},
   "source": [
    "* hp.quniform(label,low,high,q) : label로 지정된 입력값 변수 검색 공간을 최솟값 low에서 최댓값 high까지 q의 간격을 가지고 설정.\n",
    "* hp.uniform(label,low,high) : 최솟값 low에서 최댓값 high까지 정규 분포 형태의 검색 공간 설정.\n",
    "* hp.randint(label,upper) : 0부터 최댓값 upper까지 random한 정숫값으로 검색 공간 설정.\n",
    "* hp.loguniform(label,low,high) : exp(uniform(low,high))값을 반환하며, 반환 값의 log 변환 된 값은 정규 분포 형태를 가지는 검색 공간 설정.\n",
    "* hp.choice(label,options) : 검색값이 문자열 또는 문자열과 숫자값이 섞여 있을 경우 설정. options는 리스트나 튜플 형태로 제공되며 hp.choice('tree_criterion',['gini','entropy'])와 같이 설정하면 입력변수  tree_criterion값을 gini와 entropy로 설정하여 입력함."
   ]
  },
  {
   "cell_type": "code",
   "execution_count": 54,
   "id": "fd26a0e7",
   "metadata": {},
   "outputs": [],
   "source": [
    "from hyperopt import STATUS_OK\n",
    "\n",
    "# 목적 함수를 생성. 변숫값과 변수 검색 공간을 가지는 딕셔너리를 인자로 받고, 특정 값을 반환\n",
    "def objective_func(search_space):\n",
    "    x = search_space['x']\n",
    "    y = search_space['y']\n",
    "    retval = x**2 - 20*y\n",
    "    \n",
    "    return retval"
   ]
  },
  {
   "cell_type": "markdown",
   "id": "ed29f7b5",
   "metadata": {},
   "source": [
    "__fmin 함수 제공__    \n",
    "* fn: 위에서 생성한 objective_func와 같은 목적 함수.\n",
    "* space : 위에서 생성한 search_space와 같은 검색 공간 딕셔너리.\n",
    "* algo : 베이지안 최적화 적용 알고리즘. 기본적으로 tpe.suggest(TPE : Tree of Parzen Estimator 의미)\n",
    "* max_evals : 최적 입력값을 찾기 위한 입력값 시도 횟수.\n",
    "* trials : 최적 입력값을 찾기 위해 시도한 입력값 및 해당 입력값의 목적 함수 반환값 결과를 저장하는 데 사용. Trials 클래스를 객체로 생성한 변수명을 입력.\n",
    "* rstate : fmin을 수행할 때마다 동일한 결괏값을 가질 수 있도록 설정하는 랜덤 시드 값."
   ]
  },
  {
   "cell_type": "code",
   "execution_count": 55,
   "id": "8f204115",
   "metadata": {},
   "outputs": [
    {
     "name": "stdout",
     "output_type": "stream",
     "text": [
      "100%|█████████████████████████████████████████████████████████████| 5/5 [00:00<00:00, 412.61trial/s, best loss: -224.0]\n",
      "best: {'x': -4.0, 'y': 12.0}\n"
     ]
    }
   ],
   "source": [
    "from hyperopt import fmin, tpe, Trials\n",
    "# 입력 결괏값을 저장한 Trials 객체값 생성.\n",
    "trial_val = Trials()\n",
    "\n",
    "# 목적 함수의 최솟값을 반환하는 최적 입력 변숫값을 5번의 입력값 시도(max_evals=5)로 찾아냄.\n",
    "best_01 = fmin(fn=objective_func, space=search_space, algo=tpe.suggest, max_evals=5,\n",
    "              trials=trial_val, rstate=np.random.default_rng(seed=0))\n",
    "print('best:',best_01)"
   ]
  },
  {
   "cell_type": "code",
   "execution_count": 60,
   "id": "25fd7115",
   "metadata": {},
   "outputs": [
    {
     "name": "stdout",
     "output_type": "stream",
     "text": [
      "100%|███████████████████████████████████████████████████████████| 20/20 [00:00<00:00, 550.33trial/s, best loss: -296.0]\n",
      "best: {'x': 2.0, 'y': 15.0}\n"
     ]
    }
   ],
   "source": [
    "trial_val = Trials()\n",
    "\n",
    "# max_evals를 20회로 늘려서 재테스트\n",
    "best_02 = fmin(fn=objective_func, space=search_space, algo=tpe.suggest, max_evals=20,\n",
    "              trials=trial_val, rstate=np.random.default_rng(seed=0))\n",
    "print('best:',best_02)"
   ]
  },
  {
   "cell_type": "code",
   "execution_count": 63,
   "id": "4293bd1f",
   "metadata": {},
   "outputs": [
    {
     "name": "stdout",
     "output_type": "stream",
     "text": [
      "[{'loss': -64.0, 'status': 'ok'}, {'loss': -184.0, 'status': 'ok'}, {'loss': 56.0, 'status': 'ok'}, {'loss': -224.0, 'status': 'ok'}, {'loss': 61.0, 'status': 'ok'}, {'loss': -296.0, 'status': 'ok'}, {'loss': -40.0, 'status': 'ok'}, {'loss': 281.0, 'status': 'ok'}, {'loss': 64.0, 'status': 'ok'}, {'loss': 100.0, 'status': 'ok'}, {'loss': 60.0, 'status': 'ok'}, {'loss': -39.0, 'status': 'ok'}, {'loss': 1.0, 'status': 'ok'}, {'loss': -164.0, 'status': 'ok'}, {'loss': 21.0, 'status': 'ok'}, {'loss': -56.0, 'status': 'ok'}, {'loss': 284.0, 'status': 'ok'}, {'loss': 176.0, 'status': 'ok'}, {'loss': -171.0, 'status': 'ok'}, {'loss': 0.0, 'status': 'ok'}]\n"
     ]
    }
   ],
   "source": [
    "# fmin()에 인자로 들어가는 Trials 객체의 result 속성에 파이썬 리스트로 목적 함수 반환값들이 저장됨\n",
    "# 리스트 내부의 개별 원소는 {'loss':함수 반환값, 'status':반환 상태값}와 같은 딕셔너리임.\n",
    "print(trial_val.results)"
   ]
  },
  {
   "cell_type": "code",
   "execution_count": 64,
   "id": "59127ae0",
   "metadata": {},
   "outputs": [
    {
     "name": "stdout",
     "output_type": "stream",
     "text": [
      "{'x': [-6.0, -4.0, 4.0, -4.0, 9.0, 2.0, 10.0, -9.0, -8.0, -0.0, -0.0, 1.0, 9.0, 6.0, 9.0, 2.0, -2.0, -4.0, 7.0, -0.0], 'y': [5.0, 10.0, -2.0, 12.0, 1.0, 15.0, 7.0, -10.0, 0.0, -5.0, -3.0, 2.0, 4.0, 10.0, 3.0, 3.0, -14.0, -8.0, 11.0, -0.0]}\n"
     ]
    }
   ],
   "source": [
    "# Trials 객체의 vals 속성에 {'입력변수명':개별 수행 시마다 입력된 값 리스트} 형태로 저장됨.\n",
    "print(trial_val.vals)"
   ]
  },
  {
   "cell_type": "code",
   "execution_count": 67,
   "id": "b68f9dd2",
   "metadata": {},
   "outputs": [
    {
     "data": {
      "text/html": [
       "<div>\n",
       "<style scoped>\n",
       "    .dataframe tbody tr th:only-of-type {\n",
       "        vertical-align: middle;\n",
       "    }\n",
       "\n",
       "    .dataframe tbody tr th {\n",
       "        vertical-align: top;\n",
       "    }\n",
       "\n",
       "    .dataframe thead th {\n",
       "        text-align: right;\n",
       "    }\n",
       "</style>\n",
       "<table border=\"1\" class=\"dataframe\">\n",
       "  <thead>\n",
       "    <tr style=\"text-align: right;\">\n",
       "      <th></th>\n",
       "      <th>x</th>\n",
       "      <th>y</th>\n",
       "      <th>losses</th>\n",
       "    </tr>\n",
       "  </thead>\n",
       "  <tbody>\n",
       "    <tr>\n",
       "      <th>0</th>\n",
       "      <td>-6.0</td>\n",
       "      <td>5.0</td>\n",
       "      <td>-64.0</td>\n",
       "    </tr>\n",
       "    <tr>\n",
       "      <th>1</th>\n",
       "      <td>-4.0</td>\n",
       "      <td>10.0</td>\n",
       "      <td>-184.0</td>\n",
       "    </tr>\n",
       "    <tr>\n",
       "      <th>2</th>\n",
       "      <td>4.0</td>\n",
       "      <td>-2.0</td>\n",
       "      <td>56.0</td>\n",
       "    </tr>\n",
       "    <tr>\n",
       "      <th>3</th>\n",
       "      <td>-4.0</td>\n",
       "      <td>12.0</td>\n",
       "      <td>-224.0</td>\n",
       "    </tr>\n",
       "    <tr>\n",
       "      <th>4</th>\n",
       "      <td>9.0</td>\n",
       "      <td>1.0</td>\n",
       "      <td>61.0</td>\n",
       "    </tr>\n",
       "    <tr>\n",
       "      <th>5</th>\n",
       "      <td>2.0</td>\n",
       "      <td>15.0</td>\n",
       "      <td>-296.0</td>\n",
       "    </tr>\n",
       "    <tr>\n",
       "      <th>6</th>\n",
       "      <td>10.0</td>\n",
       "      <td>7.0</td>\n",
       "      <td>-40.0</td>\n",
       "    </tr>\n",
       "    <tr>\n",
       "      <th>7</th>\n",
       "      <td>-9.0</td>\n",
       "      <td>-10.0</td>\n",
       "      <td>281.0</td>\n",
       "    </tr>\n",
       "    <tr>\n",
       "      <th>8</th>\n",
       "      <td>-8.0</td>\n",
       "      <td>0.0</td>\n",
       "      <td>64.0</td>\n",
       "    </tr>\n",
       "    <tr>\n",
       "      <th>9</th>\n",
       "      <td>-0.0</td>\n",
       "      <td>-5.0</td>\n",
       "      <td>100.0</td>\n",
       "    </tr>\n",
       "    <tr>\n",
       "      <th>10</th>\n",
       "      <td>-0.0</td>\n",
       "      <td>-3.0</td>\n",
       "      <td>60.0</td>\n",
       "    </tr>\n",
       "    <tr>\n",
       "      <th>11</th>\n",
       "      <td>1.0</td>\n",
       "      <td>2.0</td>\n",
       "      <td>-39.0</td>\n",
       "    </tr>\n",
       "    <tr>\n",
       "      <th>12</th>\n",
       "      <td>9.0</td>\n",
       "      <td>4.0</td>\n",
       "      <td>1.0</td>\n",
       "    </tr>\n",
       "    <tr>\n",
       "      <th>13</th>\n",
       "      <td>6.0</td>\n",
       "      <td>10.0</td>\n",
       "      <td>-164.0</td>\n",
       "    </tr>\n",
       "    <tr>\n",
       "      <th>14</th>\n",
       "      <td>9.0</td>\n",
       "      <td>3.0</td>\n",
       "      <td>21.0</td>\n",
       "    </tr>\n",
       "    <tr>\n",
       "      <th>15</th>\n",
       "      <td>2.0</td>\n",
       "      <td>3.0</td>\n",
       "      <td>-56.0</td>\n",
       "    </tr>\n",
       "    <tr>\n",
       "      <th>16</th>\n",
       "      <td>-2.0</td>\n",
       "      <td>-14.0</td>\n",
       "      <td>284.0</td>\n",
       "    </tr>\n",
       "    <tr>\n",
       "      <th>17</th>\n",
       "      <td>-4.0</td>\n",
       "      <td>-8.0</td>\n",
       "      <td>176.0</td>\n",
       "    </tr>\n",
       "    <tr>\n",
       "      <th>18</th>\n",
       "      <td>7.0</td>\n",
       "      <td>11.0</td>\n",
       "      <td>-171.0</td>\n",
       "    </tr>\n",
       "    <tr>\n",
       "      <th>19</th>\n",
       "      <td>-0.0</td>\n",
       "      <td>-0.0</td>\n",
       "      <td>0.0</td>\n",
       "    </tr>\n",
       "  </tbody>\n",
       "</table>\n",
       "</div>"
      ],
      "text/plain": [
       "       x     y  losses\n",
       "0   -6.0   5.0   -64.0\n",
       "1   -4.0  10.0  -184.0\n",
       "2    4.0  -2.0    56.0\n",
       "3   -4.0  12.0  -224.0\n",
       "4    9.0   1.0    61.0\n",
       "5    2.0  15.0  -296.0\n",
       "6   10.0   7.0   -40.0\n",
       "7   -9.0 -10.0   281.0\n",
       "8   -8.0   0.0    64.0\n",
       "9   -0.0  -5.0   100.0\n",
       "10  -0.0  -3.0    60.0\n",
       "11   1.0   2.0   -39.0\n",
       "12   9.0   4.0     1.0\n",
       "13   6.0  10.0  -164.0\n",
       "14   9.0   3.0    21.0\n",
       "15   2.0   3.0   -56.0\n",
       "16  -2.0 -14.0   284.0\n",
       "17  -4.0  -8.0   176.0\n",
       "18   7.0  11.0  -171.0\n",
       "19  -0.0  -0.0     0.0"
      ]
     },
     "execution_count": 67,
     "metadata": {},
     "output_type": "execute_result"
    }
   ],
   "source": [
    "import pandas as pd\n",
    "\n",
    "# results에서 loss 키값에 해당하는 밸류들을 추출하여 리스트로 생성\n",
    "losses = [i['loss'] for i in trial_val.results]\n",
    "\n",
    "# DataFrame으로 생성\n",
    "result_df = pd.DataFrame({'x':trial_val.vals['x'],'y':trial_val.vals['y'],'losses':losses})\n",
    "result_df"
   ]
  },
  {
   "cell_type": "markdown",
   "id": "3d0ce6b8",
   "metadata": {},
   "source": [
    "__HyperOpt를 이용한 XGBoost 하이퍼 파라미터 최적화__    \n",
    "주의해야 할 부분 : 특정 하이퍼 파라미터들은 정숫값만 입력을 받는데 HyperOpt는 입력값과 반환값이 모두 실수형이기 떄문에 하이퍼 파라미터 입력 시 형변환을 해줘야 함. 그리고 HyperOpt의 목적 함수는 최솟값을 반환할 수 있도록 최적화해야해서 성능값이 클수록 좋은 성능 지표일 경우 -1을 곱해줘야 함."
   ]
  },
  {
   "cell_type": "code",
   "execution_count": 69,
   "id": "11beaa06",
   "metadata": {},
   "outputs": [],
   "source": [
    "from sklearn.datasets import load_breast_cancer\n",
    "from sklearn.model_selection import train_test_split\n",
    "from hyperopt import hp\n",
    "import warnings\n",
    "warnings.filterwarnings('ignore')\n",
    "\n",
    "dataset = load_breast_cancer()\n",
    "features = dataset.data\n",
    "labels = dataset.target\n",
    "\n",
    "# 유방암 데이터 중 80%는 학습용, 20%는 테스트용\n",
    "X_train, X_test, y_train, y_test = train_test_split(features, labels, test_size=0.2, random_state=156)\n",
    "\n",
    "# 학습 데이터를 다시 학습과 검증 데이터로 분리\n",
    "X_tr, X_val, y_tr, y_val = train_test_split(X_train, y_train, test_size=0.2, random_state=156)\n",
    "\n",
    "# max_depth는 5에서 20까지 1간격으로, min_child_weight는 1에서 2까지 1간격으로\n",
    "# colsample_bytree는 0.5에서 1 사이, learning_rate는 0.01에서 0.2사이 정규 분포된 값으로 검색\n",
    "xgb_search_space = {'max_depth':hp.quniform('max_depth',5,20,1),\n",
    "                   'min_child_weight':hp.quniform('min_child_weight',1,2,1),\n",
    "                   'learning_rate':hp.uniform('learning_rate',0.01,0.2),\n",
    "                   'colsample_bytree':hp.uniform('colsample_bytree',0.5,1),}"
   ]
  },
  {
   "cell_type": "code",
   "execution_count": 72,
   "id": "e47d2f18",
   "metadata": {},
   "outputs": [],
   "source": [
    "from sklearn.model_selection import cross_val_score\n",
    "from xgboost import XGBClassifier\n",
    "from hyperopt import STATUS_OK\n",
    "\n",
    "# fmin()에서 입력된 search_space 값으로 입력된 모든 값은 실수형임.\n",
    "# XGBClassifier의 정수형 하이퍼 파라미터는 정수형 변환을 해줘야 함.\n",
    "# 정확도는 높을수록 더 좋은 수치임. -1 * 정확도를 곱해서 큰 정확도 값일수록 최소가 되도록 변환\n",
    "def objective_func(search_space):\n",
    "    # 수행 시간 절약을 위해 n_estimators는 100으로 축소\n",
    "    xgb_clf = XGBClassifier(n_estimators=100, max_depth=int(search_space['max_depth']),\n",
    "                           min_child_weight=int(search_space['min_child_weight']),\n",
    "                           learning_rate=int(search_space['learning_rate']),\n",
    "                           colsample_bytree=search_space['colsample_bytree'],\n",
    "                           eval_metric='logloss')\n",
    "    accuracy = cross_val_score(xgb_clf,X_train,y_train,scoring='accuracy',cv=3)\n",
    "    \n",
    "    # accuracy는 cv=3 개수만큼 roc-auc 결과를 리스트로 가짐. 이를 평균해서 반환하되 -1을 곱함.\n",
    "    return {'loss':-1*np.mean(accuracy),'status':STATUS_OK}"
   ]
  },
  {
   "cell_type": "code",
   "execution_count": 73,
   "id": "b391d2e4",
   "metadata": {},
   "outputs": [
    {
     "name": "stdout",
     "output_type": "stream",
     "text": [
      "100%|███████████████████████████████████████████████| 50/50 [00:08<00:00,  5.70trial/s, best loss: -0.3846142674567213]\n",
      "best: {'colsample_bytree': 0.5852347138193622, 'learning_rate': 0.033687779759699644, 'max_depth': 19.0, 'min_child_weight': 2.0}\n"
     ]
    }
   ],
   "source": [
    "# 최적 하이퍼 파라미터 도출\n",
    "from hyperopt import fmin, tpe, Trials\n",
    "\n",
    "trial_val = Trials()\n",
    "best = fmin(fn=objective_func,\n",
    "           space=xgb_search_space,\n",
    "           algo=tpe.suggest,\n",
    "           max_evals=50, # 최대 반복 횟수를 지정\n",
    "           trials=trial_val, rstate=np.random.default_rng(seed=9))\n",
    "print('best:',best)"
   ]
  },
  {
   "cell_type": "code",
   "execution_count": 74,
   "id": "2a8c056f",
   "metadata": {},
   "outputs": [
    {
     "name": "stdout",
     "output_type": "stream",
     "text": [
      "colsample_bytree:0.58523, learning_rate:0.03369, max_depth:19, min_child_weight:2\n"
     ]
    }
   ],
   "source": [
    "# 정수형 하이퍼 파라미터는 정수형으로 형 변환, 실수형 하이퍼 파라미터는 소수점 5자리까지만 변환\n",
    "print('colsample_bytree:{0}, learning_rate:{1}, max_depth:{2}, min_child_weight:{3}'.format(\n",
    "    round(best['colsample_bytree'],5), round(best['learning_rate'],5),\n",
    "    int(best['max_depth']), int(best['min_child_weight'])))"
   ]
  },
  {
   "cell_type": "code",
   "execution_count": 75,
   "id": "a365fa97",
   "metadata": {},
   "outputs": [
    {
     "name": "stdout",
     "output_type": "stream",
     "text": [
      "[0]\tvalidation_0-logloss:0.66460\tvalidation_1-logloss:0.66902\n",
      "[1]\tvalidation_0-logloss:0.63717\tvalidation_1-logloss:0.64749\n",
      "[2]\tvalidation_0-logloss:0.61177\tvalidation_1-logloss:0.62491\n",
      "[3]\tvalidation_0-logloss:0.58746\tvalidation_1-logloss:0.60568\n",
      "[4]\tvalidation_0-logloss:0.56525\tvalidation_1-logloss:0.58838\n",
      "[5]\tvalidation_0-logloss:0.54361\tvalidation_1-logloss:0.57055\n",
      "[6]\tvalidation_0-logloss:0.52347\tvalidation_1-logloss:0.55277\n",
      "[7]\tvalidation_0-logloss:0.50466\tvalidation_1-logloss:0.53890\n",
      "[8]\tvalidation_0-logloss:0.48656\tvalidation_1-logloss:0.52473\n",
      "[9]\tvalidation_0-logloss:0.46917\tvalidation_1-logloss:0.50979\n",
      "[10]\tvalidation_0-logloss:0.45261\tvalidation_1-logloss:0.49609\n",
      "[11]\tvalidation_0-logloss:0.43710\tvalidation_1-logloss:0.48397\n",
      "[12]\tvalidation_0-logloss:0.42238\tvalidation_1-logloss:0.47216\n",
      "[13]\tvalidation_0-logloss:0.40829\tvalidation_1-logloss:0.46179\n",
      "[14]\tvalidation_0-logloss:0.39455\tvalidation_1-logloss:0.45064\n",
      "[15]\tvalidation_0-logloss:0.38150\tvalidation_1-logloss:0.43999\n",
      "[16]\tvalidation_0-logloss:0.36906\tvalidation_1-logloss:0.42991\n",
      "[17]\tvalidation_0-logloss:0.35701\tvalidation_1-logloss:0.42082\n",
      "[18]\tvalidation_0-logloss:0.34565\tvalidation_1-logloss:0.41170\n",
      "[19]\tvalidation_0-logloss:0.33499\tvalidation_1-logloss:0.40227\n",
      "[20]\tvalidation_0-logloss:0.32439\tvalidation_1-logloss:0.39316\n",
      "[21]\tvalidation_0-logloss:0.31450\tvalidation_1-logloss:0.38510\n",
      "[22]\tvalidation_0-logloss:0.30513\tvalidation_1-logloss:0.37718\n",
      "[23]\tvalidation_0-logloss:0.29604\tvalidation_1-logloss:0.36940\n",
      "[24]\tvalidation_0-logloss:0.28734\tvalidation_1-logloss:0.36180\n",
      "[25]\tvalidation_0-logloss:0.27876\tvalidation_1-logloss:0.35657\n",
      "[26]\tvalidation_0-logloss:0.27031\tvalidation_1-logloss:0.34994\n",
      "[27]\tvalidation_0-logloss:0.26224\tvalidation_1-logloss:0.34384\n",
      "[28]\tvalidation_0-logloss:0.25448\tvalidation_1-logloss:0.33768\n",
      "[29]\tvalidation_0-logloss:0.24710\tvalidation_1-logloss:0.33288\n",
      "[30]\tvalidation_0-logloss:0.23991\tvalidation_1-logloss:0.32772\n",
      "[31]\tvalidation_0-logloss:0.23313\tvalidation_1-logloss:0.32263\n",
      "[32]\tvalidation_0-logloss:0.22652\tvalidation_1-logloss:0.31824\n",
      "[33]\tvalidation_0-logloss:0.22015\tvalidation_1-logloss:0.31367\n",
      "[34]\tvalidation_0-logloss:0.21370\tvalidation_1-logloss:0.30930\n",
      "[35]\tvalidation_0-logloss:0.20768\tvalidation_1-logloss:0.30524\n",
      "[36]\tvalidation_0-logloss:0.20209\tvalidation_1-logloss:0.30112\n",
      "[37]\tvalidation_0-logloss:0.19639\tvalidation_1-logloss:0.29666\n",
      "[38]\tvalidation_0-logloss:0.19083\tvalidation_1-logloss:0.29311\n",
      "[39]\tvalidation_0-logloss:0.18594\tvalidation_1-logloss:0.28937\n",
      "[40]\tvalidation_0-logloss:0.18091\tvalidation_1-logloss:0.28478\n",
      "[41]\tvalidation_0-logloss:0.17619\tvalidation_1-logloss:0.28166\n",
      "[42]\tvalidation_0-logloss:0.17186\tvalidation_1-logloss:0.27875\n",
      "[43]\tvalidation_0-logloss:0.16738\tvalidation_1-logloss:0.27506\n",
      "[44]\tvalidation_0-logloss:0.16316\tvalidation_1-logloss:0.27199\n",
      "[45]\tvalidation_0-logloss:0.15905\tvalidation_1-logloss:0.26903\n",
      "[46]\tvalidation_0-logloss:0.15526\tvalidation_1-logloss:0.26584\n",
      "[47]\tvalidation_0-logloss:0.15139\tvalidation_1-logloss:0.26343\n",
      "[48]\tvalidation_0-logloss:0.14750\tvalidation_1-logloss:0.26149\n",
      "[49]\tvalidation_0-logloss:0.14381\tvalidation_1-logloss:0.25927\n",
      "[50]\tvalidation_0-logloss:0.14028\tvalidation_1-logloss:0.25749\n",
      "[51]\tvalidation_0-logloss:0.13708\tvalidation_1-logloss:0.25528\n",
      "[52]\tvalidation_0-logloss:0.13401\tvalidation_1-logloss:0.25277\n",
      "[53]\tvalidation_0-logloss:0.13087\tvalidation_1-logloss:0.25089\n",
      "[54]\tvalidation_0-logloss:0.12801\tvalidation_1-logloss:0.24936\n",
      "[55]\tvalidation_0-logloss:0.12488\tvalidation_1-logloss:0.24785\n",
      "[56]\tvalidation_0-logloss:0.12187\tvalidation_1-logloss:0.24503\n",
      "[57]\tvalidation_0-logloss:0.11923\tvalidation_1-logloss:0.24370\n",
      "[58]\tvalidation_0-logloss:0.11673\tvalidation_1-logloss:0.24233\n",
      "[59]\tvalidation_0-logloss:0.11397\tvalidation_1-logloss:0.24111\n",
      "[60]\tvalidation_0-logloss:0.11163\tvalidation_1-logloss:0.23889\n",
      "[61]\tvalidation_0-logloss:0.10917\tvalidation_1-logloss:0.23741\n",
      "[62]\tvalidation_0-logloss:0.10672\tvalidation_1-logloss:0.23644\n",
      "[63]\tvalidation_0-logloss:0.10455\tvalidation_1-logloss:0.23563\n",
      "[64]\tvalidation_0-logloss:0.10223\tvalidation_1-logloss:0.23478\n",
      "[65]\tvalidation_0-logloss:0.10002\tvalidation_1-logloss:0.23403\n",
      "[66]\tvalidation_0-logloss:0.09789\tvalidation_1-logloss:0.23253\n",
      "[67]\tvalidation_0-logloss:0.09598\tvalidation_1-logloss:0.23186\n",
      "[68]\tvalidation_0-logloss:0.09412\tvalidation_1-logloss:0.23041\n",
      "[69]\tvalidation_0-logloss:0.09218\tvalidation_1-logloss:0.22963\n",
      "[70]\tvalidation_0-logloss:0.09045\tvalidation_1-logloss:0.22886\n",
      "[71]\tvalidation_0-logloss:0.08874\tvalidation_1-logloss:0.22788\n",
      "[72]\tvalidation_0-logloss:0.08693\tvalidation_1-logloss:0.22752\n",
      "[73]\tvalidation_0-logloss:0.08520\tvalidation_1-logloss:0.22701\n",
      "[74]\tvalidation_0-logloss:0.08352\tvalidation_1-logloss:0.22669\n",
      "[75]\tvalidation_0-logloss:0.08211\tvalidation_1-logloss:0.22580\n",
      "[76]\tvalidation_0-logloss:0.08058\tvalidation_1-logloss:0.22551\n",
      "[77]\tvalidation_0-logloss:0.07910\tvalidation_1-logloss:0.22539\n",
      "[78]\tvalidation_0-logloss:0.07767\tvalidation_1-logloss:0.22537\n",
      "[79]\tvalidation_0-logloss:0.07630\tvalidation_1-logloss:0.22508\n",
      "[80]\tvalidation_0-logloss:0.07485\tvalidation_1-logloss:0.22500\n",
      "[81]\tvalidation_0-logloss:0.07350\tvalidation_1-logloss:0.22486\n",
      "[82]\tvalidation_0-logloss:0.07231\tvalidation_1-logloss:0.22516\n",
      "[83]\tvalidation_0-logloss:0.07112\tvalidation_1-logloss:0.22463\n",
      "[84]\tvalidation_0-logloss:0.07000\tvalidation_1-logloss:0.22440\n",
      "[85]\tvalidation_0-logloss:0.06886\tvalidation_1-logloss:0.22427\n",
      "[86]\tvalidation_0-logloss:0.06787\tvalidation_1-logloss:0.22470\n",
      "[87]\tvalidation_0-logloss:0.06672\tvalidation_1-logloss:0.22431\n",
      "[88]\tvalidation_0-logloss:0.06575\tvalidation_1-logloss:0.22404\n",
      "[89]\tvalidation_0-logloss:0.06461\tvalidation_1-logloss:0.22306\n",
      "[90]\tvalidation_0-logloss:0.06360\tvalidation_1-logloss:0.22320\n",
      "[91]\tvalidation_0-logloss:0.06259\tvalidation_1-logloss:0.22326\n",
      "[92]\tvalidation_0-logloss:0.06168\tvalidation_1-logloss:0.22239\n",
      "[93]\tvalidation_0-logloss:0.06085\tvalidation_1-logloss:0.22270\n",
      "[94]\tvalidation_0-logloss:0.05986\tvalidation_1-logloss:0.22243\n",
      "[95]\tvalidation_0-logloss:0.05899\tvalidation_1-logloss:0.22283\n",
      "[96]\tvalidation_0-logloss:0.05810\tvalidation_1-logloss:0.22323\n",
      "[97]\tvalidation_0-logloss:0.05726\tvalidation_1-logloss:0.22249\n",
      "[98]\tvalidation_0-logloss:0.05634\tvalidation_1-logloss:0.22264\n",
      "[99]\tvalidation_0-logloss:0.05556\tvalidation_1-logloss:0.22301\n",
      "[100]\tvalidation_0-logloss:0.05466\tvalidation_1-logloss:0.22320\n",
      "[101]\tvalidation_0-logloss:0.05391\tvalidation_1-logloss:0.22251\n",
      "[102]\tvalidation_0-logloss:0.05324\tvalidation_1-logloss:0.22207\n",
      "[103]\tvalidation_0-logloss:0.05254\tvalidation_1-logloss:0.22150\n",
      "[104]\tvalidation_0-logloss:0.05186\tvalidation_1-logloss:0.22175\n",
      "[105]\tvalidation_0-logloss:0.05113\tvalidation_1-logloss:0.22119\n",
      "[106]\tvalidation_0-logloss:0.05051\tvalidation_1-logloss:0.22114\n",
      "[107]\tvalidation_0-logloss:0.04987\tvalidation_1-logloss:0.22054\n",
      "[108]\tvalidation_0-logloss:0.04924\tvalidation_1-logloss:0.22084\n",
      "[109]\tvalidation_0-logloss:0.04856\tvalidation_1-logloss:0.22027\n",
      "[110]\tvalidation_0-logloss:0.04795\tvalidation_1-logloss:0.22022\n",
      "[111]\tvalidation_0-logloss:0.04744\tvalidation_1-logloss:0.22056\n",
      "[112]\tvalidation_0-logloss:0.04685\tvalidation_1-logloss:0.22087\n",
      "[113]\tvalidation_0-logloss:0.04621\tvalidation_1-logloss:0.22092\n",
      "[114]\tvalidation_0-logloss:0.04567\tvalidation_1-logloss:0.22128\n",
      "[115]\tvalidation_0-logloss:0.04513\tvalidation_1-logloss:0.22049\n",
      "[116]\tvalidation_0-logloss:0.04455\tvalidation_1-logloss:0.22017\n",
      "[117]\tvalidation_0-logloss:0.04408\tvalidation_1-logloss:0.21985\n",
      "[118]\tvalidation_0-logloss:0.04345\tvalidation_1-logloss:0.21914\n",
      "[119]\tvalidation_0-logloss:0.04291\tvalidation_1-logloss:0.21874\n",
      "[120]\tvalidation_0-logloss:0.04242\tvalidation_1-logloss:0.21887\n",
      "[121]\tvalidation_0-logloss:0.04201\tvalidation_1-logloss:0.21925\n",
      "[122]\tvalidation_0-logloss:0.04156\tvalidation_1-logloss:0.21868\n",
      "[123]\tvalidation_0-logloss:0.04109\tvalidation_1-logloss:0.21919\n",
      "[124]\tvalidation_0-logloss:0.04068\tvalidation_1-logloss:0.21891\n",
      "[125]\tvalidation_0-logloss:0.04024\tvalidation_1-logloss:0.21902\n",
      "[126]\tvalidation_0-logloss:0.03987\tvalidation_1-logloss:0.21943\n",
      "[127]\tvalidation_0-logloss:0.03948\tvalidation_1-logloss:0.21869\n",
      "[128]\tvalidation_0-logloss:0.03900\tvalidation_1-logloss:0.21853\n",
      "[129]\tvalidation_0-logloss:0.03866\tvalidation_1-logloss:0.21876\n"
     ]
    },
    {
     "name": "stdout",
     "output_type": "stream",
     "text": [
      "[130]\tvalidation_0-logloss:0.03829\tvalidation_1-logloss:0.21889\n",
      "[131]\tvalidation_0-logloss:0.03796\tvalidation_1-logloss:0.21871\n",
      "[132]\tvalidation_0-logloss:0.03763\tvalidation_1-logloss:0.21889\n",
      "[133]\tvalidation_0-logloss:0.03723\tvalidation_1-logloss:0.21859\n",
      "[134]\tvalidation_0-logloss:0.03690\tvalidation_1-logloss:0.21793\n",
      "[135]\tvalidation_0-logloss:0.03652\tvalidation_1-logloss:0.21855\n",
      "[136]\tvalidation_0-logloss:0.03621\tvalidation_1-logloss:0.21874\n",
      "[137]\tvalidation_0-logloss:0.03591\tvalidation_1-logloss:0.21917\n",
      "[138]\tvalidation_0-logloss:0.03564\tvalidation_1-logloss:0.21948\n",
      "[139]\tvalidation_0-logloss:0.03534\tvalidation_1-logloss:0.21886\n",
      "[140]\tvalidation_0-logloss:0.03505\tvalidation_1-logloss:0.21825\n",
      "[141]\tvalidation_0-logloss:0.03477\tvalidation_1-logloss:0.21810\n",
      "[142]\tvalidation_0-logloss:0.03446\tvalidation_1-logloss:0.21851\n",
      "[143]\tvalidation_0-logloss:0.03419\tvalidation_1-logloss:0.21838\n",
      "[144]\tvalidation_0-logloss:0.03393\tvalidation_1-logloss:0.21889\n",
      "[145]\tvalidation_0-logloss:0.03364\tvalidation_1-logloss:0.21914\n",
      "[146]\tvalidation_0-logloss:0.03341\tvalidation_1-logloss:0.21873\n",
      "[147]\tvalidation_0-logloss:0.03315\tvalidation_1-logloss:0.21917\n",
      "[148]\tvalidation_0-logloss:0.03291\tvalidation_1-logloss:0.21861\n",
      "[149]\tvalidation_0-logloss:0.03255\tvalidation_1-logloss:0.21830\n",
      "[150]\tvalidation_0-logloss:0.03231\tvalidation_1-logloss:0.21819\n",
      "[151]\tvalidation_0-logloss:0.03208\tvalidation_1-logloss:0.21766\n",
      "[152]\tvalidation_0-logloss:0.03181\tvalidation_1-logloss:0.21841\n",
      "[153]\tvalidation_0-logloss:0.03160\tvalidation_1-logloss:0.21874\n",
      "[154]\tvalidation_0-logloss:0.03138\tvalidation_1-logloss:0.21832\n",
      "[155]\tvalidation_0-logloss:0.03115\tvalidation_1-logloss:0.21883\n",
      "[156]\tvalidation_0-logloss:0.03093\tvalidation_1-logloss:0.21928\n",
      "[157]\tvalidation_0-logloss:0.03071\tvalidation_1-logloss:0.21882\n",
      "[158]\tvalidation_0-logloss:0.03053\tvalidation_1-logloss:0.21914\n",
      "[159]\tvalidation_0-logloss:0.03032\tvalidation_1-logloss:0.21966\n",
      "[160]\tvalidation_0-logloss:0.03011\tvalidation_1-logloss:0.21926\n",
      "[161]\tvalidation_0-logloss:0.02991\tvalidation_1-logloss:0.21980\n",
      "[162]\tvalidation_0-logloss:0.02973\tvalidation_1-logloss:0.21936\n",
      "[163]\tvalidation_0-logloss:0.02953\tvalidation_1-logloss:0.21927\n",
      "[164]\tvalidation_0-logloss:0.02938\tvalidation_1-logloss:0.21963\n",
      "[165]\tvalidation_0-logloss:0.02919\tvalidation_1-logloss:0.21915\n",
      "[166]\tvalidation_0-logloss:0.02903\tvalidation_1-logloss:0.21949\n",
      "[167]\tvalidation_0-logloss:0.02889\tvalidation_1-logloss:0.21996\n",
      "[168]\tvalidation_0-logloss:0.02870\tvalidation_1-logloss:0.22041\n",
      "[169]\tvalidation_0-logloss:0.02851\tvalidation_1-logloss:0.22034\n",
      "[170]\tvalidation_0-logloss:0.02834\tvalidation_1-logloss:0.21988\n",
      "[171]\tvalidation_0-logloss:0.02821\tvalidation_1-logloss:0.21964\n",
      "[172]\tvalidation_0-logloss:0.02804\tvalidation_1-logloss:0.21958\n",
      "[173]\tvalidation_0-logloss:0.02786\tvalidation_1-logloss:0.21996\n",
      "[174]\tvalidation_0-logloss:0.02772\tvalidation_1-logloss:0.21982\n",
      "[175]\tvalidation_0-logloss:0.02758\tvalidation_1-logloss:0.22029\n",
      "[176]\tvalidation_0-logloss:0.02745\tvalidation_1-logloss:0.22071\n",
      "[177]\tvalidation_0-logloss:0.02731\tvalidation_1-logloss:0.22110\n",
      "[178]\tvalidation_0-logloss:0.02715\tvalidation_1-logloss:0.22155\n",
      "[179]\tvalidation_0-logloss:0.02700\tvalidation_1-logloss:0.22111\n",
      "[180]\tvalidation_0-logloss:0.02684\tvalidation_1-logloss:0.22078\n",
      "[181]\tvalidation_0-logloss:0.02669\tvalidation_1-logloss:0.22074\n",
      "[182]\tvalidation_0-logloss:0.02653\tvalidation_1-logloss:0.22113\n",
      "[183]\tvalidation_0-logloss:0.02642\tvalidation_1-logloss:0.22140\n",
      "[184]\tvalidation_0-logloss:0.02633\tvalidation_1-logloss:0.22162\n",
      "[185]\tvalidation_0-logloss:0.02619\tvalidation_1-logloss:0.22124\n",
      "[186]\tvalidation_0-logloss:0.02608\tvalidation_1-logloss:0.22170\n",
      "[187]\tvalidation_0-logloss:0.02593\tvalidation_1-logloss:0.22165\n",
      "[188]\tvalidation_0-logloss:0.02580\tvalidation_1-logloss:0.22129\n",
      "[189]\tvalidation_0-logloss:0.02572\tvalidation_1-logloss:0.22126\n",
      "[190]\tvalidation_0-logloss:0.02558\tvalidation_1-logloss:0.22123\n",
      "[191]\tvalidation_0-logloss:0.02550\tvalidation_1-logloss:0.22144\n",
      "[192]\tvalidation_0-logloss:0.02538\tvalidation_1-logloss:0.22109\n",
      "[193]\tvalidation_0-logloss:0.02530\tvalidation_1-logloss:0.22107\n",
      "[194]\tvalidation_0-logloss:0.02516\tvalidation_1-logloss:0.22151\n",
      "[195]\tvalidation_0-logloss:0.02505\tvalidation_1-logloss:0.22178\n",
      "[196]\tvalidation_0-logloss:0.02492\tvalidation_1-logloss:0.22222\n",
      "[197]\tvalidation_0-logloss:0.02482\tvalidation_1-logloss:0.22235\n",
      "[198]\tvalidation_0-logloss:0.02475\tvalidation_1-logloss:0.22257\n",
      "[199]\tvalidation_0-logloss:0.02464\tvalidation_1-logloss:0.22251\n",
      "[200]\tvalidation_0-logloss:0.02452\tvalidation_1-logloss:0.22250\n",
      "[201]\tvalidation_0-logloss:0.02445\tvalidation_1-logloss:0.22248\n",
      "오차 행렬\n",
      "[[34  3]\n",
      " [ 3 74]]\n",
      "정확도:0.9474, 정밀도:0.9610, 재현율:0.9610, F1:0.9610, AUC:0.9909\n"
     ]
    }
   ],
   "source": [
    "xgb_wrapper = XGBClassifier(n_estimators=400,\n",
    "                           learning_rate=round(best['learning_rate'],5),\n",
    "                           max_depth=int(best['max_depth']),\n",
    "                           min_child_weight=int(best['min_child_weight']),\n",
    "                           colsample_bytree=round(best['colsample_bytree'],5))\n",
    "evals = [(X_tr,y_tr),(X_val,y_val)]\n",
    "xgb_wrapper.fit(X_tr,y_tr,early_stopping_rounds=50, eval_metric='logloss',\n",
    "               eval_set=evals, verbose=True)\n",
    "preds = xgb_wrapper.predict(X_test)\n",
    "pred_proba = xgb_wrapper.predict_proba(X_test)[:,1]\n",
    "\n",
    "get_clf_eval(y_test,preds,pred_proba)"
   ]
  },
  {
   "cell_type": "markdown",
   "id": "13cf0c76",
   "metadata": {},
   "source": [
    "## 분류 실습 - 캐글 산탄데르 고객 만족 예측\n",
    "__데이터 전처리__"
   ]
  },
  {
   "cell_type": "code",
   "execution_count": 4,
   "id": "e78fb15f",
   "metadata": {},
   "outputs": [
    {
     "name": "stdout",
     "output_type": "stream",
     "text": [
      "dataset shape: (76020, 371)\n"
     ]
    },
    {
     "data": {
      "text/html": [
       "<div>\n",
       "<style scoped>\n",
       "    .dataframe tbody tr th:only-of-type {\n",
       "        vertical-align: middle;\n",
       "    }\n",
       "\n",
       "    .dataframe tbody tr th {\n",
       "        vertical-align: top;\n",
       "    }\n",
       "\n",
       "    .dataframe thead th {\n",
       "        text-align: right;\n",
       "    }\n",
       "</style>\n",
       "<table border=\"1\" class=\"dataframe\">\n",
       "  <thead>\n",
       "    <tr style=\"text-align: right;\">\n",
       "      <th></th>\n",
       "      <th>ID</th>\n",
       "      <th>var3</th>\n",
       "      <th>var15</th>\n",
       "      <th>imp_ent_var16_ult1</th>\n",
       "      <th>imp_op_var39_comer_ult1</th>\n",
       "      <th>imp_op_var39_comer_ult3</th>\n",
       "      <th>imp_op_var40_comer_ult1</th>\n",
       "      <th>imp_op_var40_comer_ult3</th>\n",
       "      <th>imp_op_var40_efect_ult1</th>\n",
       "      <th>imp_op_var40_efect_ult3</th>\n",
       "      <th>...</th>\n",
       "      <th>saldo_medio_var33_hace2</th>\n",
       "      <th>saldo_medio_var33_hace3</th>\n",
       "      <th>saldo_medio_var33_ult1</th>\n",
       "      <th>saldo_medio_var33_ult3</th>\n",
       "      <th>saldo_medio_var44_hace2</th>\n",
       "      <th>saldo_medio_var44_hace3</th>\n",
       "      <th>saldo_medio_var44_ult1</th>\n",
       "      <th>saldo_medio_var44_ult3</th>\n",
       "      <th>var38</th>\n",
       "      <th>TARGET</th>\n",
       "    </tr>\n",
       "  </thead>\n",
       "  <tbody>\n",
       "    <tr>\n",
       "      <th>0</th>\n",
       "      <td>1</td>\n",
       "      <td>2</td>\n",
       "      <td>23</td>\n",
       "      <td>0.0</td>\n",
       "      <td>0.0</td>\n",
       "      <td>0.0</td>\n",
       "      <td>0.0</td>\n",
       "      <td>0.0</td>\n",
       "      <td>0.0</td>\n",
       "      <td>0.0</td>\n",
       "      <td>...</td>\n",
       "      <td>0.0</td>\n",
       "      <td>0.0</td>\n",
       "      <td>0.0</td>\n",
       "      <td>0.0</td>\n",
       "      <td>0.0</td>\n",
       "      <td>0.0</td>\n",
       "      <td>0.0</td>\n",
       "      <td>0.0</td>\n",
       "      <td>39205.170000</td>\n",
       "      <td>0</td>\n",
       "    </tr>\n",
       "    <tr>\n",
       "      <th>1</th>\n",
       "      <td>3</td>\n",
       "      <td>2</td>\n",
       "      <td>34</td>\n",
       "      <td>0.0</td>\n",
       "      <td>0.0</td>\n",
       "      <td>0.0</td>\n",
       "      <td>0.0</td>\n",
       "      <td>0.0</td>\n",
       "      <td>0.0</td>\n",
       "      <td>0.0</td>\n",
       "      <td>...</td>\n",
       "      <td>0.0</td>\n",
       "      <td>0.0</td>\n",
       "      <td>0.0</td>\n",
       "      <td>0.0</td>\n",
       "      <td>0.0</td>\n",
       "      <td>0.0</td>\n",
       "      <td>0.0</td>\n",
       "      <td>0.0</td>\n",
       "      <td>49278.030000</td>\n",
       "      <td>0</td>\n",
       "    </tr>\n",
       "    <tr>\n",
       "      <th>2</th>\n",
       "      <td>4</td>\n",
       "      <td>2</td>\n",
       "      <td>23</td>\n",
       "      <td>0.0</td>\n",
       "      <td>0.0</td>\n",
       "      <td>0.0</td>\n",
       "      <td>0.0</td>\n",
       "      <td>0.0</td>\n",
       "      <td>0.0</td>\n",
       "      <td>0.0</td>\n",
       "      <td>...</td>\n",
       "      <td>0.0</td>\n",
       "      <td>0.0</td>\n",
       "      <td>0.0</td>\n",
       "      <td>0.0</td>\n",
       "      <td>0.0</td>\n",
       "      <td>0.0</td>\n",
       "      <td>0.0</td>\n",
       "      <td>0.0</td>\n",
       "      <td>67333.770000</td>\n",
       "      <td>0</td>\n",
       "    </tr>\n",
       "    <tr>\n",
       "      <th>3</th>\n",
       "      <td>8</td>\n",
       "      <td>2</td>\n",
       "      <td>37</td>\n",
       "      <td>0.0</td>\n",
       "      <td>195.0</td>\n",
       "      <td>195.0</td>\n",
       "      <td>0.0</td>\n",
       "      <td>0.0</td>\n",
       "      <td>0.0</td>\n",
       "      <td>0.0</td>\n",
       "      <td>...</td>\n",
       "      <td>0.0</td>\n",
       "      <td>0.0</td>\n",
       "      <td>0.0</td>\n",
       "      <td>0.0</td>\n",
       "      <td>0.0</td>\n",
       "      <td>0.0</td>\n",
       "      <td>0.0</td>\n",
       "      <td>0.0</td>\n",
       "      <td>64007.970000</td>\n",
       "      <td>0</td>\n",
       "    </tr>\n",
       "    <tr>\n",
       "      <th>4</th>\n",
       "      <td>10</td>\n",
       "      <td>2</td>\n",
       "      <td>39</td>\n",
       "      <td>0.0</td>\n",
       "      <td>0.0</td>\n",
       "      <td>0.0</td>\n",
       "      <td>0.0</td>\n",
       "      <td>0.0</td>\n",
       "      <td>0.0</td>\n",
       "      <td>0.0</td>\n",
       "      <td>...</td>\n",
       "      <td>0.0</td>\n",
       "      <td>0.0</td>\n",
       "      <td>0.0</td>\n",
       "      <td>0.0</td>\n",
       "      <td>0.0</td>\n",
       "      <td>0.0</td>\n",
       "      <td>0.0</td>\n",
       "      <td>0.0</td>\n",
       "      <td>117310.979016</td>\n",
       "      <td>0</td>\n",
       "    </tr>\n",
       "  </tbody>\n",
       "</table>\n",
       "<p>5 rows × 371 columns</p>\n",
       "</div>"
      ],
      "text/plain": [
       "   ID  var3  var15  imp_ent_var16_ult1  imp_op_var39_comer_ult1  \\\n",
       "0   1     2     23                 0.0                      0.0   \n",
       "1   3     2     34                 0.0                      0.0   \n",
       "2   4     2     23                 0.0                      0.0   \n",
       "3   8     2     37                 0.0                    195.0   \n",
       "4  10     2     39                 0.0                      0.0   \n",
       "\n",
       "   imp_op_var39_comer_ult3  imp_op_var40_comer_ult1  imp_op_var40_comer_ult3  \\\n",
       "0                      0.0                      0.0                      0.0   \n",
       "1                      0.0                      0.0                      0.0   \n",
       "2                      0.0                      0.0                      0.0   \n",
       "3                    195.0                      0.0                      0.0   \n",
       "4                      0.0                      0.0                      0.0   \n",
       "\n",
       "   imp_op_var40_efect_ult1  imp_op_var40_efect_ult3  ...  \\\n",
       "0                      0.0                      0.0  ...   \n",
       "1                      0.0                      0.0  ...   \n",
       "2                      0.0                      0.0  ...   \n",
       "3                      0.0                      0.0  ...   \n",
       "4                      0.0                      0.0  ...   \n",
       "\n",
       "   saldo_medio_var33_hace2  saldo_medio_var33_hace3  saldo_medio_var33_ult1  \\\n",
       "0                      0.0                      0.0                     0.0   \n",
       "1                      0.0                      0.0                     0.0   \n",
       "2                      0.0                      0.0                     0.0   \n",
       "3                      0.0                      0.0                     0.0   \n",
       "4                      0.0                      0.0                     0.0   \n",
       "\n",
       "   saldo_medio_var33_ult3  saldo_medio_var44_hace2  saldo_medio_var44_hace3  \\\n",
       "0                     0.0                      0.0                      0.0   \n",
       "1                     0.0                      0.0                      0.0   \n",
       "2                     0.0                      0.0                      0.0   \n",
       "3                     0.0                      0.0                      0.0   \n",
       "4                     0.0                      0.0                      0.0   \n",
       "\n",
       "   saldo_medio_var44_ult1  saldo_medio_var44_ult3          var38  TARGET  \n",
       "0                     0.0                     0.0   39205.170000       0  \n",
       "1                     0.0                     0.0   49278.030000       0  \n",
       "2                     0.0                     0.0   67333.770000       0  \n",
       "3                     0.0                     0.0   64007.970000       0  \n",
       "4                     0.0                     0.0  117310.979016       0  \n",
       "\n",
       "[5 rows x 371 columns]"
      ]
     },
     "execution_count": 4,
     "metadata": {},
     "output_type": "execute_result"
    }
   ],
   "source": [
    "import numpy as np\n",
    "import pandas as pd\n",
    "import matplotlib.pyplot as plt\n",
    "import matplotlib\n",
    "import warnings\n",
    "\n",
    "warnings.filterwarnings('ignore')\n",
    "cust_df = pd.read_csv('c:/data/train_santander.csv',encoding='latin-')\n",
    "print('dataset shape:',cust_df.shape)\n",
    "cust_df.head()"
   ]
  },
  {
   "cell_type": "code",
   "execution_count": 2,
   "id": "2d39e7b2",
   "metadata": {},
   "outputs": [
    {
     "name": "stdout",
     "output_type": "stream",
     "text": [
      "<class 'pandas.core.frame.DataFrame'>\n",
      "RangeIndex: 76020 entries, 0 to 76019\n",
      "Columns: 371 entries, ID to TARGET\n",
      "dtypes: float64(111), int64(260)\n",
      "memory usage: 215.2 MB\n"
     ]
    }
   ],
   "source": [
    "cust_df.info()\n",
    "# 111개의 피처가 float 형, 260개의 피처가 int형"
   ]
  },
  {
   "cell_type": "code",
   "execution_count": 5,
   "id": "baa51eee",
   "metadata": {},
   "outputs": [
    {
     "name": "stdout",
     "output_type": "stream",
     "text": [
      "0    73012\n",
      "1     3008\n",
      "Name: TARGET, dtype: int64\n",
      "unsatisfied 비율은 0.04\n"
     ]
    }
   ],
   "source": [
    "print(cust_df['TARGET'].value_counts())\n",
    "unsatisfied_cnt = cust_df[cust_df['TARGET']==1].TARGET.count()\n",
    "total_cnt = cust_df.TARGET.count()\n",
    "print('unsatisfied 비율은 {0:.2f}'.format((unsatisfied_cnt/total_cnt)))"
   ]
  },
  {
   "cell_type": "code",
   "execution_count": 5,
   "id": "9b6070bf",
   "metadata": {},
   "outputs": [
    {
     "data": {
      "text/html": [
       "<div>\n",
       "<style scoped>\n",
       "    .dataframe tbody tr th:only-of-type {\n",
       "        vertical-align: middle;\n",
       "    }\n",
       "\n",
       "    .dataframe tbody tr th {\n",
       "        vertical-align: top;\n",
       "    }\n",
       "\n",
       "    .dataframe thead th {\n",
       "        text-align: right;\n",
       "    }\n",
       "</style>\n",
       "<table border=\"1\" class=\"dataframe\">\n",
       "  <thead>\n",
       "    <tr style=\"text-align: right;\">\n",
       "      <th></th>\n",
       "      <th>ID</th>\n",
       "      <th>var3</th>\n",
       "      <th>var15</th>\n",
       "      <th>imp_ent_var16_ult1</th>\n",
       "      <th>imp_op_var39_comer_ult1</th>\n",
       "      <th>imp_op_var39_comer_ult3</th>\n",
       "      <th>imp_op_var40_comer_ult1</th>\n",
       "      <th>imp_op_var40_comer_ult3</th>\n",
       "      <th>imp_op_var40_efect_ult1</th>\n",
       "      <th>imp_op_var40_efect_ult3</th>\n",
       "      <th>...</th>\n",
       "      <th>saldo_medio_var33_hace2</th>\n",
       "      <th>saldo_medio_var33_hace3</th>\n",
       "      <th>saldo_medio_var33_ult1</th>\n",
       "      <th>saldo_medio_var33_ult3</th>\n",
       "      <th>saldo_medio_var44_hace2</th>\n",
       "      <th>saldo_medio_var44_hace3</th>\n",
       "      <th>saldo_medio_var44_ult1</th>\n",
       "      <th>saldo_medio_var44_ult3</th>\n",
       "      <th>var38</th>\n",
       "      <th>TARGET</th>\n",
       "    </tr>\n",
       "  </thead>\n",
       "  <tbody>\n",
       "    <tr>\n",
       "      <th>count</th>\n",
       "      <td>76020.000000</td>\n",
       "      <td>76020.000000</td>\n",
       "      <td>76020.000000</td>\n",
       "      <td>76020.000000</td>\n",
       "      <td>76020.000000</td>\n",
       "      <td>76020.000000</td>\n",
       "      <td>76020.000000</td>\n",
       "      <td>76020.000000</td>\n",
       "      <td>76020.000000</td>\n",
       "      <td>76020.000000</td>\n",
       "      <td>...</td>\n",
       "      <td>76020.000000</td>\n",
       "      <td>76020.000000</td>\n",
       "      <td>76020.000000</td>\n",
       "      <td>76020.000000</td>\n",
       "      <td>76020.000000</td>\n",
       "      <td>76020.000000</td>\n",
       "      <td>76020.000000</td>\n",
       "      <td>76020.000000</td>\n",
       "      <td>7.602000e+04</td>\n",
       "      <td>76020.000000</td>\n",
       "    </tr>\n",
       "    <tr>\n",
       "      <th>mean</th>\n",
       "      <td>75964.050723</td>\n",
       "      <td>-1523.199277</td>\n",
       "      <td>33.212865</td>\n",
       "      <td>86.208265</td>\n",
       "      <td>72.363067</td>\n",
       "      <td>119.529632</td>\n",
       "      <td>3.559130</td>\n",
       "      <td>6.472698</td>\n",
       "      <td>0.412946</td>\n",
       "      <td>0.567352</td>\n",
       "      <td>...</td>\n",
       "      <td>7.935824</td>\n",
       "      <td>1.365146</td>\n",
       "      <td>12.215580</td>\n",
       "      <td>8.784074</td>\n",
       "      <td>31.505324</td>\n",
       "      <td>1.858575</td>\n",
       "      <td>76.026165</td>\n",
       "      <td>56.614351</td>\n",
       "      <td>1.172358e+05</td>\n",
       "      <td>0.039569</td>\n",
       "    </tr>\n",
       "    <tr>\n",
       "      <th>std</th>\n",
       "      <td>43781.947379</td>\n",
       "      <td>39033.462364</td>\n",
       "      <td>12.956486</td>\n",
       "      <td>1614.757313</td>\n",
       "      <td>339.315831</td>\n",
       "      <td>546.266294</td>\n",
       "      <td>93.155749</td>\n",
       "      <td>153.737066</td>\n",
       "      <td>30.604864</td>\n",
       "      <td>36.513513</td>\n",
       "      <td>...</td>\n",
       "      <td>455.887218</td>\n",
       "      <td>113.959637</td>\n",
       "      <td>783.207399</td>\n",
       "      <td>538.439211</td>\n",
       "      <td>2013.125393</td>\n",
       "      <td>147.786584</td>\n",
       "      <td>4040.337842</td>\n",
       "      <td>2852.579397</td>\n",
       "      <td>1.826646e+05</td>\n",
       "      <td>0.194945</td>\n",
       "    </tr>\n",
       "    <tr>\n",
       "      <th>min</th>\n",
       "      <td>1.000000</td>\n",
       "      <td>-999999.000000</td>\n",
       "      <td>5.000000</td>\n",
       "      <td>0.000000</td>\n",
       "      <td>0.000000</td>\n",
       "      <td>0.000000</td>\n",
       "      <td>0.000000</td>\n",
       "      <td>0.000000</td>\n",
       "      <td>0.000000</td>\n",
       "      <td>0.000000</td>\n",
       "      <td>...</td>\n",
       "      <td>0.000000</td>\n",
       "      <td>0.000000</td>\n",
       "      <td>0.000000</td>\n",
       "      <td>0.000000</td>\n",
       "      <td>0.000000</td>\n",
       "      <td>0.000000</td>\n",
       "      <td>0.000000</td>\n",
       "      <td>0.000000</td>\n",
       "      <td>5.163750e+03</td>\n",
       "      <td>0.000000</td>\n",
       "    </tr>\n",
       "    <tr>\n",
       "      <th>25%</th>\n",
       "      <td>38104.750000</td>\n",
       "      <td>2.000000</td>\n",
       "      <td>23.000000</td>\n",
       "      <td>0.000000</td>\n",
       "      <td>0.000000</td>\n",
       "      <td>0.000000</td>\n",
       "      <td>0.000000</td>\n",
       "      <td>0.000000</td>\n",
       "      <td>0.000000</td>\n",
       "      <td>0.000000</td>\n",
       "      <td>...</td>\n",
       "      <td>0.000000</td>\n",
       "      <td>0.000000</td>\n",
       "      <td>0.000000</td>\n",
       "      <td>0.000000</td>\n",
       "      <td>0.000000</td>\n",
       "      <td>0.000000</td>\n",
       "      <td>0.000000</td>\n",
       "      <td>0.000000</td>\n",
       "      <td>6.787061e+04</td>\n",
       "      <td>0.000000</td>\n",
       "    </tr>\n",
       "    <tr>\n",
       "      <th>50%</th>\n",
       "      <td>76043.000000</td>\n",
       "      <td>2.000000</td>\n",
       "      <td>28.000000</td>\n",
       "      <td>0.000000</td>\n",
       "      <td>0.000000</td>\n",
       "      <td>0.000000</td>\n",
       "      <td>0.000000</td>\n",
       "      <td>0.000000</td>\n",
       "      <td>0.000000</td>\n",
       "      <td>0.000000</td>\n",
       "      <td>...</td>\n",
       "      <td>0.000000</td>\n",
       "      <td>0.000000</td>\n",
       "      <td>0.000000</td>\n",
       "      <td>0.000000</td>\n",
       "      <td>0.000000</td>\n",
       "      <td>0.000000</td>\n",
       "      <td>0.000000</td>\n",
       "      <td>0.000000</td>\n",
       "      <td>1.064092e+05</td>\n",
       "      <td>0.000000</td>\n",
       "    </tr>\n",
       "    <tr>\n",
       "      <th>75%</th>\n",
       "      <td>113748.750000</td>\n",
       "      <td>2.000000</td>\n",
       "      <td>40.000000</td>\n",
       "      <td>0.000000</td>\n",
       "      <td>0.000000</td>\n",
       "      <td>0.000000</td>\n",
       "      <td>0.000000</td>\n",
       "      <td>0.000000</td>\n",
       "      <td>0.000000</td>\n",
       "      <td>0.000000</td>\n",
       "      <td>...</td>\n",
       "      <td>0.000000</td>\n",
       "      <td>0.000000</td>\n",
       "      <td>0.000000</td>\n",
       "      <td>0.000000</td>\n",
       "      <td>0.000000</td>\n",
       "      <td>0.000000</td>\n",
       "      <td>0.000000</td>\n",
       "      <td>0.000000</td>\n",
       "      <td>1.187563e+05</td>\n",
       "      <td>0.000000</td>\n",
       "    </tr>\n",
       "    <tr>\n",
       "      <th>max</th>\n",
       "      <td>151838.000000</td>\n",
       "      <td>238.000000</td>\n",
       "      <td>105.000000</td>\n",
       "      <td>210000.000000</td>\n",
       "      <td>12888.030000</td>\n",
       "      <td>21024.810000</td>\n",
       "      <td>8237.820000</td>\n",
       "      <td>11073.570000</td>\n",
       "      <td>6600.000000</td>\n",
       "      <td>6600.000000</td>\n",
       "      <td>...</td>\n",
       "      <td>50003.880000</td>\n",
       "      <td>20385.720000</td>\n",
       "      <td>138831.630000</td>\n",
       "      <td>91778.730000</td>\n",
       "      <td>438329.220000</td>\n",
       "      <td>24650.010000</td>\n",
       "      <td>681462.900000</td>\n",
       "      <td>397884.300000</td>\n",
       "      <td>2.203474e+07</td>\n",
       "      <td>1.000000</td>\n",
       "    </tr>\n",
       "  </tbody>\n",
       "</table>\n",
       "<p>8 rows × 371 columns</p>\n",
       "</div>"
      ],
      "text/plain": [
       "                  ID           var3         var15  imp_ent_var16_ult1  \\\n",
       "count   76020.000000   76020.000000  76020.000000        76020.000000   \n",
       "mean    75964.050723   -1523.199277     33.212865           86.208265   \n",
       "std     43781.947379   39033.462364     12.956486         1614.757313   \n",
       "min         1.000000 -999999.000000      5.000000            0.000000   \n",
       "25%     38104.750000       2.000000     23.000000            0.000000   \n",
       "50%     76043.000000       2.000000     28.000000            0.000000   \n",
       "75%    113748.750000       2.000000     40.000000            0.000000   \n",
       "max    151838.000000     238.000000    105.000000       210000.000000   \n",
       "\n",
       "       imp_op_var39_comer_ult1  imp_op_var39_comer_ult3  \\\n",
       "count             76020.000000             76020.000000   \n",
       "mean                 72.363067               119.529632   \n",
       "std                 339.315831               546.266294   \n",
       "min                   0.000000                 0.000000   \n",
       "25%                   0.000000                 0.000000   \n",
       "50%                   0.000000                 0.000000   \n",
       "75%                   0.000000                 0.000000   \n",
       "max               12888.030000             21024.810000   \n",
       "\n",
       "       imp_op_var40_comer_ult1  imp_op_var40_comer_ult3  \\\n",
       "count             76020.000000             76020.000000   \n",
       "mean                  3.559130                 6.472698   \n",
       "std                  93.155749               153.737066   \n",
       "min                   0.000000                 0.000000   \n",
       "25%                   0.000000                 0.000000   \n",
       "50%                   0.000000                 0.000000   \n",
       "75%                   0.000000                 0.000000   \n",
       "max                8237.820000             11073.570000   \n",
       "\n",
       "       imp_op_var40_efect_ult1  imp_op_var40_efect_ult3  ...  \\\n",
       "count             76020.000000             76020.000000  ...   \n",
       "mean                  0.412946                 0.567352  ...   \n",
       "std                  30.604864                36.513513  ...   \n",
       "min                   0.000000                 0.000000  ...   \n",
       "25%                   0.000000                 0.000000  ...   \n",
       "50%                   0.000000                 0.000000  ...   \n",
       "75%                   0.000000                 0.000000  ...   \n",
       "max                6600.000000              6600.000000  ...   \n",
       "\n",
       "       saldo_medio_var33_hace2  saldo_medio_var33_hace3  \\\n",
       "count             76020.000000             76020.000000   \n",
       "mean                  7.935824                 1.365146   \n",
       "std                 455.887218               113.959637   \n",
       "min                   0.000000                 0.000000   \n",
       "25%                   0.000000                 0.000000   \n",
       "50%                   0.000000                 0.000000   \n",
       "75%                   0.000000                 0.000000   \n",
       "max               50003.880000             20385.720000   \n",
       "\n",
       "       saldo_medio_var33_ult1  saldo_medio_var33_ult3  \\\n",
       "count            76020.000000            76020.000000   \n",
       "mean                12.215580                8.784074   \n",
       "std                783.207399              538.439211   \n",
       "min                  0.000000                0.000000   \n",
       "25%                  0.000000                0.000000   \n",
       "50%                  0.000000                0.000000   \n",
       "75%                  0.000000                0.000000   \n",
       "max             138831.630000            91778.730000   \n",
       "\n",
       "       saldo_medio_var44_hace2  saldo_medio_var44_hace3  \\\n",
       "count             76020.000000             76020.000000   \n",
       "mean                 31.505324                 1.858575   \n",
       "std                2013.125393               147.786584   \n",
       "min                   0.000000                 0.000000   \n",
       "25%                   0.000000                 0.000000   \n",
       "50%                   0.000000                 0.000000   \n",
       "75%                   0.000000                 0.000000   \n",
       "max              438329.220000             24650.010000   \n",
       "\n",
       "       saldo_medio_var44_ult1  saldo_medio_var44_ult3         var38  \\\n",
       "count            76020.000000            76020.000000  7.602000e+04   \n",
       "mean                76.026165               56.614351  1.172358e+05   \n",
       "std               4040.337842             2852.579397  1.826646e+05   \n",
       "min                  0.000000                0.000000  5.163750e+03   \n",
       "25%                  0.000000                0.000000  6.787061e+04   \n",
       "50%                  0.000000                0.000000  1.064092e+05   \n",
       "75%                  0.000000                0.000000  1.187563e+05   \n",
       "max             681462.900000           397884.300000  2.203474e+07   \n",
       "\n",
       "             TARGET  \n",
       "count  76020.000000  \n",
       "mean       0.039569  \n",
       "std        0.194945  \n",
       "min        0.000000  \n",
       "25%        0.000000  \n",
       "50%        0.000000  \n",
       "75%        0.000000  \n",
       "max        1.000000  \n",
       "\n",
       "[8 rows x 371 columns]"
      ]
     },
     "execution_count": 5,
     "metadata": {},
     "output_type": "execute_result"
    }
   ],
   "source": [
    "cust_df.describe()"
   ]
  },
  {
   "cell_type": "code",
   "execution_count": 7,
   "id": "1e9c8cae",
   "metadata": {},
   "outputs": [
    {
     "name": "stdout",
     "output_type": "stream",
     "text": [
      " 2         74165\n",
      " 8           138\n",
      "-999999      116\n",
      " 9           110\n",
      " 3           108\n",
      " 1           105\n",
      " 13           98\n",
      " 7            97\n",
      " 4            86\n",
      " 12           85\n",
      "Name: var3, dtype: int64\n"
     ]
    }
   ],
   "source": [
    "# var3의 -999999값을 NaN이나 특정 예외 값으로 변환했을 것임\n",
    "print(cust_df.var3.value_counts()[:10])"
   ]
  },
  {
   "cell_type": "code",
   "execution_count": 6,
   "id": "be5e0140",
   "metadata": {},
   "outputs": [
    {
     "name": "stdout",
     "output_type": "stream",
     "text": [
      "피처 데이터 shape:(76020, 369)\n"
     ]
    }
   ],
   "source": [
    "# -999999을 가장 값이 많은 2로 변환 / ID피처는 단순 식별자임으로 삭제\n",
    "cust_df['var3'].replace(-999999,2,inplace=True)\n",
    "cust_df.drop('ID',axis=1,inplace=True)\n",
    "\n",
    "# 피처 세트와 레이블 세트 분리. 레이블 칼럼은 DataFrame의 맨 마지막에 위치해 컬럼 위치 -1로 분리\n",
    "X_features = cust_df.iloc[:,:-1]\n",
    "y_labels = cust_df.iloc[:,-1]\n",
    "print('피처 데이터 shape:{0}'.format(X_features.shape))"
   ]
  },
  {
   "cell_type": "code",
   "execution_count": 7,
   "id": "036f25da",
   "metadata": {},
   "outputs": [
    {
     "name": "stdout",
     "output_type": "stream",
     "text": [
      "학습 세트 Shape:(60816, 369), 테스트 세트 Shape:(15204, 369)\n",
      "\n",
      " 학습 세트 레이블 값 분포 비율\n",
      "0    0.960964\n",
      "1    0.039036\n",
      "Name: TARGET, dtype: float64\n",
      "\n",
      " 테스트 세트 레이블 값 분포 비율\n",
      "0    0.9583\n",
      "1    0.0417\n",
      "Name: TARGET, dtype: float64\n"
     ]
    }
   ],
   "source": [
    "# 비대칭한 데이터 셋으로 클래스인 Target 분포도가 비슷하게 추출됐는지 확인\n",
    "from sklearn.model_selection import train_test_split\n",
    "\n",
    "X_train, X_test, y_train, y_test = train_test_split(X_features, y_labels, test_size=0.2, random_state=0)\n",
    "train_cnt = y_train.count()\n",
    "test_cnt = y_test.count()\n",
    "print('학습 세트 Shape:{0}, 테스트 세트 Shape:{1}'.format(X_train.shape, X_test.shape))\n",
    "\n",
    "print('\\n 학습 세트 레이블 값 분포 비율')\n",
    "print(y_train.value_counts()/train_cnt)\n",
    "print('\\n 테스트 세트 레이블 값 분포 비율')\n",
    "print(y_test.value_counts()/test_cnt)"
   ]
  },
  {
   "cell_type": "code",
   "execution_count": 8,
   "id": "a431839d",
   "metadata": {},
   "outputs": [],
   "source": [
    "# early stopping의 검증 데이터 셋으로 사용하기 위해 학습 데이터를 쪼개 다시 학습과 검증 데이터 셋으로 분리\n",
    "X_tr, X_val, y_tr, y_val = train_test_split(X_train, y_train, test_size=0.3, random_state=0)"
   ]
  },
  {
   "cell_type": "markdown",
   "id": "f592027c",
   "metadata": {},
   "source": [
    "__XGBoost 모델 학습과 하이퍼 파라미터 튜닝__"
   ]
  },
  {
   "cell_type": "code",
   "execution_count": 9,
   "id": "184a10f3",
   "metadata": {},
   "outputs": [
    {
     "name": "stdout",
     "output_type": "stream",
     "text": [
      "[0]\tvalidation_0-auc:0.82179\tvalidation_1-auc:0.80068\n",
      "[1]\tvalidation_0-auc:0.83092\tvalidation_1-auc:0.80941\n",
      "[2]\tvalidation_0-auc:0.83207\tvalidation_1-auc:0.80903\n",
      "[3]\tvalidation_0-auc:0.83288\tvalidation_1-auc:0.80889\n",
      "[4]\tvalidation_0-auc:0.83414\tvalidation_1-auc:0.80924\n",
      "[5]\tvalidation_0-auc:0.83524\tvalidation_1-auc:0.80907\n",
      "[6]\tvalidation_0-auc:0.83568\tvalidation_1-auc:0.81004\n",
      "[7]\tvalidation_0-auc:0.83741\tvalidation_1-auc:0.81088\n",
      "[8]\tvalidation_0-auc:0.83896\tvalidation_1-auc:0.81305\n",
      "[9]\tvalidation_0-auc:0.83949\tvalidation_1-auc:0.81363\n",
      "[10]\tvalidation_0-auc:0.83908\tvalidation_1-auc:0.81277\n",
      "[11]\tvalidation_0-auc:0.83913\tvalidation_1-auc:0.81260\n",
      "[12]\tvalidation_0-auc:0.84009\tvalidation_1-auc:0.81325\n",
      "[13]\tvalidation_0-auc:0.84081\tvalidation_1-auc:0.81329\n",
      "[14]\tvalidation_0-auc:0.84196\tvalidation_1-auc:0.81380\n",
      "[15]\tvalidation_0-auc:0.84394\tvalidation_1-auc:0.81540\n",
      "[16]\tvalidation_0-auc:0.84414\tvalidation_1-auc:0.81573\n",
      "[17]\tvalidation_0-auc:0.84437\tvalidation_1-auc:0.81577\n",
      "[18]\tvalidation_0-auc:0.84468\tvalidation_1-auc:0.81569\n",
      "[19]\tvalidation_0-auc:0.84586\tvalidation_1-auc:0.81625\n",
      "[20]\tvalidation_0-auc:0.84641\tvalidation_1-auc:0.81619\n",
      "[21]\tvalidation_0-auc:0.84685\tvalidation_1-auc:0.81611\n",
      "[22]\tvalidation_0-auc:0.84735\tvalidation_1-auc:0.81671\n",
      "[23]\tvalidation_0-auc:0.84793\tvalidation_1-auc:0.81682\n",
      "[24]\tvalidation_0-auc:0.84825\tvalidation_1-auc:0.81675\n",
      "[25]\tvalidation_0-auc:0.84893\tvalidation_1-auc:0.81647\n",
      "[26]\tvalidation_0-auc:0.85104\tvalidation_1-auc:0.81724\n",
      "[27]\tvalidation_0-auc:0.85206\tvalidation_1-auc:0.81764\n",
      "[28]\tvalidation_0-auc:0.85327\tvalidation_1-auc:0.81873\n",
      "[29]\tvalidation_0-auc:0.85425\tvalidation_1-auc:0.82038\n",
      "[30]\tvalidation_0-auc:0.85624\tvalidation_1-auc:0.82231\n",
      "[31]\tvalidation_0-auc:0.85716\tvalidation_1-auc:0.82223\n",
      "[32]\tvalidation_0-auc:0.85785\tvalidation_1-auc:0.82261\n",
      "[33]\tvalidation_0-auc:0.85878\tvalidation_1-auc:0.82289\n",
      "[34]\tvalidation_0-auc:0.85931\tvalidation_1-auc:0.82389\n",
      "[35]\tvalidation_0-auc:0.86006\tvalidation_1-auc:0.82446\n",
      "[36]\tvalidation_0-auc:0.86079\tvalidation_1-auc:0.82537\n",
      "[37]\tvalidation_0-auc:0.86101\tvalidation_1-auc:0.82546\n",
      "[38]\tvalidation_0-auc:0.86156\tvalidation_1-auc:0.82593\n",
      "[39]\tvalidation_0-auc:0.86224\tvalidation_1-auc:0.82610\n",
      "[40]\tvalidation_0-auc:0.86284\tvalidation_1-auc:0.82603\n",
      "[41]\tvalidation_0-auc:0.86314\tvalidation_1-auc:0.82624\n",
      "[42]\tvalidation_0-auc:0.86388\tvalidation_1-auc:0.82694\n",
      "[43]\tvalidation_0-auc:0.86493\tvalidation_1-auc:0.82741\n",
      "[44]\tvalidation_0-auc:0.86557\tvalidation_1-auc:0.82757\n",
      "[45]\tvalidation_0-auc:0.86643\tvalidation_1-auc:0.82795\n",
      "[46]\tvalidation_0-auc:0.86734\tvalidation_1-auc:0.82860\n",
      "[47]\tvalidation_0-auc:0.86788\tvalidation_1-auc:0.82878\n",
      "[48]\tvalidation_0-auc:0.86815\tvalidation_1-auc:0.82881\n",
      "[49]\tvalidation_0-auc:0.86902\tvalidation_1-auc:0.83000\n",
      "[50]\tvalidation_0-auc:0.86956\tvalidation_1-auc:0.83040\n",
      "[51]\tvalidation_0-auc:0.86992\tvalidation_1-auc:0.83036\n",
      "[52]\tvalidation_0-auc:0.87037\tvalidation_1-auc:0.83061\n",
      "[53]\tvalidation_0-auc:0.87088\tvalidation_1-auc:0.83071\n",
      "[54]\tvalidation_0-auc:0.87158\tvalidation_1-auc:0.83092\n",
      "[55]\tvalidation_0-auc:0.87206\tvalidation_1-auc:0.83143\n",
      "[56]\tvalidation_0-auc:0.87277\tvalidation_1-auc:0.83170\n",
      "[57]\tvalidation_0-auc:0.87329\tvalidation_1-auc:0.83171\n",
      "[58]\tvalidation_0-auc:0.87369\tvalidation_1-auc:0.83168\n",
      "[59]\tvalidation_0-auc:0.87428\tvalidation_1-auc:0.83172\n",
      "[60]\tvalidation_0-auc:0.87489\tvalidation_1-auc:0.83166\n",
      "[61]\tvalidation_0-auc:0.87565\tvalidation_1-auc:0.83160\n",
      "[62]\tvalidation_0-auc:0.87618\tvalidation_1-auc:0.83164\n",
      "[63]\tvalidation_0-auc:0.87686\tvalidation_1-auc:0.83175\n",
      "[64]\tvalidation_0-auc:0.87748\tvalidation_1-auc:0.83209\n",
      "[65]\tvalidation_0-auc:0.87810\tvalidation_1-auc:0.83233\n",
      "[66]\tvalidation_0-auc:0.87867\tvalidation_1-auc:0.83246\n",
      "[67]\tvalidation_0-auc:0.87932\tvalidation_1-auc:0.83256\n",
      "[68]\tvalidation_0-auc:0.87981\tvalidation_1-auc:0.83264\n",
      "[69]\tvalidation_0-auc:0.88036\tvalidation_1-auc:0.83250\n",
      "[70]\tvalidation_0-auc:0.88086\tvalidation_1-auc:0.83226\n",
      "[71]\tvalidation_0-auc:0.88181\tvalidation_1-auc:0.83208\n",
      "[72]\tvalidation_0-auc:0.88232\tvalidation_1-auc:0.83234\n",
      "[73]\tvalidation_0-auc:0.88293\tvalidation_1-auc:0.83247\n",
      "[74]\tvalidation_0-auc:0.88341\tvalidation_1-auc:0.83244\n",
      "[75]\tvalidation_0-auc:0.88400\tvalidation_1-auc:0.83246\n",
      "[76]\tvalidation_0-auc:0.88451\tvalidation_1-auc:0.83238\n",
      "[77]\tvalidation_0-auc:0.88487\tvalidation_1-auc:0.83224\n",
      "[78]\tvalidation_0-auc:0.88518\tvalidation_1-auc:0.83234\n",
      "[79]\tvalidation_0-auc:0.88561\tvalidation_1-auc:0.83233\n",
      "[80]\tvalidation_0-auc:0.88637\tvalidation_1-auc:0.83253\n",
      "[81]\tvalidation_0-auc:0.88664\tvalidation_1-auc:0.83255\n",
      "[82]\tvalidation_0-auc:0.88703\tvalidation_1-auc:0.83245\n",
      "[83]\tvalidation_0-auc:0.88756\tvalidation_1-auc:0.83261\n",
      "[84]\tvalidation_0-auc:0.88790\tvalidation_1-auc:0.83249\n",
      "[85]\tvalidation_0-auc:0.88851\tvalidation_1-auc:0.83263\n",
      "[86]\tvalidation_0-auc:0.88894\tvalidation_1-auc:0.83251\n",
      "[87]\tvalidation_0-auc:0.88932\tvalidation_1-auc:0.83237\n",
      "[88]\tvalidation_0-auc:0.88968\tvalidation_1-auc:0.83233\n",
      "[89]\tvalidation_0-auc:0.89019\tvalidation_1-auc:0.83231\n",
      "[90]\tvalidation_0-auc:0.89063\tvalidation_1-auc:0.83222\n",
      "[91]\tvalidation_0-auc:0.89103\tvalidation_1-auc:0.83236\n",
      "[92]\tvalidation_0-auc:0.89142\tvalidation_1-auc:0.83218\n",
      "[93]\tvalidation_0-auc:0.89177\tvalidation_1-auc:0.83239\n",
      "[94]\tvalidation_0-auc:0.89215\tvalidation_1-auc:0.83219\n",
      "[95]\tvalidation_0-auc:0.89243\tvalidation_1-auc:0.83227\n",
      "[96]\tvalidation_0-auc:0.89279\tvalidation_1-auc:0.83213\n",
      "[97]\tvalidation_0-auc:0.89303\tvalidation_1-auc:0.83223\n",
      "[98]\tvalidation_0-auc:0.89331\tvalidation_1-auc:0.83209\n",
      "[99]\tvalidation_0-auc:0.89363\tvalidation_1-auc:0.83227\n",
      "[100]\tvalidation_0-auc:0.89382\tvalidation_1-auc:0.83236\n",
      "[101]\tvalidation_0-auc:0.89412\tvalidation_1-auc:0.83232\n",
      "[102]\tvalidation_0-auc:0.89441\tvalidation_1-auc:0.83227\n",
      "[103]\tvalidation_0-auc:0.89475\tvalidation_1-auc:0.83220\n",
      "[104]\tvalidation_0-auc:0.89512\tvalidation_1-auc:0.83221\n",
      "[105]\tvalidation_0-auc:0.89551\tvalidation_1-auc:0.83226\n",
      "[106]\tvalidation_0-auc:0.89588\tvalidation_1-auc:0.83224\n",
      "[107]\tvalidation_0-auc:0.89606\tvalidation_1-auc:0.83231\n",
      "[108]\tvalidation_0-auc:0.89613\tvalidation_1-auc:0.83228\n",
      "[109]\tvalidation_0-auc:0.89635\tvalidation_1-auc:0.83230\n",
      "[110]\tvalidation_0-auc:0.89668\tvalidation_1-auc:0.83242\n",
      "[111]\tvalidation_0-auc:0.89680\tvalidation_1-auc:0.83238\n",
      "[112]\tvalidation_0-auc:0.89697\tvalidation_1-auc:0.83241\n",
      "[113]\tvalidation_0-auc:0.89723\tvalidation_1-auc:0.83241\n",
      "[114]\tvalidation_0-auc:0.89731\tvalidation_1-auc:0.83247\n",
      "[115]\tvalidation_0-auc:0.89742\tvalidation_1-auc:0.83249\n",
      "[116]\tvalidation_0-auc:0.89767\tvalidation_1-auc:0.83240\n",
      "[117]\tvalidation_0-auc:0.89782\tvalidation_1-auc:0.83240\n",
      "[118]\tvalidation_0-auc:0.89794\tvalidation_1-auc:0.83257\n",
      "[119]\tvalidation_0-auc:0.89853\tvalidation_1-auc:0.83260\n",
      "[120]\tvalidation_0-auc:0.89889\tvalidation_1-auc:0.83279\n",
      "[121]\tvalidation_0-auc:0.89930\tvalidation_1-auc:0.83272\n",
      "[122]\tvalidation_0-auc:0.89959\tvalidation_1-auc:0.83273\n",
      "[123]\tvalidation_0-auc:0.90008\tvalidation_1-auc:0.83269\n",
      "[124]\tvalidation_0-auc:0.90040\tvalidation_1-auc:0.83284\n",
      "[125]\tvalidation_0-auc:0.90080\tvalidation_1-auc:0.83297\n",
      "[126]\tvalidation_0-auc:0.90089\tvalidation_1-auc:0.83301\n",
      "[127]\tvalidation_0-auc:0.90117\tvalidation_1-auc:0.83315\n",
      "[128]\tvalidation_0-auc:0.90153\tvalidation_1-auc:0.83316\n",
      "[129]\tvalidation_0-auc:0.90185\tvalidation_1-auc:0.83337\n",
      "[130]\tvalidation_0-auc:0.90215\tvalidation_1-auc:0.83340\n",
      "[131]\tvalidation_0-auc:0.90245\tvalidation_1-auc:0.83340\n",
      "[132]\tvalidation_0-auc:0.90270\tvalidation_1-auc:0.83353\n",
      "[133]\tvalidation_0-auc:0.90280\tvalidation_1-auc:0.83347\n",
      "[134]\tvalidation_0-auc:0.90283\tvalidation_1-auc:0.83353\n",
      "[135]\tvalidation_0-auc:0.90296\tvalidation_1-auc:0.83353\n",
      "[136]\tvalidation_0-auc:0.90306\tvalidation_1-auc:0.83344\n",
      "[137]\tvalidation_0-auc:0.90314\tvalidation_1-auc:0.83348\n",
      "[138]\tvalidation_0-auc:0.90317\tvalidation_1-auc:0.83343\n",
      "[139]\tvalidation_0-auc:0.90330\tvalidation_1-auc:0.83340\n",
      "[140]\tvalidation_0-auc:0.90343\tvalidation_1-auc:0.83335\n",
      "[141]\tvalidation_0-auc:0.90344\tvalidation_1-auc:0.83339\n",
      "[142]\tvalidation_0-auc:0.90369\tvalidation_1-auc:0.83351\n",
      "[143]\tvalidation_0-auc:0.90388\tvalidation_1-auc:0.83358\n",
      "[144]\tvalidation_0-auc:0.90401\tvalidation_1-auc:0.83356\n",
      "[145]\tvalidation_0-auc:0.90405\tvalidation_1-auc:0.83361\n",
      "[146]\tvalidation_0-auc:0.90423\tvalidation_1-auc:0.83354\n",
      "[147]\tvalidation_0-auc:0.90436\tvalidation_1-auc:0.83349\n",
      "[148]\tvalidation_0-auc:0.90440\tvalidation_1-auc:0.83346\n"
     ]
    },
    {
     "name": "stdout",
     "output_type": "stream",
     "text": [
      "[149]\tvalidation_0-auc:0.90457\tvalidation_1-auc:0.83346\n",
      "[150]\tvalidation_0-auc:0.90465\tvalidation_1-auc:0.83343\n",
      "[151]\tvalidation_0-auc:0.90469\tvalidation_1-auc:0.83344\n",
      "[152]\tvalidation_0-auc:0.90482\tvalidation_1-auc:0.83342\n",
      "[153]\tvalidation_0-auc:0.90501\tvalidation_1-auc:0.83339\n",
      "[154]\tvalidation_0-auc:0.90513\tvalidation_1-auc:0.83336\n",
      "[155]\tvalidation_0-auc:0.90518\tvalidation_1-auc:0.83334\n",
      "[156]\tvalidation_0-auc:0.90525\tvalidation_1-auc:0.83331\n",
      "[157]\tvalidation_0-auc:0.90531\tvalidation_1-auc:0.83339\n",
      "[158]\tvalidation_0-auc:0.90549\tvalidation_1-auc:0.83330\n",
      "[159]\tvalidation_0-auc:0.90559\tvalidation_1-auc:0.83331\n",
      "[160]\tvalidation_0-auc:0.90574\tvalidation_1-auc:0.83342\n",
      "[161]\tvalidation_0-auc:0.90592\tvalidation_1-auc:0.83339\n",
      "[162]\tvalidation_0-auc:0.90598\tvalidation_1-auc:0.83340\n",
      "[163]\tvalidation_0-auc:0.90601\tvalidation_1-auc:0.83340\n",
      "[164]\tvalidation_0-auc:0.90629\tvalidation_1-auc:0.83337\n",
      "[165]\tvalidation_0-auc:0.90641\tvalidation_1-auc:0.83333\n",
      "[166]\tvalidation_0-auc:0.90652\tvalidation_1-auc:0.83329\n",
      "[167]\tvalidation_0-auc:0.90661\tvalidation_1-auc:0.83329\n",
      "[168]\tvalidation_0-auc:0.90666\tvalidation_1-auc:0.83336\n",
      "[169]\tvalidation_0-auc:0.90677\tvalidation_1-auc:0.83339\n",
      "[170]\tvalidation_0-auc:0.90682\tvalidation_1-auc:0.83341\n",
      "[171]\tvalidation_0-auc:0.90685\tvalidation_1-auc:0.83334\n",
      "[172]\tvalidation_0-auc:0.90706\tvalidation_1-auc:0.83321\n",
      "[173]\tvalidation_0-auc:0.90707\tvalidation_1-auc:0.83321\n",
      "[174]\tvalidation_0-auc:0.90711\tvalidation_1-auc:0.83319\n",
      "[175]\tvalidation_0-auc:0.90726\tvalidation_1-auc:0.83323\n",
      "[176]\tvalidation_0-auc:0.90735\tvalidation_1-auc:0.83325\n",
      "[177]\tvalidation_0-auc:0.90747\tvalidation_1-auc:0.83323\n",
      "[178]\tvalidation_0-auc:0.90758\tvalidation_1-auc:0.83318\n",
      "[179]\tvalidation_0-auc:0.90767\tvalidation_1-auc:0.83316\n",
      "[180]\tvalidation_0-auc:0.90773\tvalidation_1-auc:0.83316\n",
      "[181]\tvalidation_0-auc:0.90778\tvalidation_1-auc:0.83313\n",
      "[182]\tvalidation_0-auc:0.90791\tvalidation_1-auc:0.83312\n",
      "[183]\tvalidation_0-auc:0.90810\tvalidation_1-auc:0.83303\n",
      "[184]\tvalidation_0-auc:0.90822\tvalidation_1-auc:0.83305\n",
      "[185]\tvalidation_0-auc:0.90827\tvalidation_1-auc:0.83306\n",
      "[186]\tvalidation_0-auc:0.90829\tvalidation_1-auc:0.83307\n",
      "[187]\tvalidation_0-auc:0.90842\tvalidation_1-auc:0.83308\n",
      "[188]\tvalidation_0-auc:0.90848\tvalidation_1-auc:0.83309\n",
      "[189]\tvalidation_0-auc:0.90889\tvalidation_1-auc:0.83304\n",
      "[190]\tvalidation_0-auc:0.90891\tvalidation_1-auc:0.83306\n",
      "[191]\tvalidation_0-auc:0.90903\tvalidation_1-auc:0.83301\n",
      "[192]\tvalidation_0-auc:0.90916\tvalidation_1-auc:0.83302\n",
      "[193]\tvalidation_0-auc:0.90920\tvalidation_1-auc:0.83303\n",
      "[194]\tvalidation_0-auc:0.90932\tvalidation_1-auc:0.83300\n",
      "[195]\tvalidation_0-auc:0.90951\tvalidation_1-auc:0.83298\n",
      "[196]\tvalidation_0-auc:0.90964\tvalidation_1-auc:0.83290\n",
      "[197]\tvalidation_0-auc:0.90975\tvalidation_1-auc:0.83293\n",
      "[198]\tvalidation_0-auc:0.90978\tvalidation_1-auc:0.83293\n",
      "[199]\tvalidation_0-auc:0.90992\tvalidation_1-auc:0.83293\n",
      "[200]\tvalidation_0-auc:0.90998\tvalidation_1-auc:0.83293\n",
      "[201]\tvalidation_0-auc:0.91004\tvalidation_1-auc:0.83291\n",
      "[202]\tvalidation_0-auc:0.91016\tvalidation_1-auc:0.83290\n",
      "[203]\tvalidation_0-auc:0.91022\tvalidation_1-auc:0.83287\n",
      "[204]\tvalidation_0-auc:0.91031\tvalidation_1-auc:0.83289\n",
      "[205]\tvalidation_0-auc:0.91051\tvalidation_1-auc:0.83282\n",
      "[206]\tvalidation_0-auc:0.91063\tvalidation_1-auc:0.83280\n",
      "[207]\tvalidation_0-auc:0.91066\tvalidation_1-auc:0.83287\n",
      "[208]\tvalidation_0-auc:0.91070\tvalidation_1-auc:0.83291\n",
      "[209]\tvalidation_0-auc:0.91074\tvalidation_1-auc:0.83292\n",
      "[210]\tvalidation_0-auc:0.91075\tvalidation_1-auc:0.83290\n",
      "[211]\tvalidation_0-auc:0.91084\tvalidation_1-auc:0.83286\n",
      "[212]\tvalidation_0-auc:0.91090\tvalidation_1-auc:0.83286\n",
      "[213]\tvalidation_0-auc:0.91106\tvalidation_1-auc:0.83293\n",
      "[214]\tvalidation_0-auc:0.91139\tvalidation_1-auc:0.83279\n",
      "[215]\tvalidation_0-auc:0.91143\tvalidation_1-auc:0.83276\n",
      "[216]\tvalidation_0-auc:0.91150\tvalidation_1-auc:0.83274\n",
      "[217]\tvalidation_0-auc:0.91156\tvalidation_1-auc:0.83274\n",
      "[218]\tvalidation_0-auc:0.91165\tvalidation_1-auc:0.83268\n",
      "[219]\tvalidation_0-auc:0.91169\tvalidation_1-auc:0.83267\n",
      "[220]\tvalidation_0-auc:0.91171\tvalidation_1-auc:0.83267\n",
      "[221]\tvalidation_0-auc:0.91182\tvalidation_1-auc:0.83269\n",
      "[222]\tvalidation_0-auc:0.91198\tvalidation_1-auc:0.83259\n",
      "[223]\tvalidation_0-auc:0.91201\tvalidation_1-auc:0.83260\n",
      "[224]\tvalidation_0-auc:0.91206\tvalidation_1-auc:0.83258\n",
      "[225]\tvalidation_0-auc:0.91213\tvalidation_1-auc:0.83262\n",
      "[226]\tvalidation_0-auc:0.91217\tvalidation_1-auc:0.83262\n",
      "[227]\tvalidation_0-auc:0.91221\tvalidation_1-auc:0.83263\n",
      "[228]\tvalidation_0-auc:0.91237\tvalidation_1-auc:0.83247\n",
      "[229]\tvalidation_0-auc:0.91262\tvalidation_1-auc:0.83239\n",
      "[230]\tvalidation_0-auc:0.91288\tvalidation_1-auc:0.83225\n",
      "[231]\tvalidation_0-auc:0.91293\tvalidation_1-auc:0.83222\n",
      "[232]\tvalidation_0-auc:0.91301\tvalidation_1-auc:0.83224\n",
      "[233]\tvalidation_0-auc:0.91306\tvalidation_1-auc:0.83227\n",
      "[234]\tvalidation_0-auc:0.91324\tvalidation_1-auc:0.83221\n",
      "[235]\tvalidation_0-auc:0.91330\tvalidation_1-auc:0.83221\n",
      "[236]\tvalidation_0-auc:0.91356\tvalidation_1-auc:0.83213\n",
      "[237]\tvalidation_0-auc:0.91359\tvalidation_1-auc:0.83208\n",
      "[238]\tvalidation_0-auc:0.91369\tvalidation_1-auc:0.83204\n",
      "[239]\tvalidation_0-auc:0.91373\tvalidation_1-auc:0.83201\n",
      "[240]\tvalidation_0-auc:0.91378\tvalidation_1-auc:0.83198\n",
      "[241]\tvalidation_0-auc:0.91387\tvalidation_1-auc:0.83197\n",
      "[242]\tvalidation_0-auc:0.91393\tvalidation_1-auc:0.83197\n",
      "[243]\tvalidation_0-auc:0.91395\tvalidation_1-auc:0.83197\n",
      "[244]\tvalidation_0-auc:0.91403\tvalidation_1-auc:0.83204\n",
      "ROC AUC: 0.8429\n"
     ]
    }
   ],
   "source": [
    "from xgboost import XGBClassifier\n",
    "from sklearn.metrics import roc_auc_score\n",
    "\n",
    "# n_estimators는 500으로, random state는 예제 수행 시마다 동일 예측 결과를 위해 설정\n",
    "xgb_clf = XGBClassifier(n_estimators=500, learning_rate=0.05, random_state=156)\n",
    "\n",
    "# 성능 평가 지표를 auc로, 조기 중단 파라미터는 100으로 설정하고 학습 수행\n",
    "xgb_clf.fit(X_tr, y_tr, early_stopping_rounds=100, eval_metric='auc', eval_set=[(X_tr,y_tr),(X_val,y_val)])\n",
    "\n",
    "xgb_roc_score = roc_auc_score(y_test, xgb_clf.predict_proba(X_test)[:,1])\n",
    "print('ROC AUC: {0:.4f}'.format(xgb_roc_score))"
   ]
  },
  {
   "cell_type": "code",
   "execution_count": 10,
   "id": "e359a2cb",
   "metadata": {},
   "outputs": [],
   "source": [
    "from hyperopt import hp\n",
    "\n",
    "# 하이퍼 파라미터 검색 공간 설정\n",
    "# max_depth는 5에서 15까지 1간격으로, min_child_weight는 1에서 6까지 1 간격으로\n",
    "# colsample_bytree는 0.5에서 0.95사이, learning_rate는 0.01에서 0.2 사이 정규 분포된 값으로 검색\n",
    "xgb_search_space = {'max_depth':hp.quniform('max_depth',5,15,1),\n",
    "                   'min_child_weight':hp.quniform('min_child_weight',1,6,1),\n",
    "                   'colsample_bytree':hp.uniform('colsample_bytree',0.5,0.95),\n",
    "                   'learning_rate':hp.uniform('learning_rate',0.01,0.2)}"
   ]
  },
  {
   "cell_type": "code",
   "execution_count": 11,
   "id": "c85e1ee0",
   "metadata": {},
   "outputs": [],
   "source": [
    "# 목적 함수 생성\n",
    "from sklearn.model_selection import KFold\n",
    "from sklearn.metrics import roc_auc_score\n",
    "\n",
    "# fmin()에서 호출 시 search_space 값으로 XGBClassifier 교차 검증 학습 후 -1*roc_auc 평균 값을 반환.\n",
    "def objective_func(search_space):\n",
    "    xgb_clf = XGBClassifier(n_estimators=100, max_depth=int(search_space['max_depth']),\n",
    "                           min_child_weight=int(search_space['min_child_weight']),\n",
    "                           colsample_bytree=search_space['colsample_bytree'],\n",
    "                           learning_rate=search_space['learning_rate'])\n",
    "    \n",
    "    # 3개 k-fold 방식으로 평가된 roc_auc 지표를 담는 list\n",
    "    roc_auc_list = []\n",
    "    \n",
    "    # 3개 k-fold 방식 적용\n",
    "    kf = KFold(n_splits=3)\n",
    "    # X_train을 다시 학습과 검증용 데이터로 분리\n",
    "    for tr_index, val_index in kf.split(X_train):\n",
    "        # kf.split(X_train)으로 추출된 학습과 검증 index 값으로 학습과 검증 데이터 셋 분리\n",
    "        X_tr, y_tr = X_train.iloc[tr_index], y_train.iloc[tr_index]\n",
    "        X_val, y_val = X_train.iloc[val_index], y_train.iloc[val_index]\n",
    "        \n",
    "        # early stopping은 30회로 설정하고 추출된 학습과 검증 데이터로 XGBClassifier 학습 수행\n",
    "        xgb_clf.fit(X_tr,y_tr,early_stopping_rounds=30,eval_metric='auc',\n",
    "                   eval_set=[(X_tr,y_tr),(X_val,y_val)], verbose=False)\n",
    "        \n",
    "        # 1로 예측한 확률값 추출 후 roc auc 계산하고 평균 roc auc 계산을 위해 list에 결괏값 담음.\n",
    "        score = roc_auc_score(y_val, xgb_clf.predict_proba(X_val)[:,1])\n",
    "        roc_auc_list.append(score)\n",
    "        \n",
    "    # 3개 k-fold로 계산된 roc_auc 값의 평균값을 반환하되,\n",
    "    # HyperOpt는 목적함수의 최솟값을 위한 입력값을 찾으므로 -1을 곱한 뒤 반환\n",
    "    return -1*np.mean(roc_auc_list)"
   ]
  },
  {
   "cell_type": "code",
   "execution_count": 13,
   "id": "07778a4c",
   "metadata": {},
   "outputs": [
    {
     "name": "stdout",
     "output_type": "stream",
     "text": [
      "100%|█████████████████████████████████████████████████| 5/5 [03:07<00:00, 37.51s/trial, best loss: -0.8358993926439547]\n",
      "best: {'colsample_bytree': 0.753532317468581, 'learning_rate': 0.08326583869166816, 'max_depth': 6.0, 'min_child_weight': 2.0}\n"
     ]
    }
   ],
   "source": [
    "from hyperopt import fmin, tpe, Trials\n",
    "\n",
    "trials = Trials()\n",
    "\n",
    "# fmin() 함수를 호출. max_evals 지정된 횟수만큼 반복 후 목적함수의 최솟값을 가지는 최적 입력값 추출.\n",
    "best = fmin(fn=objective_func,\n",
    "           space=xgb_search_space,\n",
    "           algo=tpe.suggest,\n",
    "           max_evals=5, # 최대 반복 횟수 지정 : 50회를 속도 떄문에 5로 수정함\n",
    "           trials=trials, rstate=np.random.default_rng(seed=30))\n",
    "\n",
    "print('best:',best)"
   ]
  },
  {
   "cell_type": "code",
   "execution_count": 15,
   "id": "eff37b48",
   "metadata": {},
   "outputs": [
    {
     "name": "stdout",
     "output_type": "stream",
     "text": [
      "ROC AUC: 0.8446\n"
     ]
    }
   ],
   "source": [
    "# n_estimators를 500 증가 후 최적으로 찾은 하이퍼 파라미터를 기반으로 학습과 예측 수행\n",
    "xgb_clf = XGBClassifier(n_estimators=500, learning_rate=round(best['learning_rate'],5),\n",
    "                       max_depth=int(best['max_depth']),\n",
    "                       min_child_weight=int(best['min_child_weight']),\n",
    "                       colsample_bytree=round(best['colsample_bytree'],5))\n",
    "\n",
    "# evaluation metirc을 auc로, early stopping은 100으로 설정하고 학습 수행\n",
    "xgb_clf.fit(X_tr,y_tr,early_stopping_rounds=100,eval_metric='auc',eval_set=[(X_tr,y_tr),(X_val,y_val)],verbose=0)\n",
    "\n",
    "xgb_roc_score = roc_auc_score(y_test,xgb_clf.predict_proba(X_test)[:,1])\n",
    "print('ROC AUC: {0:.4f}'.format(xgb_roc_score))"
   ]
  },
  {
   "cell_type": "code",
   "execution_count": 16,
   "id": "981d08f0",
   "metadata": {},
   "outputs": [
    {
     "data": {
      "image/png": "[encoded data removed]",
      "text/plain": [
       "<Figure size 720x576 with 1 Axes>"
      ]
     },
     "metadata": {
      "needs_background": "light"
     },
     "output_type": "display_data"
    }
   ],
   "source": [
    "# 피처 중요도 시각화\n",
    "from xgboost import plot_importance\n",
    "import matplotlib.pyplot as plt\n",
    "%matplotlib inline\n",
    "\n",
    "fig, ax = plt.subplots(1,1,figsize=(10,8))\n",
    "plot_importance(xgb_clf, ax=ax, max_num_features=20, height=0.4);"
   ]
  },
  {
   "cell_type": "markdown",
   "id": "6d4b5092",
   "metadata": {},
   "source": [
    "__LightGBM 모델 학습과 하이퍼 파라미터 튜닝__"
   ]
  },
  {
   "cell_type": "code",
   "execution_count": 17,
   "id": "c2621c84",
   "metadata": {},
   "outputs": [
    {
     "name": "stdout",
     "output_type": "stream",
     "text": [
      "ROC AUC: 0.8384\n"
     ]
    }
   ],
   "source": [
    "from lightgbm import LGBMClassifier\n",
    "\n",
    "lgbm_clf = LGBMClassifier(n_estimators=500)\n",
    "\n",
    "eval_set = [(X_tr,y_tr),(X_val,y_val)]\n",
    "lgbm_clf.fit(X_tr,y_tr,early_stopping_rounds=100,eval_metric='auc',eval_set=eval_set,verbose=0)\n",
    "\n",
    "lgbm_roc_score = roc_auc_score(y_test, lgbm_clf.predict_proba(X_test)[:,1])\n",
    "print('ROC AUC: {0:.4f}'.format(lgbm_roc_score))"
   ]
  },
  {
   "cell_type": "code",
   "execution_count": 18,
   "id": "010b95f6",
   "metadata": {},
   "outputs": [],
   "source": [
    "lgbm_search_space = {'num_leaves':hp.quniform('num_leaves',32,64,1),\n",
    "                    'max_depth':hp.quniform('max_depth',100,160,1),\n",
    "                    'min_child_samples':hp.quniform('min_child_samples',60,100,1),\n",
    "                    'subsample':hp.uniform('subsample',0.7,1),\n",
    "                    'learning_rate':hp.uniform('learning_rate',0.01,0.2)}"
   ]
  },
  {
   "cell_type": "code",
   "execution_count": 19,
   "id": "ab70e0fc",
   "metadata": {},
   "outputs": [],
   "source": [
    "# 목적 함수 생성\n",
    "from sklearn.model_selection import KFold\n",
    "from sklearn.metrics import roc_auc_score\n",
    "\n",
    "# fmin()에서 호출 시 search_space 값으로 LGBMClassifier 교차 검증 학습 후 -1*roc_auc 평균 값을 반환.\n",
    "def objective_func(search_space):\n",
    "    lgbm_clf = LGBMClassifier(n_estimators=100, \n",
    "                             num_leaves=int(search_space['num_leaves']),\n",
    "                             max_depth=int(search_space['max_depth']),\n",
    "                           min_child_samples=int(search_space['min_child_samples']),\n",
    "                           subsample=search_space['subsample'],\n",
    "                           learning_rate=search_space['learning_rate'])\n",
    "    \n",
    "    # 3개 k-fold 방식으로 평가된 roc_auc 지표를 담는 list\n",
    "    roc_auc_list = []\n",
    "    \n",
    "    # 3개 k-fold 방식 적용\n",
    "    kf = KFold(n_splits=3)\n",
    "    # X_train을 다시 학습과 검증용 데이터로 분리\n",
    "    for tr_index, val_index in kf.split(X_train):\n",
    "        # kf.split(X_train)으로 추출된 학습과 검증 index 값으로 학습과 검증 데이터 셋 분리\n",
    "        X_tr, y_tr = X_train.iloc[tr_index], y_train.iloc[tr_index]\n",
    "        X_val, y_val = X_train.iloc[val_index], y_train.iloc[val_index]\n",
    "        \n",
    "        # early stopping은 30회로 설정하고 추출된 학습과 검증 데이터로 LGBMClassifier 학습 수행\n",
    "        lgbm_clf.fit(X_tr,y_tr,early_stopping_rounds=30,eval_metric='auc',\n",
    "                   eval_set=[(X_tr,y_tr),(X_val,y_val)], verbose=False)\n",
    "        \n",
    "        # 1로 예측한 확률값 추출 후 roc auc 계산하고 평균 roc auc 계산을 위해 list에 결괏값 담음.\n",
    "        score = roc_auc_score(y_val, lgbm_clf.predict_proba(X_val)[:,1])\n",
    "        roc_auc_list.append(score)\n",
    "        \n",
    "    # 3개 k-fold로 계산된 roc_auc 값의 평균값을 반환하되,\n",
    "    # HyperOpt는 목적함수의 최솟값을 위한 입력값을 찾으므로 -1을 곱한 뒤 반환\n",
    "    return -1*np.mean(roc_auc_list)"
   ]
  },
  {
   "cell_type": "code",
   "execution_count": 20,
   "id": "04d3ffaf",
   "metadata": {},
   "outputs": [
    {
     "name": "stdout",
     "output_type": "stream",
     "text": [
      "100%|█████████████████████████████████████████████████| 5/5 [00:18<00:00,  3.66s/trial, best loss: -0.8348176231653449]\n",
      "best: {'learning_rate': 0.02347777899863792, 'max_depth': 134.0, 'min_child_samples': 75.0, 'num_leaves': 34.0, 'subsample': 0.7754775757159653}\n"
     ]
    }
   ],
   "source": [
    "from hyperopt import fmin, tpe, Trials\n",
    "\n",
    "trials = Trials()\n",
    "\n",
    "# fmin() 함수를 호출. max_evals 지정된 횟수만큼 반복 후 목적함수의 최솟값을 가지는 최적 입력값 추출.\n",
    "best = fmin(fn=objective_func,\n",
    "           space=lgbm_search_space,\n",
    "           algo=tpe.suggest,\n",
    "           max_evals=5, # 최대 반복 횟수 지정 : 50회를 속도 떄문에 5로 수정함\n",
    "           trials=trials, rstate=np.random.default_rng(seed=30))\n",
    "\n",
    "print('best:',best)"
   ]
  },
  {
   "cell_type": "code",
   "execution_count": 24,
   "id": "d5aca805",
   "metadata": {},
   "outputs": [
    {
     "name": "stdout",
     "output_type": "stream",
     "text": [
      "ROC AUC: 0.8425\n"
     ]
    }
   ],
   "source": [
    "# n_estimators를 500 증가 후 최적으로 찾은 하이퍼 파라미터를 기반으로 학습과 예측 수행\n",
    "lgbm_clf = LGBMClassifier(n_estimators=500, num_leaves=int(best['num_leaves']),\n",
    "                         learning_rate=round(best['learning_rate'],5),\n",
    "                       max_depth=int(best['max_depth']),\n",
    "                       min_child_samples=int(best['min_child_samples']),\n",
    "                       subsample=round(best['subsample'],5))\n",
    "\n",
    "# evaluation metirc을 auc로, early stopping은 100으로 설정하고 학습 수행\n",
    "lgbm_clf.fit(X_tr,y_tr,early_stopping_rounds=100,eval_metric='auc',eval_set=[(X_tr,y_tr),(X_val,y_val)],verbose=0)\n",
    "\n",
    "lgbm_roc_score = roc_auc_score(y_test,lgbm_clf.predict_proba(X_test)[:,1])\n",
    "print('ROC AUC: {0:.4f}'.format(lgbm_roc_score))"
   ]
  },
  {
   "cell_type": "markdown",
   "id": "17bb4c9a",
   "metadata": {},
   "source": [
    "## 분류실습-캐글 신용카드 사기 검출\n",
    "레이블이 불균형한 분포를 가진 데이터 셋을 학습시킬 때 예측 성능의 문제가 발생할 수 있음. 이 때 사용하는 방법이 오버 샘플링과 언더 샘플링\n",
    "* 언더 샘플링(Undersampling) : 많은 데이터 셋을 적은 데이터 셋 수준으로 감소시키는 방식. 너무 많은 데이터를 감소시켜 제대로 된 학습을 수행할 수 없는 문제가 발생할 수도 있음.\n",
    "* 오버 샘플링(Oversamplit) : 적은 데이터를 단순히 증식하는 게 아닌, 원본 데이터의 피처 값들을 아주 약간만 변경하여 증식. 대표적으로 SMOTE(Synthetic Minority Over-sampling Technique:적은 데이터 셋에 있는 개별 데이터들의 KNN을 찾아서 이 데이터와 K개 이웃들의 차이를 일정 값으로 만들어서 기존 데이터와 약간 차이가 나는 새로운 데이터들을 생성) 방법이 있음.\n",
    "\n",
    "__데이터 일차 가공 및 모델 학습/예측/평가__"
   ]
  },
  {
   "cell_type": "code",
   "execution_count": 5,
   "id": "18425412",
   "metadata": {},
   "outputs": [
    {
     "data": {
      "text/html": [
       "<div>\n",
       "<style scoped>\n",
       "    .dataframe tbody tr th:only-of-type {\n",
       "        vertical-align: middle;\n",
       "    }\n",
       "\n",
       "    .dataframe tbody tr th {\n",
       "        vertical-align: top;\n",
       "    }\n",
       "\n",
       "    .dataframe thead th {\n",
       "        text-align: right;\n",
       "    }\n",
       "</style>\n",
       "<table border=\"1\" class=\"dataframe\">\n",
       "  <thead>\n",
       "    <tr style=\"text-align: right;\">\n",
       "      <th></th>\n",
       "      <th>Time</th>\n",
       "      <th>V1</th>\n",
       "      <th>V2</th>\n",
       "      <th>V3</th>\n",
       "      <th>V4</th>\n",
       "      <th>V5</th>\n",
       "      <th>V6</th>\n",
       "      <th>V7</th>\n",
       "      <th>V8</th>\n",
       "      <th>V9</th>\n",
       "      <th>...</th>\n",
       "      <th>V21</th>\n",
       "      <th>V22</th>\n",
       "      <th>V23</th>\n",
       "      <th>V24</th>\n",
       "      <th>V25</th>\n",
       "      <th>V26</th>\n",
       "      <th>V27</th>\n",
       "      <th>V28</th>\n",
       "      <th>Amount</th>\n",
       "      <th>Class</th>\n",
       "    </tr>\n",
       "  </thead>\n",
       "  <tbody>\n",
       "    <tr>\n",
       "      <th>0</th>\n",
       "      <td>0.0</td>\n",
       "      <td>-1.359807</td>\n",
       "      <td>-0.072781</td>\n",
       "      <td>2.536347</td>\n",
       "      <td>1.378155</td>\n",
       "      <td>-0.338321</td>\n",
       "      <td>0.462388</td>\n",
       "      <td>0.239599</td>\n",
       "      <td>0.098698</td>\n",
       "      <td>0.363787</td>\n",
       "      <td>...</td>\n",
       "      <td>-0.018307</td>\n",
       "      <td>0.277838</td>\n",
       "      <td>-0.110474</td>\n",
       "      <td>0.066928</td>\n",
       "      <td>0.128539</td>\n",
       "      <td>-0.189115</td>\n",
       "      <td>0.133558</td>\n",
       "      <td>-0.021053</td>\n",
       "      <td>149.62</td>\n",
       "      <td>0</td>\n",
       "    </tr>\n",
       "    <tr>\n",
       "      <th>1</th>\n",
       "      <td>0.0</td>\n",
       "      <td>1.191857</td>\n",
       "      <td>0.266151</td>\n",
       "      <td>0.166480</td>\n",
       "      <td>0.448154</td>\n",
       "      <td>0.060018</td>\n",
       "      <td>-0.082361</td>\n",
       "      <td>-0.078803</td>\n",
       "      <td>0.085102</td>\n",
       "      <td>-0.255425</td>\n",
       "      <td>...</td>\n",
       "      <td>-0.225775</td>\n",
       "      <td>-0.638672</td>\n",
       "      <td>0.101288</td>\n",
       "      <td>-0.339846</td>\n",
       "      <td>0.167170</td>\n",
       "      <td>0.125895</td>\n",
       "      <td>-0.008983</td>\n",
       "      <td>0.014724</td>\n",
       "      <td>2.69</td>\n",
       "      <td>0</td>\n",
       "    </tr>\n",
       "    <tr>\n",
       "      <th>2</th>\n",
       "      <td>1.0</td>\n",
       "      <td>-1.358354</td>\n",
       "      <td>-1.340163</td>\n",
       "      <td>1.773209</td>\n",
       "      <td>0.379780</td>\n",
       "      <td>-0.503198</td>\n",
       "      <td>1.800499</td>\n",
       "      <td>0.791461</td>\n",
       "      <td>0.247676</td>\n",
       "      <td>-1.514654</td>\n",
       "      <td>...</td>\n",
       "      <td>0.247998</td>\n",
       "      <td>0.771679</td>\n",
       "      <td>0.909412</td>\n",
       "      <td>-0.689281</td>\n",
       "      <td>-0.327642</td>\n",
       "      <td>-0.139097</td>\n",
       "      <td>-0.055353</td>\n",
       "      <td>-0.059752</td>\n",
       "      <td>378.66</td>\n",
       "      <td>0</td>\n",
       "    </tr>\n",
       "  </tbody>\n",
       "</table>\n",
       "<p>3 rows × 31 columns</p>\n",
       "</div>"
      ],
      "text/plain": [
       "   Time        V1        V2        V3        V4        V5        V6        V7  \\\n",
       "0   0.0 -1.359807 -0.072781  2.536347  1.378155 -0.338321  0.462388  0.239599   \n",
       "1   0.0  1.191857  0.266151  0.166480  0.448154  0.060018 -0.082361 -0.078803   \n",
       "2   1.0 -1.358354 -1.340163  1.773209  0.379780 -0.503198  1.800499  0.791461   \n",
       "\n",
       "         V8        V9  ...       V21       V22       V23       V24       V25  \\\n",
       "0  0.098698  0.363787  ... -0.018307  0.277838 -0.110474  0.066928  0.128539   \n",
       "1  0.085102 -0.255425  ... -0.225775 -0.638672  0.101288 -0.339846  0.167170   \n",
       "2  0.247676 -1.514654  ...  0.247998  0.771679  0.909412 -0.689281 -0.327642   \n",
       "\n",
       "        V26       V27       V28  Amount  Class  \n",
       "0 -0.189115  0.133558 -0.021053  149.62      0  \n",
       "1  0.125895 -0.008983  0.014724    2.69      0  \n",
       "2 -0.139097 -0.055353 -0.059752  378.66      0  \n",
       "\n",
       "[3 rows x 31 columns]"
      ]
     },
     "execution_count": 5,
     "metadata": {},
     "output_type": "execute_result"
    }
   ],
   "source": [
    "import pandas as pd\n",
    "import numpy as np\n",
    "import matplotlib.pyplot as plt\n",
    "import warnings\n",
    "warnings.filterwarnings('ignore')\n",
    "%matplotlib inline\n",
    "\n",
    "card_df = pd.read_csv('c:/data/creditcard.csv')\n",
    "card_df.head(3)"
   ]
  },
  {
   "cell_type": "code",
   "execution_count": 39,
   "id": "3af311a0",
   "metadata": {},
   "outputs": [
    {
     "name": "stdout",
     "output_type": "stream",
     "text": [
      "정상 데이터 비율: 0.9982725143693799\n",
      "사기 데이터 비율: 0.001727485630620034\n"
     ]
    }
   ],
   "source": [
    "print('정상 데이터 비율:',card_df.Class.value_counts()[0]/card_df.Class.value_counts().sum())\n",
    "print('사기 데이터 비율:',card_df.Class.value_counts()[1]/card_df.Class.value_counts().sum())"
   ]
  },
  {
   "cell_type": "code",
   "execution_count": 10,
   "id": "8098e90c",
   "metadata": {},
   "outputs": [],
   "source": [
    "from sklearn.model_selection import train_test_split\n",
    "\n",
    "# 인자로 입력받은 DataFrame을 복사한 뒤 Time 컬럼만 삭제하고 복사된 DataFrame 반환\n",
    "def get_preprocessed_df(df=None):\n",
    "    df_copy = df.copy()\n",
    "    df_copy.drop('Time',axis=1,inplace=True)\n",
    "    return df_copy\n",
    "\n",
    "# 사전 데이터 가공 후 학습과 테스트 데이터 셋 반환 함수\n",
    "def get_train_test_dataset(df=None):\n",
    "    # 인자로 입력된 DataFrame의 사전 데이터 가공이 완료된 복사 DataFrame 반환\n",
    "    df_copy = get_preprocessed_df(df)\n",
    "    # DataFrame의 맨 마지막 컬럼이 레이블, 나머지는 피처들\n",
    "    X_features = df_copy.iloc[:,:-1]\n",
    "    y_target = df_copy.iloc[:,-1]\n",
    "    # train_test_split() 으로 학습과 테스트 데이터 분할. stratify=y_target으로 레이블 값 분포도 서로 동일하게 만듦\n",
    "    X_train, X_test, y_train, y_test = train_test_split(X_features, y_target, test_size=0.3, random_state=0,\n",
    "                                                       stratify=y_target)\n",
    "    # 학습과 테스트 데이터 셋 반환\n",
    "    return X_train, X_test, y_train, y_test\n",
    "\n",
    "X_train, X_test, y_train, y_test = get_train_test_dataset(card_df)"
   ]
  },
  {
   "cell_type": "code",
   "execution_count": 11,
   "id": "6381397c",
   "metadata": {},
   "outputs": [
    {
     "name": "stdout",
     "output_type": "stream",
     "text": [
      "학습 데이터 레이블 값 비율\n",
      "0    99.827451\n",
      "1     0.172549\n",
      "Name: Class, dtype: float64\n",
      "\n",
      "테스트 데이터 레이블 값 비율\n",
      "0    99.826785\n",
      "1     0.173215\n",
      "Name: Class, dtype: float64\n"
     ]
    }
   ],
   "source": [
    "print('학습 데이터 레이블 값 비율')\n",
    "print(y_train.value_counts()/y_train.shape[0]*100)\n",
    "print('\\n테스트 데이터 레이블 값 비율')\n",
    "print(y_test.value_counts()/y_test.shape[0]*100)"
   ]
  },
  {
   "cell_type": "code",
   "execution_count": 12,
   "id": "5bc38e33",
   "metadata": {},
   "outputs": [
    {
     "name": "stdout",
     "output_type": "stream",
     "text": [
      "오차 행렬\n",
      "[[85281    14]\n",
      " [   57    91]]\n",
      "정확도:0.9992, 정밀도:0.8667, 재현율:0.6149, F1:0.7194, AUC:0.9703\n"
     ]
    }
   ],
   "source": [
    "# 로지스틱 회귀를 이용한 사기 여부 예측 \n",
    "from sklearn.linear_model import LogisticRegression\n",
    "def get_clf_eval(y_test,pred=None, pred_proba=None):\n",
    "    from sklearn.metrics import roc_auc_score, f1_score, confusion_matrix, accuracy_score, precision_score, recall_score\n",
    "\n",
    "    confusion = confusion_matrix(y_test,pred)\n",
    "    accuracy = accuracy_score(y_test,pred)\n",
    "    precision = precision_score(y_test,pred)\n",
    "    recall = recall_score(y_test,pred)\n",
    "    f1 = f1_score(y_test,pred)\n",
    "    roc_auc = roc_auc_score(y_test, pred_proba)\n",
    "    print('오차 행렬')\n",
    "    print(confusion)\n",
    "    print('정확도:{0:.4f}, 정밀도:{1:.4f}, 재현율:{2:.4f}, F1:{3:.4f}, AUC:{4:.4f}'.format(accuracy,precision,recall,f1, roc_auc))\n",
    "    \n",
    "lr_clf = LogisticRegression(max_iter=1000)\n",
    "lr_clf.fit(X_train, y_train)\n",
    "lr_pred = lr_clf.predict(X_test)\n",
    "lr_pred_proba = lr_clf.predict_proba(X_test)[:,1]\n",
    "\n",
    "get_clf_eval(y_test,lr_pred,lr_pred_proba)"
   ]
  },
  {
   "cell_type": "code",
   "execution_count": 13,
   "id": "f79299a1",
   "metadata": {},
   "outputs": [],
   "source": [
    "# 인자로 사이킷런의 Estimator객체와 학습/테스트 데이터 셋을 입력받아서 학습/예측/평가 수행\n",
    "def get_model_train_eval(model, ftr_train=None, ftr_test=None, tgt_train=None, tgt_test=None):\n",
    "    model.fit(ftr_train, tgt_train)\n",
    "    pred = model.predict(ftr_test)\n",
    "    pred_proba = model.predict_proba(ftr_test)[:,1]\n",
    "    get_clf_eval(tgt_test,pred,pred_proba)"
   ]
  },
  {
   "cell_type": "code",
   "execution_count": 14,
   "id": "4f86457c",
   "metadata": {},
   "outputs": [
    {
     "name": "stdout",
     "output_type": "stream",
     "text": [
      "오차 행렬\n",
      "[[85290     5]\n",
      " [   36   112]]\n",
      "정확도:0.9995, 정밀도:0.9573, 재현율:0.7568, F1:0.8453, AUC:0.9790\n"
     ]
    }
   ],
   "source": [
    "# LightGBM으로 모델 학습한 뒤 별도의 테스트 데이터 셋으로 예측 평가 수행\n",
    "# 불균형한 분포를 이루는 경우 boost_from_average=False로 파라미터 설정해야 성능 향상 가능\n",
    "from lightgbm import LGBMClassifier\n",
    "\n",
    "lgbm_clf = LGBMClassifier(n_estimators=1000, num_leaves=64, n_jobs=-1, boost_from_average=False)\n",
    "get_model_train_eval(lgbm_clf, X_train,X_test,y_train,y_test)"
   ]
  },
  {
   "cell_type": "markdown",
   "id": "051d19e1",
   "metadata": {},
   "source": [
    "__데이터 분포도 변환 후 모델 학습/예측/평가__    \n",
    "중요 피처 값의 분포도를 살펴봅니다. 로지스틱 회귀는 선형 모델로 중요 피처들의 값이 정규 분포 형태를 유지하는 것을 선호함. Amount 피처는 신용카드 사용 금액으로 정상/사기 트랜잭션 결정에 매우 중요한 속성일 가능성이 높으므로 Amount 피처의 분포도를 확인함."
   ]
  },
  {
   "cell_type": "code",
   "execution_count": 15,
   "id": "e36c5601",
   "metadata": {},
   "outputs": [
    {
     "data": {
      "image/png": "[encoded data removed]",
      "text/plain": [
       "<Figure size 576x288 with 1 Axes>"
      ]
     },
     "metadata": {
      "needs_background": "light"
     },
     "output_type": "display_data"
    }
   ],
   "source": [
    "import seaborn as sns\n",
    "\n",
    "plt.figure(figsize=(8,4))\n",
    "plt.xticks(range(0,30000,1000), rotation=60)\n",
    "sns.histplot(card_df['Amount'],bins=100, kde=True)\n",
    "plt.show()"
   ]
  },
  {
   "cell_type": "code",
   "execution_count": 16,
   "id": "597aced9",
   "metadata": {},
   "outputs": [],
   "source": [
    "from sklearn.preprocessing import StandardScaler\n",
    "# 사이킷런의 StandardScaler를 이용해 정규 분포 형태로 Amount 피처값 변환하는 로직으로 수정\n",
    "def get_preprocessed_df(df=None):\n",
    "    df_copy = df.copy()\n",
    "    scaler = StandardScaler()\n",
    "    amount_n = scaler.fit_transform(df_copy['Amount'].values.reshape(-1,1))\n",
    "    # 변환된 Amount를 Amount_Scaled로 피처명 변경 후 DF 맨 앞 칼럼으로 입력\n",
    "    df_copy.insert(0,'Amount_scaled',amount_n)\n",
    "    # 기존 Time, Amount 피처 삭제\n",
    "    df_copy.drop(['Time','Amount'],axis=1,inplace=True)\n",
    "    return df_copy"
   ]
  },
  {
   "cell_type": "code",
   "execution_count": 17,
   "id": "7008b599",
   "metadata": {},
   "outputs": [
    {
     "name": "stdout",
     "output_type": "stream",
     "text": [
      "### 로지스틱 회귀 예측 성능 ###\n",
      "오차 행렬\n",
      "[[85281    14]\n",
      " [   58    90]]\n",
      "정확도:0.9992, 정밀도:0.8654, 재현율:0.6081, F1:0.7143, AUC:0.9702\n",
      "### LightGBM 예측 성능 ###\n",
      "오차 행렬\n",
      "[[85290     5]\n",
      " [   37   111]]\n",
      "정확도:0.9995, 정밀도:0.9569, 재현율:0.7500, F1:0.8409, AUC:0.9779\n"
     ]
    }
   ],
   "source": [
    "# Amount를 정규 분포 형태로 변환 후 로지스틱 회귀 및 LightGBM 수행\n",
    "X_train, X_test, y_train, y_test = get_train_test_dataset(card_df)\n",
    "\n",
    "print('### 로지스틱 회귀 예측 성능 ###')\n",
    "lr_clf = LogisticRegression(max_iter=1000)\n",
    "get_model_train_eval(lr_clf,X_train,X_test,y_train,y_test)\n",
    "\n",
    "print('### LightGBM 예측 성능 ###')\n",
    "lgbm_clf = LGBMClassifier(n_estimators=1000,num_leaves=64, n_jobs=-1, boost_from_average=False)\n",
    "get_model_train_eval(lgbm_clf,X_train,X_test,y_train,y_test)"
   ]
  },
  {
   "cell_type": "code",
   "execution_count": 18,
   "id": "11ce32c9",
   "metadata": {},
   "outputs": [],
   "source": [
    "# 로그 변환 수행 : 데이터 분포도가 심하게 왜곡되어 있을 경우\n",
    "def get_preprocessed_df(df=None):\n",
    "    df_copy = df.copy()\n",
    "    \n",
    "    # 넘파이의 log1p()를 이용해 Amount를 로그 변환\n",
    "    amount_n = np.log1p(df_copy['Amount'])\n",
    "    df_copy.insert(0,'Amount_scaled',amount_n)\n",
    "    # 기존 Time, Amount 피처 삭제\n",
    "    df_copy.drop(['Time','Amount'],axis=1,inplace=True)\n",
    "    return df_copy"
   ]
  },
  {
   "cell_type": "code",
   "execution_count": 19,
   "id": "cbd178d4",
   "metadata": {},
   "outputs": [
    {
     "name": "stdout",
     "output_type": "stream",
     "text": [
      "### 로지스틱 회귀 예측 성능 ###\n",
      "오차 행렬\n",
      "[[85283    12]\n",
      " [   59    89]]\n",
      "정확도:0.9992, 정밀도:0.8812, 재현율:0.6014, F1:0.7149, AUC:0.9727\n",
      "### LightGBM 예측 성능 ###\n",
      "오차 행렬\n",
      "[[85290     5]\n",
      " [   35   113]]\n",
      "정확도:0.9995, 정밀도:0.9576, 재현율:0.7635, F1:0.8496, AUC:0.9796\n"
     ]
    }
   ],
   "source": [
    "# Amount를 로그 변환 후 로지스틱 회귀 및 LightGBM 수행\n",
    "X_train, X_test, y_train, y_test = get_train_test_dataset(card_df)\n",
    "\n",
    "print('### 로지스틱 회귀 예측 성능 ###')\n",
    "lr_clf = LogisticRegression(max_iter=1000)\n",
    "get_model_train_eval(lr_clf,X_train,X_test,y_train,y_test)\n",
    "\n",
    "print('### LightGBM 예측 성능 ###')\n",
    "lgbm_clf = LGBMClassifier(n_estimators=1000,num_leaves=64, n_jobs=-1, boost_from_average=False)\n",
    "get_model_train_eval(lgbm_clf,X_train,X_test,y_train,y_test)"
   ]
  },
  {
   "cell_type": "markdown",
   "id": "d34d7c36",
   "metadata": {},
   "source": [
    "__이상치 데이터 제거 후 모델 학습/예측/평가__    \n",
    "이상치는 전체 데이터 패턴에서 벗어난 이상 값을 가진 데이터. 여러 방법 중 IQR(Inner Quantile Range)방식을 적용하는 경우 사분위 값의 편차를 이용하며, 박스 플롯으로 시각화 가능."
   ]
  },
  {
   "cell_type": "code",
   "execution_count": 20,
   "id": "df222c95",
   "metadata": {},
   "outputs": [
    {
     "data": {
      "text/plain": [
       "<AxesSubplot:>"
      ]
     },
     "execution_count": 20,
     "metadata": {},
     "output_type": "execute_result"
    },
    {
     "data": {
      "image/png": "[encoded data removed]",
      "text/plain": [
       "<Figure size 648x648 with 2 Axes>"
      ]
     },
     "metadata": {
      "needs_background": "light"
     },
     "output_type": "display_data"
    }
   ],
   "source": [
    "# 결정값과 가장 상관성이 높은 피처들을 위주로 이상치를 검출하는 것이 좋으므로, 피처별로 상관도를 시각화하여 확인함.\n",
    "import seaborn as sns\n",
    "\n",
    "plt.figure(figsize=(9,9))\n",
    "corr = card_df.corr()\n",
    "sns.heatmap(corr, cmap='RdBu')"
   ]
  },
  {
   "cell_type": "code",
   "execution_count": 21,
   "id": "0bf3cd9d",
   "metadata": {},
   "outputs": [],
   "source": [
    "import numpy as np\n",
    "\n",
    "def get_outlier(df=None, column=None, weight=1.5):\n",
    "    # fraud에 해당하는 column 데이터만 추출, 1/4 분위와 3/4 분위 지점을 np.percentile로 구함.\n",
    "    fraud = df[df['Class']==1][column]\n",
    "    quantile_25 = np.percentile(fraud.values,25)\n",
    "    quantile_75 = np.percentile(fraud.values,75)\n",
    "    \n",
    "    # IQR을 구하고, IQR에 1.5를 곱해 최댓값과 최솟값 지점 구함.\n",
    "    iqr = quantile_75 - quantile_25\n",
    "    iqr_weight = iqr * weight\n",
    "    lowest_val = quantile_25 - iqr_weight\n",
    "    highest_val = quantile_75 + iqr_weight\n",
    "    # 최댓값보다 크거나, 최솟값보다 작은 값을 이상치 데이터로 설정하고 DataFrame Index 반환\n",
    "    outlier_index = fraud[(fraud<lowest_val)|(fraud>highest_val)].index\n",
    "    return outlier_index"
   ]
  },
  {
   "cell_type": "code",
   "execution_count": 22,
   "id": "4dacc837",
   "metadata": {},
   "outputs": [
    {
     "name": "stdout",
     "output_type": "stream",
     "text": [
      "이상치 데이터 인덱스: Int64Index([8296, 8615, 9035, 9252], dtype='int64')\n"
     ]
    }
   ],
   "source": [
    "# get_outlier 함수를 이용해 v14컬럼에서 이상치 데이터 찾기\n",
    "outlier_index = get_outlier(df=card_df,column='V14',weight=1.5)\n",
    "print('이상치 데이터 인덱스:',outlier_index)"
   ]
  },
  {
   "cell_type": "code",
   "execution_count": 23,
   "id": "e9a381e0",
   "metadata": {},
   "outputs": [
    {
     "name": "stdout",
     "output_type": "stream",
     "text": [
      "### 로지스틱 회귀 예측 성능 ###\n",
      "오차 행렬\n",
      "[[85281    14]\n",
      " [   48    98]]\n",
      "정확도:0.9993, 정밀도:0.8750, 재현율:0.6712, F1:0.7597, AUC:0.9743\n",
      "### LightGBM 예측 성능 ###\n",
      "오차 행렬\n",
      "[[85290     5]\n",
      " [   25   121]]\n",
      "정확도:0.9996, 정밀도:0.9603, 재현율:0.8288, F1:0.8897, AUC:0.9780\n"
     ]
    }
   ],
   "source": [
    "# 로그 변환 후 v14 피처의 이상치 데이터 삭제하는 로직으로 변경\n",
    "def get_preprocessed_df(df=None):\n",
    "    df_copy = df.copy()\n",
    "    amount_n = np.log1p(df_copy['Amount'])\n",
    "    df_copy.insert(0,'Amount_scaled',amount_n)\n",
    "    df_copy.drop(['Time','Amount'],axis=1,inplace=True)\n",
    "    \n",
    "    # 이상치 데이터 삭제하는 로직 추가\n",
    "    outlier_index = get_outlier(df=df_copy,column='V14',weight=1.5)\n",
    "    df_copy.drop(outlier_index,axis=0,inplace=True)\n",
    "    return df_copy\n",
    "\n",
    "X_train, X_test, y_train, y_test = get_train_test_dataset(card_df)\n",
    "\n",
    "print('### 로지스틱 회귀 예측 성능 ###')\n",
    "lr_clf = LogisticRegression(max_iter=1000)\n",
    "get_model_train_eval(lr_clf,X_train,X_test,y_train,y_test)\n",
    "\n",
    "print('### LightGBM 예측 성능 ###')\n",
    "lgbm_clf = LGBMClassifier(n_estimators=1000,num_leaves=64, n_jobs=-1, boost_from_average=False)\n",
    "get_model_train_eval(lgbm_clf,X_train,X_test,y_train,y_test)"
   ]
  },
  {
   "cell_type": "markdown",
   "id": "4b739640",
   "metadata": {},
   "source": [
    "__SMOTE 오버 샘플링 적용 후 모델 학습/예측/평가__    \n",
    "SMOTE를 적용할 때는 반드시 학습 데이터 세트만 오버 샘플링 해야함."
   ]
  },
  {
   "cell_type": "code",
   "execution_count": 25,
   "id": "ef3fb282",
   "metadata": {},
   "outputs": [
    {
     "name": "stdout",
     "output_type": "stream",
     "text": [
      "SMOTE 적용 전 학습용 피처/레이블 데이터 세트:  (199362, 29) (199362,)\n",
      "SMOTE 적용 후 학습용 피처/레이블 데이터 세트:  (398040, 29) (398040,)\n",
      "SMOTE 적용 후 레이블 값 분포:\n",
      " 0    199020\n",
      "1    199020\n",
      "Name: Class, dtype: int64\n"
     ]
    }
   ],
   "source": [
    "from imblearn.over_sampling import SMOTE\n",
    "\n",
    "smote = SMOTE(random_state=0)\n",
    "X_train_over, y_train_over = smote.fit_resample(X_train, y_train)\n",
    "print('SMOTE 적용 전 학습용 피처/레이블 데이터 세트: ',X_train.shape, y_train.shape)\n",
    "print('SMOTE 적용 후 학습용 피처/레이블 데이터 세트: ',X_train_over.shape, y_train_over.shape)\n",
    "print('SMOTE 적용 후 레이블 값 분포:\\n',pd.Series(y_train_over).value_counts())"
   ]
  },
  {
   "cell_type": "code",
   "execution_count": 26,
   "id": "d7568c96",
   "metadata": {},
   "outputs": [
    {
     "name": "stdout",
     "output_type": "stream",
     "text": [
      "오차 행렬\n",
      "[[82937  2358]\n",
      " [   11   135]]\n",
      "정확도:0.9723, 정밀도:0.0542, 재현율:0.9247, F1:0.1023, AUC:0.9737\n"
     ]
    }
   ],
   "source": [
    "# 로지스틱 회귀 모델 학습 후 성능 평가\n",
    "lr_clf = LogisticRegression(max_iter=1000)\n",
    "# ftr_train과 tgt_train 인자값이 SMOTE 증식된 X_train_over와 y_train_over로 변경됨에 유의\n",
    "get_model_train_eval(lr_clf, X_train_over, X_test, y_train_over, y_test)"
   ]
  },
  {
   "cell_type": "markdown",
   "id": "b1834fc1",
   "metadata": {},
   "source": [
    "재현율은 크게 증가했지만 정밀도는 5.4%로 급격하게 저하됨. 로지스틱 회귀 모델이 오버 샘플링으로 실제 원본 데이터의 유형보다 너무나 많은 class=1 데이터를 학습하면서 실제 테스트 데이터 셋에서 예측을 지나치게 class=1로 적용해 정밀도가 떨어진 것."
   ]
  },
  {
   "cell_type": "code",
   "execution_count": 29,
   "id": "4ac59ee8",
   "metadata": {},
   "outputs": [],
   "source": [
    "def precision_recall_curve_plot(y_test,pred_proba_c1):\n",
    "    from sklearn.metrics import precision_recall_curve, roc_curve\n",
    "    import matplotlib.pyplot as plt\n",
    "    import matplotlib.ticker as ticker\n",
    "    %matplotlib inline\n",
    "    # threshold ndarray와 이 threshold에 따른 정밀도, 재현율 ndarray 추출\n",
    "    precisions, recalls, thresholds = precision_recall_curve(y_test,pred_proba_c1)\n",
    "    \n",
    "    # X축을 threshold값으로, Y축은 정밀도, 재현율 값으로 각각 Plot 수행. 정밀도는 점선으로 표시\n",
    "    plt.figure(figsize=(8,6))\n",
    "    threshold_boundary = thresholds.shape[0]\n",
    "    plt.plot(thresholds, precisions[0:threshold_boundary], linestyle='--',label='precision')\n",
    "    plt.plot(thresholds, recalls[0:threshold_boundary],label='recall')\n",
    "    \n",
    "    # threshold 값 X축의 Scale을 0.1단위로 변경\n",
    "    start, end = plt.xlim()\n",
    "    plt.xticks(np.round(np.arange(start,end,0.1),2))\n",
    "    \n",
    "    # x축, y축 label과 legend, grid 설정\n",
    "    plt.xlabel('Threshold value'); plt.ylabel('Precision and Recall value')\n",
    "    plt.legend(); plt.grid()\n",
    "    plt.show()"
   ]
  },
  {
   "cell_type": "code",
   "execution_count": 30,
   "id": "f28809af",
   "metadata": {},
   "outputs": [
    {
     "data": {
      "image/png": "[encoded data removed]",
      "text/plain": [
       "<Figure size 576x432 with 1 Axes>"
      ]
     },
     "metadata": {
      "needs_background": "light"
     },
     "output_type": "display_data"
    }
   ],
   "source": [
    "precision_recall_curve_plot(y_test,lr_clf.predict_proba(X_test)[:,1])\n",
    "'''임곗값이 0.99이하에서는 재현율이 매우 좋고 정밀도가 극단적으로 낮다가\n",
    "0.99 이상에서는 반대로 됨. 임계값의 민감도가 너무 심해 올바른 재현율/정밀도 성능을 얻을 수 없음.\n",
    "'''"
   ]
  },
  {
   "cell_type": "code",
   "execution_count": 31,
   "id": "9b4e26b0",
   "metadata": {},
   "outputs": [
    {
     "name": "stdout",
     "output_type": "stream",
     "text": [
      "오차 행렬\n",
      "[[85283    12]\n",
      " [   22   124]]\n",
      "정확도:0.9996, 정밀도:0.9118, 재현율:0.8493, F1:0.8794, AUC:0.9814\n"
     ]
    }
   ],
   "source": [
    "lgbm_clf = LGBMClassifier(n_estimators=1000,num_leaves=64, n_jobs=-1, boost_from_average=False)\n",
    "get_model_train_eval(lgbm_clf,X_train_over,X_test,y_train_over,y_test)\n",
    "'''SMOTE를 적용하면 재현율은 높아지나, 정밀도는 낮아지는 것이 일반적임.\n",
    "재현율 지표를 높이는 것이 머신러닝 모델의 주요한 목표인 경우 smote를 적용하면 좋음.\n",
    "좋은 SMOTE 패키지일수록 재현율 증가율은 높이고 정밀도 감소율은 낮출 수 있도록 효과적으로 데이터를 증식\n",
    "'''"
   ]
  },
  {
   "cell_type": "code",
   "execution_count": 32,
   "id": "060172b6",
   "metadata": {},
   "outputs": [
    {
     "data": {
      "image/png": "[encoded data removed]",
      "text/plain": [
       "<Figure size 576x432 with 1 Axes>"
      ]
     },
     "metadata": {
      "needs_background": "light"
     },
     "output_type": "display_data"
    }
   ],
   "source": [
    "precision_recall_curve_plot(y_test,lgbm_clf.predict_proba(X_test)[:,1])"
   ]
  },
  {
   "cell_type": "markdown",
   "id": "16924240",
   "metadata": {},
   "source": [
    "## 스태킹 앙상블\n",
    "개별 알고리즘의 예측 결과 데이터 셋을 최종적인 메타 데이터 셋으로 만들어 별도의 ML 알고리즘으로 최종 학습을 수행하고 테스트 데이터를 기반으로 다시 최종 예측을 수행하는 방식.(메타 모델)    \n",
    "\n",
    "__기본 스태킹 모델__"
   ]
  },
  {
   "cell_type": "code",
   "execution_count": 1,
   "id": "fe740d52",
   "metadata": {},
   "outputs": [],
   "source": [
    "import numpy as np\n",
    "\n",
    "from sklearn.neighbors import KNeighborsClassifier\n",
    "from sklearn.ensemble import RandomForestClassifier, AdaBoostClassifier\n",
    "from sklearn.tree import DecisionTreeClassifier\n",
    "from sklearn.linear_model import LogisticRegression\n",
    "\n",
    "from sklearn.datasets import load_breast_cancer\n",
    "from sklearn.model_selection import train_test_split\n",
    "from sklearn.metrics import accuracy_score\n",
    "cancer_data = load_breast_cancer()\n",
    "X_data = cancer_data.data\n",
    "y_label = cancer_data.target\n",
    "\n",
    "X_train, X_test, y_train, y_test = train_test_split(X_data, y_label, test_size=0.2, random_state=0)"
   ]
  },
  {
   "cell_type": "code",
   "execution_count": 2,
   "id": "9b2bf316",
   "metadata": {},
   "outputs": [],
   "source": [
    "# 개별 ML 모델 생성\n",
    "knn_clf = KNeighborsClassifier(n_neighbors=4)\n",
    "rf_clf = RandomForestClassifier(n_estimators=100, random_state=0)\n",
    "dt_clf = DecisionTreeClassifier()\n",
    "ada_clf = AdaBoostClassifier(n_estimators=100)\n",
    "\n",
    "# 스태킹으로 만들어진 데이터 셋을 학습, 예측할 최종 모델\n",
    "lr_final = LogisticRegression()"
   ]
  },
  {
   "cell_type": "code",
   "execution_count": 3,
   "id": "e3b72b61",
   "metadata": {},
   "outputs": [
    {
     "name": "stdout",
     "output_type": "stream",
     "text": [
      "KNN 정확도: 0.9211\n",
      "랜덤 포레스트 정확도: 0.9649\n",
      "결정 트리 정확도: 0.9035\n",
      "에이다부스트 정확도: 0.9561\n"
     ]
    }
   ],
   "source": [
    "# 개별 모델을 학습\n",
    "knn_clf.fit(X_train, y_train)\n",
    "rf_clf.fit(X_train, y_train)\n",
    "dt_clf.fit(X_train, y_train)\n",
    "ada_clf.fit(X_train, y_train)\n",
    "\n",
    "# 학습된 개별 모델들이 각자 반환하는 예측 데이터 셋을 생성하고 개별 모델의 정확도 측정\n",
    "knn_pred = knn_clf.predict(X_test)\n",
    "rf_pred = rf_clf.predict(X_test)\n",
    "dt_pred = dt_clf.predict(X_test)\n",
    "ada_pred = ada_clf.predict(X_test)\n",
    "\n",
    "print('KNN 정확도: {0:.4f}'.format(accuracy_score(y_test, knn_pred)))\n",
    "print('랜덤 포레스트 정확도: {0:.4f}'.format(accuracy_score(y_test, rf_pred)))\n",
    "print('결정 트리 정확도: {0:.4f}'.format(accuracy_score(y_test, dt_pred)))\n",
    "print('에이다부스트 정확도: {0:.4f}'.format(accuracy_score(y_test, ada_pred)))"
   ]
  },
  {
   "cell_type": "code",
   "execution_count": 4,
   "id": "38c18f8c",
   "metadata": {},
   "outputs": [
    {
     "name": "stdout",
     "output_type": "stream",
     "text": [
      "(4, 114)\n",
      "(114, 4)\n",
      "최종 메탈 모델의 예측 정확도: 0.9737\n"
     ]
    }
   ],
   "source": [
    "# 개별 알고리즘으로부터 예측된 예측값을 컬럼 레벨로 옆으로 붙여서 피처 값으로 만들어 최종 메타 모델에서 학습 데이터로 다시 사용\n",
    "pred = np.array([knn_pred, rf_pred, dt_pred, ada_pred])\n",
    "print(pred.shape)\n",
    "\n",
    "# transpose를 이용해 행과 열의 위치 교환. 컬럼 레벨로 각 알고리즘의 예측 결과를 피처로 만듦.\n",
    "pred = np.transpose(pred)\n",
    "print(pred.shape)\n",
    "\n",
    "# 최종 메타 모델인 로지스틱 회귀 학습 및 정확도 측정\n",
    "lr_final.fit(pred, y_test)\n",
    "final = lr_final.predict(pred)\n",
    "\n",
    "print('최종 메탈 모델의 예측 정확도: {0:.4f}'.format(accuracy_score(y_test, final)))"
   ]
  },
  {
   "cell_type": "markdown",
   "id": "cbd0e572",
   "metadata": {},
   "source": [
    "개별 모델 정확도보다 향상되었지만, 스태킹 기법이 무조건 개별 모델보다 좋아진다는 보장이 없음.\n",
    "\n",
    "__CV 세트 기반의 스태킹__    \n",
    "과적합을 개선하기 위해 최종 메타 모델을 위한 데이터 셋을 만들 때 교차 검증 기반으로 예측된 결과 데이터 셋을 이용.    \n",
    "1. 각 모델 별로 N개의 폴드로 나누고, N-1개의 폴드로 학습을, 1개의 검증폴드로 데이터를 예측하고 그 결과를 저장함. 그 예측값들의 평균으로 최종 결괏값을 생성하고 이를 메타 모델을 위한 테스트 데이터로 이용.\n",
    "2. 각 모델들의 생성한 데이터를 모두 합쳐서 최종적으로 메타 모델이 사용할 학습 데이터와 테스트 데이터 생성. 그 후에 최종 학습 데이터와 원본 데이터의 레이블 데이터를 합쳐서 메타 모델 학습 -> 최종 테스트 데이터로 예측 수행 -> 원본 테스트 데이터의 레이블 데이터와 최종 예측결과 비교 후 평가"
   ]
  },
  {
   "cell_type": "code",
   "execution_count": 8,
   "id": "5a2e439d",
   "metadata": {},
   "outputs": [],
   "source": [
    "from sklearn.model_selection import KFold\n",
    "from sklearn.metrics import mean_absolute_error\n",
    "\n",
    "# 개별 기반 모델에서 최종 메타 모델이 사용할 학습 및 테스트용 데이터를 생성하기 위한 함수\n",
    "def get_stacking_base_datasets(model, X_train_n, y_train_n, X_test_n, n_folds):\n",
    "    # 지정된 n_folds 값으로 KFold 생성\n",
    "    kf = KFold(n_splits=n_folds, shuffle=False)\n",
    "    \n",
    "    # 추후에 메타 모델이 사용할 학습 데이터 반환을 위한 넘파이 배열 초기화\n",
    "    train_fold_pred = np.zeros((X_train_n.shape[0],1))\n",
    "    test_pred = np.zeros((X_test_n.shape[0], n_folds))\n",
    "    print(model.__class__.__name__,'model 시작 ')\n",
    "    \n",
    "    for folder_counter, (train_index, valid_index) in enumerate(kf.split(X_train_n)):\n",
    "        # 입력된 학습 데이터에서 기반 모델이 학습/ 예측할 폴드 데이터 셋 추출\n",
    "        print('\\t 폴드 세트: ', folder_counter, ' 시작 ')\n",
    "        X_tr = X_train_n[train_index]\n",
    "        y_tr = y_train_n[train_index]\n",
    "        X_te = X_train_n[valid_index]\n",
    "        \n",
    "        # 폴드 세트 내부에서 다시 만들어진 학습 데이터로 기반 모델의 학습 수행\n",
    "        model.fit(X_tr, y_tr)\n",
    "        # 폴드 세트 내부에서 다시 만들어진 검증 데이터로 기반 모델 예측 후 데이터 저장\n",
    "        train_fold_pred[valid_index,:] = model.predict(X_te).reshape(-1,1)\n",
    "        # 입력된 원본 테스트 데이터를 폴드 세트내 학습된 기반 모델에서 예측 후 데이터 저장.\n",
    "        test_pred[:, folder_counter] = model.predict(X_test_n)\n",
    "        \n",
    "    # 폴드 세트 내에서 원본 테스트 데이터를 예측한 데이터를 평균하여 테스트 데이터로 생성\n",
    "    test_pred_mean = np.mean(test_pred, axis=1).reshape(-1,1)\n",
    "    \n",
    "    # train_fold_pred는 최종 메타 모델이 사용하는 학습 데이터, test_pred_mean은 테스트 데이터\n",
    "    return train_fold_pred, test_pred_mean"
   ]
  },
  {
   "cell_type": "code",
   "execution_count": 17,
   "id": "395eb12d",
   "metadata": {},
   "outputs": [
    {
     "name": "stdout",
     "output_type": "stream",
     "text": [
      "KNeighborsClassifier model 시작 \n",
      "\t 폴드 세트:  0  시작 \n",
      "\t 폴드 세트:  1  시작 \n",
      "\t 폴드 세트:  2  시작 \n",
      "\t 폴드 세트:  3  시작 \n",
      "\t 폴드 세트:  4  시작 \n",
      "\t 폴드 세트:  5  시작 \n",
      "\t 폴드 세트:  6  시작 \n",
      "RandomForestClassifier model 시작 \n",
      "\t 폴드 세트:  0  시작 \n",
      "\t 폴드 세트:  1  시작 \n",
      "\t 폴드 세트:  2  시작 \n",
      "\t 폴드 세트:  3  시작 \n",
      "\t 폴드 세트:  4  시작 \n",
      "\t 폴드 세트:  5  시작 \n",
      "\t 폴드 세트:  6  시작 \n",
      "DecisionTreeClassifier model 시작 \n",
      "\t 폴드 세트:  0  시작 \n",
      "\t 폴드 세트:  1  시작 \n",
      "\t 폴드 세트:  2  시작 \n",
      "\t 폴드 세트:  3  시작 \n",
      "\t 폴드 세트:  4  시작 \n",
      "\t 폴드 세트:  5  시작 \n",
      "\t 폴드 세트:  6  시작 \n",
      "AdaBoostClassifier model 시작 \n",
      "\t 폴드 세트:  0  시작 \n",
      "\t 폴드 세트:  1  시작 \n",
      "\t 폴드 세트:  2  시작 \n",
      "\t 폴드 세트:  3  시작 \n",
      "\t 폴드 세트:  4  시작 \n",
      "\t 폴드 세트:  5  시작 \n",
      "\t 폴드 세트:  6  시작 \n"
     ]
    }
   ],
   "source": [
    "knn_train, knn_test = get_stacking_base_datasets(knn_clf, X_train, y_train, X_test, 7)\n",
    "rf_train, rf_test = get_stacking_base_datasets(rf_clf, X_train, y_train, X_test, 7)\n",
    "dt_train, dt_test = get_stacking_base_datasets(dt_clf, X_train, y_train, X_test, 7)\n",
    "ada_train, ada_test = get_stacking_base_datasets(ada_clf, X_train, y_train, X_test, 7)"
   ]
  },
  {
   "cell_type": "code",
   "execution_count": 18,
   "id": "d7b9cae1",
   "metadata": {},
   "outputs": [
    {
     "name": "stdout",
     "output_type": "stream",
     "text": [
      "원본 학습 피처 데이터 Shape: (455, 30) 원본 테스트 피처 Shape: (114, 30)\n",
      "스태킹 학습 피처 데이터 Shape: (455, 4) 스태킹 테스트 피처 데이터 Shape: (114, 4)\n"
     ]
    }
   ],
   "source": [
    "# 반환된 각 모델별 학습 데이터와 테스트 데이터를 합치기만 하면 됨. 넘파이의 concatenate()를 이용\n",
    "Stack_final_X_train = np.concatenate((knn_train, rf_train, dt_train, ada_train), axis=1)\n",
    "Stack_final_X_test = np.concatenate((knn_test, rf_test, dt_test, ada_test), axis=1)\n",
    "print('원본 학습 피처 데이터 Shape:',X_train.shape, '원본 테스트 피처 Shape:',X_test.shape)\n",
    "print('스태킹 학습 피처 데이터 Shape:',Stack_final_X_train.shape,\n",
    "     '스태킹 테스트 피처 데이터 Shape:',Stack_final_X_test.shape)"
   ]
  },
  {
   "cell_type": "code",
   "execution_count": 22,
   "id": "34f1c868",
   "metadata": {},
   "outputs": [
    {
     "name": "stdout",
     "output_type": "stream",
     "text": [
      "최종 메타 모델의 예측 정확도: 0.9737\n"
     ]
    }
   ],
   "source": [
    "lr_final.fit(Stack_final_X_train,y_train)\n",
    "stack_final = lr_final.predict(Stack_final_X_test)\n",
    "\n",
    "print('최종 메타 모델의 예측 정확도: {0:.4f}'.format(accuracy_score(y_test,stack_final)))"
   ]
  },
  {
   "cell_type": "markdown",
   "id": "8365c586",
   "metadata": {},
   "source": [
    "# Ch 05. 회귀\n",
    "주어진 피처와 결정 값 데이터 기반에서 학습을 통해 최적의 회귀 계수를 찾아내는 것    \n",
    "지도 학습에서 분류는 예측값이 카테고리와 같은 이산형 클래스 값이고, 회귀는 연속형 숫자 값.\n",
    "\n",
    "## 단순 선형 회귀\n",
    "독립변수와 종속변수 모두 하나인 선형 회귀.    \n",
    "실제 값과 회귀 모델의 차이에 따른 오류 값을 남은 오류, 즉 잔차라고 함. 최적의 회귀 모델은 잔차 합이 최소가 되는 모델을 의미함.    \n",
    "오류 합을 계산할 때는 MAE(절대값을 취해서 더함), RSS(오류 값의 제곱을 구해서 더함)    \n",
    "RSS는 비용(Cost)이며, 머신러닝 회귀 알고리즘은 데이터를 계속 학습하면서 이 비용 함수가 반환하는 값(즉, 오류값)을 지속해서 감소시키고 최종적으로는 더 이상 감소하지 않는 최소의 오류 값을 구함. 비용 함수를 손실 함수라고도 함.\n",
    "\n",
    "## 비용 최소화하기-경사 하강법\n",
    "반복적으로 비용 함수의 반환 값, 즉 예측값과 실제 값의 차이가 작아지는 방향성을 가지고 W파라미터를 지속해서 보정해 나감."
   ]
  },
  {
   "cell_type": "code",
   "execution_count": 30,
   "id": "b04e6d12",
   "metadata": {},
   "outputs": [
    {
     "data": {
      "text/plain": [
       "<matplotlib.collections.PathCollection at 0x206ec15b040>"
      ]
     },
     "execution_count": 30,
     "metadata": {},
     "output_type": "execute_result"
    },
    {
     "data": {
      "image/png": "[encoded data removed]",
      "text/plain": [
       "<Figure size 432x288 with 1 Axes>"
      ]
     },
     "metadata": {
      "needs_background": "light"
     },
     "output_type": "display_data"
    }
   ],
   "source": [
    "import numpy as np\n",
    "import matplotlib.pyplot as plt\n",
    "%matplotlib inline\n",
    "\n",
    "np.random.seed(0)\n",
    "# y = 4X + 6을 근사 (w1=4, w0=6). 임의의 값은 노이즈를 위해 만듦\n",
    "X = 2 * np.random.rand(100,1) # [0,1) 0은 들어가지만 1은 들어가지 않는 균등분포로부터 샘플을 추출하여 배열 반환. 음수 값이 나올 수 없음.\n",
    "y = 6 + 4 * X+np.random.randn(100,1) # 표준 정규 분포 (N(0,1)) 에서 추출한 샘플을 리턴. 음수의 값이 나올 수 있음.\n",
    "\n",
    "# X, y 데이터 세트 산점도로 시각화\n",
    "plt.scatter(X,y)"
   ]
  },
  {
   "cell_type": "code",
   "execution_count": 31,
   "id": "cb9046d6",
   "metadata": {},
   "outputs": [],
   "source": [
    "# 실제 y값과 예측된 y값을 인자로 받아서 1/N∑(실제값-예측값)^2 을 계산해 반환\n",
    "def get_cost(y, y_pred):\n",
    "    N = len(y)\n",
    "    cost = np.sum(np.square(y-y_pred))/N\n",
    "    return cost"
   ]
  },
  {
   "cell_type": "code",
   "execution_count": 37,
   "id": "89c2be33",
   "metadata": {},
   "outputs": [],
   "source": [
    "# w1과 w0를 업데이트할 w1_update, w0_update 반환\n",
    "def get_weight_updates(w1, w0, X, y, learning_rate=0.01):\n",
    "    N = len(y)\n",
    "    # 먼저 w1_update, w0_update를 각각 w1, w0의 shape와 동일한 크기를 가진 0값으로 초기화\n",
    "    w1_update = np.zeros_like(w1)\n",
    "    w0_update = np.zeros_like(w0)\n",
    "    # 예측 배열 계산하고 예측과 실제 값의 차이 계산\n",
    "    y_pred = np.dot(X, w1.T) + w0\n",
    "    diff = y-y_pred\n",
    "    \n",
    "    # w0_update를 dot 행렬 연산으로 구하기 위해 모두 1값을 가진 행렬 생성\n",
    "    w0_factors = np.ones((N,1))\n",
    "    \n",
    "    # w1과 w0을 업데이트 할 w1_updeate와 w0_update 계산\n",
    "    w1_update = -(2/N)*learning_rate*(np.dot(X.T, diff))\n",
    "    w0_update = -(2/N)*learning_rate*(np.dot(w0_factors.T, diff))\n",
    "    \n",
    "    return w1_update, w0_update"
   ]
  },
  {
   "cell_type": "code",
   "execution_count": 40,
   "id": "d10cb352",
   "metadata": {},
   "outputs": [],
   "source": [
    "# 입력 인자 iters로 주어진 횟수만큼 반복적으로 w1과 w0을 업데이트 적용\n",
    "def gradient_descent_steps(X,y,iters=10000):\n",
    "    # w0와 w1을 모두 0으로 초기화\n",
    "    w0 = np.zeros((1,1))\n",
    "    w1 = np.zeros((1,1))\n",
    "    \n",
    "    # 인자로 주어진 iters만큼 반복적으로 get_weight_updates() 호출해 w1, w0 업데이트 수행\n",
    "    for ind in range(iters):\n",
    "        w1_update, w0_update = get_weight_updates(w1,w0,X,y,learning_rate=0.01)\n",
    "        w1 = w1 - w1_update\n",
    "        w0 = w0-w0_update\n",
    "        \n",
    "    return w1, w0"
   ]
  },
  {
   "cell_type": "code",
   "execution_count": 41,
   "id": "846d8a1a",
   "metadata": {},
   "outputs": [
    {
     "name": "stdout",
     "output_type": "stream",
     "text": [
      "w1:4.022 w0:6.162\n",
      "Gradient Descent Total Cost:0.9935\n"
     ]
    }
   ],
   "source": [
    "# 경사 하강법의 예측 오류 계산\n",
    "w1, w0 = gradient_descent_steps(X,y,iters=1000)\n",
    "print('w1:{0:.3f} w0:{1:.3f}'.format(w1[0,0], w0[0,0]))\n",
    "y_pred = w1[0,0]*X+w0\n",
    "print('Gradient Descent Total Cost:{0:.4f}'.format(get_cost(y,y_pred)))"
   ]
  },
  {
   "cell_type": "code",
   "execution_count": 65,
   "id": "9d528546",
   "metadata": {},
   "outputs": [
    {
     "data": {
      "text/plain": [
       "[<matplotlib.lines.Line2D at 0x206ec28afa0>]"
      ]
     },
     "execution_count": 65,
     "metadata": {},
     "output_type": "execute_result"
    },
    {
     "data": {
      "image/png": "[encoded data removed]",
      "text/plain": [
       "<Figure size 432x288 with 1 Axes>"
      ]
     },
     "metadata": {
      "needs_background": "light"
     },
     "output_type": "display_data"
    }
   ],
   "source": [
    "plt.scatter(X,y)\n",
    "plt.plot(X,y_pred)"
   ]
  },
  {
   "cell_type": "markdown",
   "id": "a1e01e45",
   "metadata": {},
   "source": [
    "경사 하강법은 모든 학습데이터에 대해 반복적으로 비용함수 최소화를 위한 값을 업데이트 하기 때문에 수행 시간이 매우 오래 걸린다는 단점.    \n",
    "그 때문에 실전에서는 대부분 확률적 경사 하강법(Stochastic Gradient Descent)를 이용함.이는 일부 데이터만 이용해 w가 업데이트되는 값을 계산해서 비교적 빠른 속도를 보장함. 대용량의 데이터의 경우 대부분 확률적 경사 하강법 또는 미니 배치 확률적 경사 하강법을 이용해 최적 비용함수를 도출함."
   ]
  },
  {
   "cell_type": "code",
   "execution_count": 71,
   "id": "215e1ed2",
   "metadata": {},
   "outputs": [],
   "source": [
    "def stochastic_gradient_descent_steps(X,y,batch_size=10, iters=1000):\n",
    "    w0 = np.zeros((1,1))\n",
    "    w1 = np.zeros((1,1))\n",
    "    prev_cost = 100000\n",
    "    iter_index = 0\n",
    "    \n",
    "    for ind in range(iters):\n",
    "        np.random.seed(ind) #np.seed 설정\n",
    "        # 전체 X, y 데이터에서 랜덤하게 batch_size만큼 데이터를 추출해 sample_X, sample_y로 저장\n",
    "        stochastic_random_index = np.random.permutation(X.shape[0]) \n",
    "        '''np.random.permutation : 기존 배열은 냅두고, 순서를 랜덤하게 섞은 배열 객체를 새로 생성\n",
    "        np.random.shuffle : 기존 배열의 순서를 변경'''\n",
    "        sample_X = X[stochastic_random_index[0:batch_size]]\n",
    "        sample_y = y[stochastic_random_index[0:batch_size]]\n",
    "        \n",
    "        #랜덤하게 batch_size만큼 추출된 데이터 기반으로 w1_update, w0_update 계산 후 업데이트\n",
    "        w1_update, w0_update = get_weight_updates(w1,w0,sample_X,sample_y,learning_rate=0.01)\n",
    "        w1 = w1 - w1_update\n",
    "        w0 = w0 - w0_update\n",
    "    return w1, w0"
   ]
  },
  {
   "cell_type": "code",
   "execution_count": null,
   "id": "b4a043c1",
   "metadata": {},
   "outputs": [],
   "source": [
    "w1,w0 = stochastic_gradient_descent_steps(X,y,iters=1000)\n",
    "print('w1:',round(w1[0,0],3), 'w0:', round(w0[0,0],3))\n",
    "y_pred = w1[0,0]* X + w0\n",
    "print('Stochastic Gradient Descent Total Cost:{0:.4f}'.format(get_cost(y,y_pred)))"
   ]
  },
  {
   "cell_type": "markdown",
   "id": "ebd70142",
   "metadata": {},
   "source": [
    "## 사이킷런 LinearRegression을 이용한 보스턴 주택 가격 예측\n",
    "__LinearRegression 클래스 - Ordinary Least Squares__ : 예측값과 실제 값의 RSS(Residual Sum of Squares)를 최소화해 OLS(Ordinary Least Squares) 추정 방식으로 구현한 클래스.\n",
    "```\n",
    "class sklearn.linear_model.LinearRegression(fit_intercept=True, normalize=False, copy_X=True, n_jobs=1)\n",
    "```\n",
    "* 입력 파라미터\n",
    "    - __fit_intercept__ : 불린 값으로, 디폴트는 True. 절편값을 계산할 것인지 지정함. False로 지정시 0으로 지정됨.\n",
    "    - __normalize__ : 불린 값으로 디폴트는 False. True이면 회귀를 수행하기 전 입력 데이터 셋을 정규화함.(fit_intercept가 false인 경우 이 파라미터 무시됨.\n",
    "\n",
    "* 속성\n",
    "    - __coef__ : fit() 메서드를 수행했을 때 회귀 계수가 배열 형태로 저장하는 속성. shape는 (Target값 개수, 피처 개수)\n",
    "    - __intercept__ : intercept값\n",
    "    \n",
    "__회귀 평가 지표__    \n",
    "* __MAE__ : Mean Absolute Error이며 실제 값과 예측값의 차이를 절댓값으로 변환해 평균한 것.\n",
    "* __MSE__ : Mean Squared Error이며 실제 값과 예측값의 차이를 제곱해 평균한 것\n",
    "* __RMSE__ : MSE 값은 오류의 제곱을 구해 실제 오류 평균보다 더 커지는 특성이 있어 MSE에 루트를 씌운 것\n",
    "* __R^2__ : 분산기반으로 예측 성능을 평가. 실제 값의 분산 대비 예측값의 분산 비율을 지표로 하며, 1에 가까울수록 예측 정확도가 높음.\n",
    "\n",
    "__보스턴 주택 가격 회귀 구현__"
   ]
  },
  {
   "cell_type": "code",
   "execution_count": 76,
   "id": "10e2f097",
   "metadata": {},
   "outputs": [
    {
     "name": "stdout",
     "output_type": "stream",
     "text": [
      "Boston 데이터 세트 크기 : (506, 14)\n",
      "Null값의 크기:  0\n"
     ]
    },
    {
     "data": {
      "text/html": [
       "<div>\n",
       "<style scoped>\n",
       "    .dataframe tbody tr th:only-of-type {\n",
       "        vertical-align: middle;\n",
       "    }\n",
       "\n",
       "    .dataframe tbody tr th {\n",
       "        vertical-align: top;\n",
       "    }\n",
       "\n",
       "    .dataframe thead th {\n",
       "        text-align: right;\n",
       "    }\n",
       "</style>\n",
       "<table border=\"1\" class=\"dataframe\">\n",
       "  <thead>\n",
       "    <tr style=\"text-align: right;\">\n",
       "      <th></th>\n",
       "      <th>CRIM</th>\n",
       "      <th>ZN</th>\n",
       "      <th>INDUS</th>\n",
       "      <th>CHAS</th>\n",
       "      <th>NOX</th>\n",
       "      <th>RM</th>\n",
       "      <th>AGE</th>\n",
       "      <th>DIS</th>\n",
       "      <th>RAD</th>\n",
       "      <th>TAX</th>\n",
       "      <th>PTRATIO</th>\n",
       "      <th>B</th>\n",
       "      <th>LSTAT</th>\n",
       "      <th>PRICE</th>\n",
       "    </tr>\n",
       "  </thead>\n",
       "  <tbody>\n",
       "    <tr>\n",
       "      <th>0</th>\n",
       "      <td>0.00632</td>\n",
       "      <td>18.0</td>\n",
       "      <td>2.31</td>\n",
       "      <td>0.0</td>\n",
       "      <td>0.538</td>\n",
       "      <td>6.575</td>\n",
       "      <td>65.2</td>\n",
       "      <td>4.0900</td>\n",
       "      <td>1.0</td>\n",
       "      <td>296.0</td>\n",
       "      <td>15.3</td>\n",
       "      <td>396.90</td>\n",
       "      <td>4.98</td>\n",
       "      <td>24.0</td>\n",
       "    </tr>\n",
       "    <tr>\n",
       "      <th>1</th>\n",
       "      <td>0.02731</td>\n",
       "      <td>0.0</td>\n",
       "      <td>7.07</td>\n",
       "      <td>0.0</td>\n",
       "      <td>0.469</td>\n",
       "      <td>6.421</td>\n",
       "      <td>78.9</td>\n",
       "      <td>4.9671</td>\n",
       "      <td>2.0</td>\n",
       "      <td>242.0</td>\n",
       "      <td>17.8</td>\n",
       "      <td>396.90</td>\n",
       "      <td>9.14</td>\n",
       "      <td>21.6</td>\n",
       "    </tr>\n",
       "    <tr>\n",
       "      <th>2</th>\n",
       "      <td>0.02729</td>\n",
       "      <td>0.0</td>\n",
       "      <td>7.07</td>\n",
       "      <td>0.0</td>\n",
       "      <td>0.469</td>\n",
       "      <td>7.185</td>\n",
       "      <td>61.1</td>\n",
       "      <td>4.9671</td>\n",
       "      <td>2.0</td>\n",
       "      <td>242.0</td>\n",
       "      <td>17.8</td>\n",
       "      <td>392.83</td>\n",
       "      <td>4.03</td>\n",
       "      <td>34.7</td>\n",
       "    </tr>\n",
       "    <tr>\n",
       "      <th>3</th>\n",
       "      <td>0.03237</td>\n",
       "      <td>0.0</td>\n",
       "      <td>2.18</td>\n",
       "      <td>0.0</td>\n",
       "      <td>0.458</td>\n",
       "      <td>6.998</td>\n",
       "      <td>45.8</td>\n",
       "      <td>6.0622</td>\n",
       "      <td>3.0</td>\n",
       "      <td>222.0</td>\n",
       "      <td>18.7</td>\n",
       "      <td>394.63</td>\n",
       "      <td>2.94</td>\n",
       "      <td>33.4</td>\n",
       "    </tr>\n",
       "    <tr>\n",
       "      <th>4</th>\n",
       "      <td>0.06905</td>\n",
       "      <td>0.0</td>\n",
       "      <td>2.18</td>\n",
       "      <td>0.0</td>\n",
       "      <td>0.458</td>\n",
       "      <td>7.147</td>\n",
       "      <td>54.2</td>\n",
       "      <td>6.0622</td>\n",
       "      <td>3.0</td>\n",
       "      <td>222.0</td>\n",
       "      <td>18.7</td>\n",
       "      <td>396.90</td>\n",
       "      <td>5.33</td>\n",
       "      <td>36.2</td>\n",
       "    </tr>\n",
       "  </tbody>\n",
       "</table>\n",
       "</div>"
      ],
      "text/plain": [
       "      CRIM    ZN  INDUS  CHAS    NOX     RM   AGE     DIS  RAD    TAX  \\\n",
       "0  0.00632  18.0   2.31   0.0  0.538  6.575  65.2  4.0900  1.0  296.0   \n",
       "1  0.02731   0.0   7.07   0.0  0.469  6.421  78.9  4.9671  2.0  242.0   \n",
       "2  0.02729   0.0   7.07   0.0  0.469  7.185  61.1  4.9671  2.0  242.0   \n",
       "3  0.03237   0.0   2.18   0.0  0.458  6.998  45.8  6.0622  3.0  222.0   \n",
       "4  0.06905   0.0   2.18   0.0  0.458  7.147  54.2  6.0622  3.0  222.0   \n",
       "\n",
       "   PTRATIO       B  LSTAT  PRICE  \n",
       "0     15.3  396.90   4.98   24.0  \n",
       "1     17.8  396.90   9.14   21.6  \n",
       "2     17.8  392.83   4.03   34.7  \n",
       "3     18.7  394.63   2.94   33.4  \n",
       "4     18.7  396.90   5.33   36.2  "
      ]
     },
     "execution_count": 76,
     "metadata": {},
     "output_type": "execute_result"
    }
   ],
   "source": [
    "import numpy as np\n",
    "import matplotlib.pyplot as plt\n",
    "import pandas as pd\n",
    "import seaborn as sns\n",
    "from scipy import stats\n",
    "from sklearn.datasets import load_boston\n",
    "import warnings\n",
    "warnings.filterwarnings('ignore')\n",
    "\n",
    "%matplotlib inline\n",
    "\n",
    "# boston 데이터 세트 로드\n",
    "boston = load_boston()\n",
    "\n",
    "# boston 데이터 세트 DataFrame 변환\n",
    "bostonDF = pd.DataFrame(boston.data, columns=boston.feature_names)\n",
    "\n",
    "# boston 데이터 세트의 target 배열은 주택 가겨. 이를 price 칼럼으로 DF에 추가함.\n",
    "bostonDF['PRICE'] = boston.target\n",
    "print('Boston 데이터 세트 크기 :',bostonDF.shape)\n",
    "print('Null값의 크기: ',bostonDF.isnull().sum().sum())\n",
    "bostonDF.head()"
   ]
  },
  {
   "cell_type": "code",
   "execution_count": 77,
   "id": "a0008710",
   "metadata": {},
   "outputs": [
    {
     "data": {
      "image/png": "[encoded data removed]",
      "text/plain": [
       "<Figure size 1152x576 with 8 Axes>"
      ]
     },
     "metadata": {
      "needs_background": "light"
     },
     "output_type": "display_data"
    }
   ],
   "source": [
    "# 2개의 행과 4개의 열을 가지 subplots를 이용. axs는 4x2개의 ax를 가짐.\n",
    "fig,axs = plt.subplots(figsize=(16,8),ncols=4, nrows=2)\n",
    "lm_features = ['RM','ZN','INDUS','NOX','AGE','PTRATIO','LSTAT','RAD']\n",
    "for i, feature in enumerate(lm_features):\n",
    "    row = int(i/4)\n",
    "    col = i%4\n",
    "    # 시본의 regplot을 이용해 산점도와 선형 회귀 직선을 함께 표현\n",
    "    sns.regplot(x=feature, y='PRICE', data=bostonDF, ax=axs[row][col])"
   ]
  },
  {
   "cell_type": "markdown",
   "id": "47a4f542",
   "metadata": {},
   "source": [
    "RM은 양방향의 선형성. LSTAT는 음방향의 선형성이 큼."
   ]
  },
  {
   "cell_type": "code",
   "execution_count": 89,
   "id": "e8f4c943",
   "metadata": {},
   "outputs": [
    {
     "name": "stdout",
     "output_type": "stream",
     "text": [
      "MSE : 17.297, RMSE : 4.159\n",
      "Variance score : 0.757\n"
     ]
    }
   ],
   "source": [
    "from sklearn.model_selection import train_test_split\n",
    "from sklearn.linear_model import LinearRegression\n",
    "from sklearn.metrics import mean_squared_error, r2_score\n",
    "\n",
    "y_target = bostonDF['PRICE']\n",
    "X_data = bostonDF.drop(['PRICE'], axis=1, inplace=False)\n",
    "\n",
    "X_train, X_test, y_train, y_test = train_test_split(X_data, y_target, test_size=0.3, random_state=156)\n",
    "\n",
    "# 선형 회귀 OLS로 학습/예측/평가 수행\n",
    "lr = LinearRegression()\n",
    "lr.fit(X_train, y_train)\n",
    "y_preds = lr.predict(X_test)\n",
    "mse = mean_squared_error(y_test,y_preds)\n",
    "rmse = np.sqrt(mse)\n",
    "\n",
    "print('MSE : {0:.3f}, RMSE : {1:.3f}'.format(mse, rmse))\n",
    "print('Variance score : {0:.3f}'.format(r2_score(y_test,y_preds)))"
   ]
  },
  {
   "cell_type": "code",
   "execution_count": 90,
   "id": "e1164363",
   "metadata": {},
   "outputs": [
    {
     "name": "stdout",
     "output_type": "stream",
     "text": [
      "절편 값: 40.99559517216444\n",
      "회귀 계수 값: [ -0.1   0.1   0.    3.  -19.8   3.4   0.   -1.7   0.4  -0.   -0.9   0.\n",
      "  -0.6]\n"
     ]
    }
   ],
   "source": [
    "print('절편 값:',lr.intercept_)\n",
    "print('회귀 계수 값:',np.round(lr.coef_,1))"
   ]
  },
  {
   "cell_type": "code",
   "execution_count": 91,
   "id": "a40b53b5",
   "metadata": {},
   "outputs": [
    {
     "data": {
      "text/plain": [
       "RM          3.4\n",
       "CHAS        3.0\n",
       "RAD         0.4\n",
       "ZN          0.1\n",
       "INDUS       0.0\n",
       "AGE         0.0\n",
       "TAX        -0.0\n",
       "B           0.0\n",
       "CRIM       -0.1\n",
       "LSTAT      -0.6\n",
       "PTRATIO    -0.9\n",
       "DIS        -1.7\n",
       "NOX       -19.8\n",
       "dtype: float64"
      ]
     },
     "execution_count": 91,
     "metadata": {},
     "output_type": "execute_result"
    }
   ],
   "source": [
    "# 회귀 계수를 큰 값 순으로 정렬하기 위해 Series로 생성. 인덱스 컬럼명에 유의\n",
    "coeff = pd.Series(data=np.round(lr.coef_,1), index=X_data.columns)\n",
    "coeff.sort_values(ascending=False)"
   ]
  },
  {
   "cell_type": "code",
   "execution_count": 95,
   "id": "f4c5617c",
   "metadata": {},
   "outputs": [
    {
     "name": "stdout",
     "output_type": "stream",
     "text": [
      " 5 folds 의 개별 Negative MSE scores:  [-12.46 -26.05 -33.07 -80.76 -33.31]\n",
      " 5 folds 의 개별 RSME scores:  [3.53 5.1  5.75 8.99 5.77]\n",
      " 5 folds 의 평균 RMSE : 5.829\n"
     ]
    }
   ],
   "source": [
    "from sklearn.model_selection import cross_val_score\n",
    "\n",
    "y_target = bostonDF['PRICE']\n",
    "X_data = bostonDF.drop(['PRICE'], axis=1, inplace=False)\n",
    "lr = LinearRegression()\n",
    "\n",
    "# cross_val_score()로 5 폴드 세트로 MSE를 구한 뒤 이를 기반으로 다시 RMSE를 구함\n",
    "neg_mse_scores = cross_val_score(lr, X_data, y_target, scoring='neg_mean_squared_error', cv=5)\n",
    "rmse_scores = np.sqrt(-1 * neg_mse_scores)\n",
    "avg_rmse = np.mean(rmse_scores)\n",
    "\n",
    "# cross_val_score(scoring='neg_mean_squred_error')로 반환된 값은 모두 음수\n",
    "print(' 5 folds 의 개별 Negative MSE scores: ',np.round(neg_mse_scores,2))\n",
    "print(' 5 folds 의 개별 RSME scores: ',np.round(rmse_scores,2))\n",
    "print(' 5 folds 의 평균 RMSE : {0:.3f}'.format(avg_rmse))"
   ]
  },
  {
   "cell_type": "markdown",
   "id": "9703904a",
   "metadata": {},
   "source": [
    "## 다항 회귀와 과대적합/과소적합 이해\n",
    "__다항 회귀__    \n",
    "다항회귀도 선형 회귀임. 선형/비선형 회귀를 나누는 기준은 회귀 계수가 선형/비선형인지에 여부"
   ]
  },
  {
   "cell_type": "code",
   "execution_count": 96,
   "id": "02db529e",
   "metadata": {},
   "outputs": [
    {
     "name": "stdout",
     "output_type": "stream",
     "text": [
      "일차 단항식 계수 피처:\n",
      " [[0 1]\n",
      " [2 3]]\n",
      "변환된 2차 다항식 계수 피처:\n",
      " [[1. 0. 1. 0. 0. 1.]\n",
      " [1. 2. 3. 4. 6. 9.]]\n"
     ]
    }
   ],
   "source": [
    "from sklearn.preprocessing import PolynomialFeatures\n",
    "import numpy as np\n",
    "\n",
    "# 다항식으로 변환한 단항식 생성, [[0,1],[2,3]]의 2X2 행렬 생성\n",
    "X = np.arange(4).reshape(2,2)\n",
    "print('일차 단항식 계수 피처:\\n',X)\n",
    "\n",
    "# degree = 2인 2차 다항식으로 변환하기 위해 PolynomialFeatures를 이용해 변환\n",
    "poly = PolynomialFeatures(degree=2)\n",
    "poly.fit(X)\n",
    "poly_ftr = poly.transform(X)\n",
    "print('변환된 2차 다항식 계수 피처:\\n',poly_ftr) #[1,x1,x2,x1^2,x1x2,x2^2]"
   ]
  },
  {
   "cell_type": "code",
   "execution_count": 99,
   "id": "d9eb866a",
   "metadata": {},
   "outputs": [
    {
     "name": "stdout",
     "output_type": "stream",
     "text": [
      "일차 단항식 계수 feature: \n",
      " [[0 1]\n",
      " [2 3]]\n",
      "삼차 다항식 결정값: \n",
      " [  5 125]\n"
     ]
    }
   ],
   "source": [
    "# 3차 다항식의 결정 함수식을 y=1 + 2x1 + 3x1^2 + 4x2^3으로 설정\n",
    "def polynomial_func(X):\n",
    "    y = 1 + 2*X[:,0] + 3*X[:,0]**2 + 4*X[:,1]**3\n",
    "    return y\n",
    "\n",
    "X = np.arange(4).reshape(2,2)\n",
    "print('일차 단항식 계수 feature: \\n',X)\n",
    "y = polynomial_func(X)\n",
    "print('삼차 다항식 결정값: \\n',y)"
   ]
  },
  {
   "cell_type": "code",
   "execution_count": 100,
   "id": "49173587",
   "metadata": {},
   "outputs": [
    {
     "name": "stdout",
     "output_type": "stream",
     "text": [
      "3차 다항식 계수 feature: \n",
      " [[ 1.  0.  1.  0.  0.  1.  0.  0.  0.  1.]\n",
      " [ 1.  2.  3.  4.  6.  9.  8. 12. 18. 27.]]\n",
      "Polynomial 회귀 계수\n",
      " [0.   0.18 0.18 0.36 0.54 0.72 0.72 1.08 1.62 2.34]\n",
      "Polynomial 회귀 Shape : (10,)\n"
     ]
    }
   ],
   "source": [
    "# 3차 다항식 변환\n",
    "poly_ftr = PolynomialFeatures(degree=3).fit_transform(X)\n",
    "print('3차 다항식 계수 feature: \\n',poly_ftr)\n",
    "\n",
    "# Linear Regression에 3차 다항식 계수 feature와 3차 다항식 결정값으로 학습 후 회귀 계수 확인\n",
    "model = LinearRegression()\n",
    "model.fit(poly_ftr,y)\n",
    "print('Polynomial 회귀 계수\\n', np.round(model.coef_,2))\n",
    "print('Polynomial 회귀 Shape :',model.coef_.shape)"
   ]
  },
  {
   "cell_type": "code",
   "execution_count": 104,
   "id": "d4ad7bcd",
   "metadata": {},
   "outputs": [
    {
     "name": "stdout",
     "output_type": "stream",
     "text": [
      "Polynomial 회귀 계수\n",
      " [0.   0.18 0.18 0.36 0.54 0.72 0.72 1.08 1.62 2.34]\n"
     ]
    }
   ],
   "source": [
    "from sklearn.preprocessing import PolynomialFeatures\n",
    "from sklearn.linear_model import LinearRegression\n",
    "from sklearn.pipeline import Pipeline\n",
    "import numpy as np\n",
    "\n",
    "def polynomial_func(X):\n",
    "    y = 1 + 2*X[:,0] + 3*X[:,0]**2 + 4*X[:,1]**3 # x1 = X[:,0] / x2 = x[:,1]\n",
    "    return y\n",
    "\n",
    "# Pipeline 객체로 Streamline하게 Polynomial Feature 변환과 Linear Regression을 연결\n",
    "model = Pipeline([('poly',PolynomialFeatures(degree=3)),\n",
    "                 ('linear',LinearRegression())])\n",
    "X = np.arange(4).reshape(2,2)\n",
    "y = polynomial_func(X)\n",
    "\n",
    "model = model.fit(X,y)\n",
    "\n",
    "print('Polynomial 회귀 계수\\n',np.round(model.named_steps['linear'].coef_,2))"
   ]
  },
  {
   "cell_type": "markdown",
   "id": "a14cd8cc",
   "metadata": {},
   "source": [
    "__다항 회귀를 이용한 과소적합 및 과적합 이해__    \n",
    "원래 데이터 세트는 피처 X와 target y 가 잡음이 포함된 다항식의 코사인 그래프 관계를 가지도록 만들어줌. 다항 회귀의 차수를 변화시키면서 그에 따른 회귀 예측 곡선과 예측 정확도를 비교"
   ]
  },
  {
   "cell_type": "code",
   "execution_count": 106,
   "id": "88a495c0",
   "metadata": {},
   "outputs": [],
   "source": [
    "from sklearn.preprocessing import PolynomialFeatures\n",
    "import numpy as np\n",
    "import matplotlib.pyplot as plt\n",
    "from sklearn.linear_model import LinearRegression\n",
    "from sklearn.pipeline import Pipeline\n",
    "from sklearn.model_selection import cross_val_score\n",
    "%matplotlib inline\n",
    "\n",
    "# 임의의 값으로 구성된 X값에 대해 코사인 변환 값을 반환\n",
    "def true_fun(X):\n",
    "    return np.cos(1.5*np.pi*X)\n",
    "\n",
    "# X는 0부터 1까지 30개의 임의의 값을 순서대로 샘플링한 데이터\n",
    "np.random.seed(0)\n",
    "n_samples = 30\n",
    "X = np.sort(np.random.rand(n_samples))\n",
    "\n",
    "# y값은 코사인 기반의 true_fun()에서 약간의 노이즈 변동 값을 더한 값\n",
    "y = true_fun(X) + np.random.rand(n_samples) * 0.1"
   ]
  },
  {
   "cell_type": "code",
   "execution_count": 108,
   "id": "9177542a",
   "metadata": {},
   "outputs": [
    {
     "name": "stdout",
     "output_type": "stream",
     "text": [
      "\n",
      "Degree 1 회귀 계수는 [-1.52]입니다.\n",
      "Degree 1 MSE는 0.3855980524675215입니다.\n",
      "\n",
      "Degree 4 회귀 계수는 [  1.74 -22.98  31.58 -11.24]입니다.\n",
      "Degree 4 MSE는 0.005719308263122512입니다.\n",
      "\n",
      "Degree 15 회귀 계수는 [ 1.20140000e+02 -3.59877000e+03  5.21456400e+04 -4.14487380e+05\n",
      "  1.80876311e+06 -3.38029480e+06 -6.02554528e+06  5.58407528e+07\n",
      " -1.69821186e+08  3.08621704e+08 -3.68958383e+08  2.93841862e+08\n",
      " -1.50693784e+08  4.51469375e+07 -6.01500512e+06]입니다.\n",
      "Degree 15 MSE는 42855574.41460031입니다.\n"
     ]
    },
    {
     "data": {
      "image/png": "[encoded data removed]",
      "text/plain": [
       "<Figure size 1008x360 with 3 Axes>"
      ]
     },
     "metadata": {},
     "output_type": "display_data"
    }
   ],
   "source": [
    "plt.figure(figsize=(14,5))\n",
    "degrees = [1,4,15]\n",
    "\n",
    "# 다항 회귀의 차수를 1,4,15로 각각 변화시키면서 비교\n",
    "for i in range(len(degrees)):\n",
    "    ax = plt.subplot(1, len(degrees), i+1)\n",
    "    plt.setp(ax, xticks=(), yticks=())\n",
    "    \n",
    "    # 개별 degree별로 Polynomial 변환\n",
    "    polynomial_features = PolynomialFeatures(degree=degrees[i], include_bias=False)\n",
    "    linear_regression = LinearRegression()\n",
    "    pipeline = Pipeline([('polynomial_features', polynomial_features),\n",
    "                        ('linear_regression', linear_regression)])\n",
    "    pipeline.fit(X.reshape(-1,1),y)\n",
    "    \n",
    "    # 교차 검증으로 다항 회귀 평가\n",
    "    scores = cross_val_score(pipeline, X.reshape(-1,1), y, scoring='neg_mean_squared_error', cv=10)\n",
    "    # pipeline을 구성하는 세부 객체를 접근하는 named_steps['객체명']을 이용해 회귀계수 추출\n",
    "    coefficients = pipeline.named_steps['linear_regression'].coef_\n",
    "    print('\\nDegree {0} 회귀 계수는 {1}입니다.'.format(degrees[i], np.round(coefficients,2)))\n",
    "    print('Degree {0} MSE는 {1}입니다.'.format(degrees[i], -1*np.mean(scores)))\n",
    "    \n",
    "    # 0부터 1까지 테스트 데이터 세트를 100개로 나눠 예측을 수행\n",
    "    # 테스트 데이터 세트에 회귀 예측을 수행하고 예측 곡선과 실제 곡선을 그려서 비교\n",
    "    X_test = np.linspace(0,1,100)\n",
    "    # 예측값 곡선\n",
    "    plt.plot(X_test, pipeline.predict(X_test[:,np.newaxis]), label='Model')\n",
    "    # 실제 값 곡선\n",
    "    plt.plot(X_test, true_fun(X_test),'--',label='True function') # y= 코사인 변환값\n",
    "    plt.scatter(X,y,edgecolor='b',s=20,label='Samples')\n",
    "    \n",
    "    plt.xlabel('x'); plt.ylabel('y'); plt.xlim((0,1)); plt.ylim((-2,2)); plt.legend(loc='best')\n",
    "    plt.title('Degree {}\\nMSE = {:.2e}(+/-{:.2e})'.format(degrees[i], -scores.mean(), scores.std()))\n",
    "    \n",
    "plt.show()"
   ]
  },
  {
   "cell_type": "markdown",
   "id": "48aecf9c",
   "metadata": {},
   "source": [
    "Degree 1은 단순 선형 회귀와 동일    \n",
    "Degree 4는 코사인 곡선 기반으로 테스트 데이터를 잘 예측한 곡선을 가진 모델이 됨.    \n",
    "Degree 15는 과적합이 심한 모델"
   ]
  },
  {
   "cell_type": "code",
   "execution_count": null,
   "id": "92e7185e",
   "metadata": {},
   "outputs": [],
   "source": []
  },
  {
   "cell_type": "code",
   "execution_count": null,
   "id": "38eb6f83",
   "metadata": {},
   "outputs": [],
   "source": []
  },
  {
   "cell_type": "code",
   "execution_count": null,
   "id": "5153ee7d",
   "metadata": {},
   "outputs": [],
   "source": []
  },
  {
   "cell_type": "code",
   "execution_count": null,
   "id": "26713755",
   "metadata": {},
   "outputs": [],
   "source": []
  },
  {
   "cell_type": "code",
   "execution_count": null,
   "id": "34f5f582",
   "metadata": {},
   "outputs": [],
   "source": []
  },
  {
   "cell_type": "code",
   "execution_count": null,
   "id": "a3b63082",
   "metadata": {},
   "outputs": [],
   "source": []
  }
 ],
 "metadata": {
  "kernelspec": {
   "display_name": "Python 3 (ipykernel)",
   "language": "python",
   "name": "python3"
  },
  "language_info": {
   "codemirror_mode": {
    "name": "ipython",
    "version": 3
   },
   "file_extension": ".py",
   "mimetype": "text/x-python",
   "name": "python",
   "nbconvert_exporter": "python",
   "pygments_lexer": "ipython3",
   "version": "3.9.7"
  }
 },
 "nbformat": 4,
 "nbformat_minor": 5
}
